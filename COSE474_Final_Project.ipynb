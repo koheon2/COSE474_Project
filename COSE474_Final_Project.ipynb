{
  "cells": [
    {
      "cell_type": "code",
      "source": [
        "# 라이브러리 설치\n",
        "!pip install --upgrade pip\n",
        "!pip install torch torchvision torchaudio\n",
        "!pip install ftfy regex tqdm\n",
        "!pip install git+https://github.com/openai/CLIP.git\n",
        "\n",
        "# GPU 사용 확인\n",
        "import torch\n",
        "device = \"cuda\" if torch.cuda.is_available() else \"cpu\"\n",
        "print(f\"Using device: {device}\")"
      ],
      "metadata": {
        "collapsed": true,
        "id": "2swU5U7UGM4w"
      },
      "execution_count": null,
      "outputs": []
    },
    {
      "cell_type": "code",
      "source": [
        "import numpy as np\n",
        "import matplotlib.pyplot as plt\n",
        "\n",
        "from  tqdm import tqdm\n",
        "\n",
        "import torch\n",
        "import torchvision\n",
        "import torchvision.transforms as T\n",
        "from torch.utils.data import Dataset\n",
        "from torch.utils.data import DataLoader\n",
        "from torchvision.utils import make_grid"
      ],
      "metadata": {
        "id": "u7UxcqmFw4OE"
      },
      "execution_count": 6,
      "outputs": []
    },
    {
      "cell_type": "code",
      "source": [
        "!git clone https://github.com/lvyilin/pytorch-fgvc-dataset.git"
      ],
      "metadata": {
        "colab": {
          "base_uri": "https://localhost:8080/"
        },
        "collapsed": true,
        "id": "LliUhFRNw6rj",
        "outputId": "927e138f-c87c-458f-8a3b-9aecc8f51f22"
      },
      "execution_count": 7,
      "outputs": [
        {
          "output_type": "stream",
          "name": "stdout",
          "text": [
            "Cloning into 'pytorch-fgvc-dataset'...\n",
            "remote: Enumerating objects: 32, done.\u001b[K\n",
            "remote: Counting objects: 100% (32/32), done.\u001b[K\n",
            "remote: Compressing objects: 100% (19/19), done.\u001b[K\n",
            "remote: Total 32 (delta 16), reused 29 (delta 13), pack-reused 0 (from 0)\u001b[K\n",
            "Receiving objects: 100% (32/32), 13.70 KiB | 13.70 MiB/s, done.\n",
            "Resolving deltas: 100% (16/16), done.\n"
          ]
        }
      ]
    },
    {
      "cell_type": "code",
      "source": [
        "!mv pytorch-fgvc-dataset data"
      ],
      "metadata": {
        "id": "q8Jk4pZ_xCwj"
      },
      "execution_count": 8,
      "outputs": []
    },
    {
      "cell_type": "code",
      "source": [
        "from data.aircraft import Aircraft"
      ],
      "metadata": {
        "id": "9V3hf3ZBxFh5"
      },
      "execution_count": 9,
      "outputs": []
    },
    {
      "cell_type": "code",
      "source": [
        "!mkdir data/aircraft"
      ],
      "metadata": {
        "id": "Tm-9yg7mxayn"
      },
      "execution_count": 11,
      "outputs": []
    },
    {
      "cell_type": "code",
      "source": [
        "IMG_SIZE = 224\n",
        "\n",
        "transform = T.Compose(\n",
        "    [\n",
        "        T.Resize((IMG_SIZE,IMG_SIZE)),\n",
        "        T.ToTensor(),\n",
        "        T.Normalize(mean=[0.48145466, 0.4578275, 0.40821073],\n",
        "                         std=[0.26862954, 0.26130258, 0.27577711]),\n",
        "\n",
        "    ]\n",
        ")"
      ],
      "metadata": {
        "id": "-yf1OQ8fxgZV"
      },
      "execution_count": 23,
      "outputs": []
    },
    {
      "cell_type": "code",
      "source": [
        "train_ds = Aircraft('./data/aircraft', train=True, download=True, transform=transform)\n",
        "test_ds = Aircraft('./data/aircraft', train=False, download=True, transform=transform)"
      ],
      "metadata": {
        "id": "Zg1fLsnfxauU"
      },
      "execution_count": 24,
      "outputs": []
    },
    {
      "cell_type": "code",
      "source": [
        "image_ids, targets, classes, class_to_idx = train_ds.find_classes()"
      ],
      "metadata": {
        "id": "94X6zWQu3lzX"
      },
      "execution_count": 31,
      "outputs": []
    },
    {
      "cell_type": "code",
      "source": [
        "CLASSES = [c[:-1] for c in classes]\n",
        "CLS2IDX = {c[:-1]:idx for c, idx in class_to_idx.items()}"
      ],
      "metadata": {
        "id": "2vGWUoSM3oEb"
      },
      "execution_count": 32,
      "outputs": []
    },
    {
      "cell_type": "code",
      "source": [
        "torch.cuda.empty_cache()"
      ],
      "metadata": {
        "id": "yDYvR7lb4S_w"
      },
      "execution_count": 39,
      "outputs": []
    },
    {
      "cell_type": "code",
      "source": [
        "train_dl2 = torch.utils.data.DataLoader(train_ds, batch_size=1,\n",
        "                                      pin_memory=True)\n",
        "\n",
        "test_dl = torch.utils.data.DataLoader(test_ds, batch_size=1,\n",
        "                                      pin_memory=True)"
      ],
      "metadata": {
        "id": "0kE8eY7k4Uqv"
      },
      "execution_count": 45,
      "outputs": []
    },
    {
      "cell_type": "code",
      "source": [
        "import torch\n",
        "import clip\n",
        "from torch.utils.data import DataLoader\n",
        "from tqdm import tqdm\n",
        "\n",
        "# CLIP 모델 및 토크나이저 불러오기\n",
        "device = \"cuda\" if torch.cuda.is_available() else \"cpu\"\n",
        "model, preprocess = clip.load(\"ViT-B/32\", device=device)\n",
        "\n",
        "# 데이터 로더 준비\n",
        "train_dl = DataLoader(train_ds, batch_size=32, shuffle=True, pin_memory=True)\n",
        "test_dl = DataLoader(test_ds, batch_size=32, shuffle=False, pin_memory=True)\n",
        "\n",
        "# CLASSES를 텍스트로 변환하여 텍스트 임베딩 생성\n",
        "text_inputs = torch.cat([clip.tokenize(f\"This is a photo of a {c}\") for c in CLASSES]).to(device)\n",
        "with torch.no_grad():\n",
        "    text_features = model.encode_text(text_inputs)\n",
        "    text_features /= text_features.norm(dim=-1, keepdim=True)  # 정규화\n",
        "\n",
        "# 모델 평가 모드로 설정\n",
        "model.eval()\n",
        "\n",
        "# 훈련 데이터에서 이미지 임베딩 계산\n",
        "def extract_image_features(data_loader, model):\n",
        "    all_image_features = []\n",
        "    all_labels = []\n",
        "\n",
        "    for images, labels in tqdm(data_loader):\n",
        "        images = images.to(device)\n",
        "        with torch.no_grad():\n",
        "            image_features = model.encode_image(images)\n",
        "            image_features /= image_features.norm(dim=-1, keepdim=True)  # 정규화\n",
        "        all_image_features.append(image_features)\n",
        "        all_labels.append(labels)\n",
        "\n",
        "    return torch.cat(all_image_features), torch.cat(all_labels)\n",
        "\n",
        "# 추론 및 성능 평가 함수\n",
        "def evaluate(model, data_loader, text_features, class_names):\n",
        "    correct = 0\n",
        "    total = 0\n",
        "\n",
        "    for images, labels in tqdm(data_loader):\n",
        "        images = images.to(device)\n",
        "        labels = labels.to(device)\n",
        "\n",
        "        # 이미지 임베딩 계산\n",
        "        with torch.no_grad():\n",
        "            image_features = model.encode_image(images)\n",
        "            image_features /= image_features.norm(dim=-1, keepdim=True)\n",
        "\n",
        "        # 이미지와 텍스트 임베딩 간의 유사도 계산\n",
        "        similarity = (100.0 * image_features @ text_features.T)\n",
        "        predictions = similarity.argmax(dim=-1)\n",
        "\n",
        "        # 정확도 계산\n",
        "        correct += (predictions == labels).sum().item()\n",
        "        total += labels.size(0)\n",
        "\n",
        "    accuracy = correct / total\n",
        "    print(f\"Accuracy: {accuracy * 100:.2f}%\")\n",
        "    return accuracy\n",
        "\n",
        "# 이미지 특징 벡터와 성능 평가\n",
        "print(\"Extracting features from training set...\")\n",
        "train_image_features, train_labels = extract_image_features(train_dl, model)\n",
        "\n",
        "print(\"Evaluating test set...\")\n",
        "accuracy = evaluate(model, test_dl, text_features, CLASSES)"
      ],
      "metadata": {
        "colab": {
          "base_uri": "https://localhost:8080/"
        },
        "collapsed": true,
        "id": "Bm4F9FsSO6gd",
        "outputId": "8e25b884-e5e0-4ab0-ccbc-256b2470172d"
      },
      "execution_count": 46,
      "outputs": [
        {
          "output_type": "stream",
          "name": "stdout",
          "text": [
            "Extracting features from training set...\n"
          ]
        },
        {
          "output_type": "stream",
          "name": "stderr",
          "text": [
            "\n",
            "  0%|          | 0/209 [00:00<?, ?it/s]\u001b[A\n",
            "  0%|          | 1/209 [00:00<03:24,  1.02it/s]\u001b[A\n",
            "  1%|          | 2/209 [00:01<02:18,  1.49it/s]\u001b[A\n",
            "  1%|▏         | 3/209 [00:01<01:59,  1.73it/s]\u001b[A\n",
            "  2%|▏         | 4/209 [00:02<01:45,  1.94it/s]\u001b[A\n",
            "  2%|▏         | 5/209 [00:02<01:42,  1.99it/s]\u001b[A\n",
            "  3%|▎         | 6/209 [00:03<01:37,  2.09it/s]\u001b[A\n",
            "  3%|▎         | 7/209 [00:03<01:33,  2.16it/s]\u001b[A\n",
            "  4%|▍         | 8/209 [00:04<01:32,  2.17it/s]\u001b[A\n",
            "  4%|▍         | 9/209 [00:04<01:30,  2.20it/s]\u001b[A\n",
            "  5%|▍         | 10/209 [00:05<01:32,  2.15it/s]\u001b[A\n",
            "  5%|▌         | 11/209 [00:05<01:31,  2.16it/s]\u001b[A\n",
            "  6%|▌         | 12/209 [00:05<01:31,  2.15it/s]\u001b[A\n",
            "  6%|▌         | 13/209 [00:06<01:30,  2.17it/s]\u001b[A\n",
            "  7%|▋         | 14/209 [00:06<01:30,  2.16it/s]\u001b[A\n",
            "  7%|▋         | 15/209 [00:07<01:35,  2.04it/s]\u001b[A\n",
            "  8%|▊         | 16/209 [00:08<01:47,  1.79it/s]\u001b[A\n",
            "  8%|▊         | 17/209 [00:08<01:53,  1.69it/s]\u001b[A\n",
            "  9%|▊         | 18/209 [00:09<01:59,  1.60it/s]\u001b[A\n",
            "  9%|▉         | 19/209 [00:10<02:06,  1.51it/s]\u001b[A\n",
            " 10%|▉         | 20/209 [00:11<02:12,  1.42it/s]\u001b[A\n",
            " 10%|█         | 21/209 [00:11<02:08,  1.46it/s]\u001b[A\n",
            " 11%|█         | 22/209 [00:12<01:53,  1.65it/s]\u001b[A\n",
            " 11%|█         | 23/209 [00:12<01:46,  1.74it/s]\u001b[A\n",
            " 11%|█▏        | 24/209 [00:13<01:39,  1.86it/s]\u001b[A\n",
            " 12%|█▏        | 25/209 [00:13<01:34,  1.94it/s]\u001b[A\n",
            " 12%|█▏        | 26/209 [00:13<01:28,  2.07it/s]\u001b[A\n",
            " 13%|█▎        | 27/209 [00:14<01:28,  2.06it/s]\u001b[A\n",
            " 13%|█▎        | 28/209 [00:14<01:24,  2.14it/s]\u001b[A\n",
            " 14%|█▍        | 29/209 [00:15<01:22,  2.17it/s]\u001b[A\n",
            " 14%|█▍        | 30/209 [00:15<01:22,  2.18it/s]\u001b[A\n",
            " 15%|█▍        | 31/209 [00:16<01:19,  2.24it/s]\u001b[A\n",
            " 15%|█▌        | 32/209 [00:16<01:21,  2.18it/s]\u001b[A\n",
            " 16%|█▌        | 33/209 [00:17<01:20,  2.19it/s]\u001b[A\n",
            " 16%|█▋        | 34/209 [00:17<01:19,  2.21it/s]\u001b[A\n",
            " 17%|█▋        | 35/209 [00:18<01:16,  2.27it/s]\u001b[A\n",
            " 17%|█▋        | 36/209 [00:18<01:15,  2.30it/s]\u001b[A\n",
            " 18%|█▊        | 37/209 [00:18<01:17,  2.23it/s]\u001b[A\n",
            " 18%|█▊        | 38/209 [00:19<01:16,  2.24it/s]\u001b[A\n",
            " 19%|█▊        | 39/209 [00:19<01:15,  2.25it/s]\u001b[A\n",
            " 19%|█▉        | 40/209 [00:20<01:14,  2.27it/s]\u001b[A\n",
            " 20%|█▉        | 41/209 [00:20<01:15,  2.22it/s]\u001b[A\n",
            " 20%|██        | 42/209 [00:21<01:15,  2.22it/s]\u001b[A\n",
            " 21%|██        | 43/209 [00:21<01:15,  2.20it/s]\u001b[A\n",
            " 21%|██        | 44/209 [00:22<01:27,  1.88it/s]\u001b[A\n",
            " 22%|██▏       | 45/209 [00:23<01:35,  1.73it/s]\u001b[A\n",
            " 22%|██▏       | 46/209 [00:23<01:39,  1.64it/s]\u001b[A\n",
            " 22%|██▏       | 47/209 [00:24<01:42,  1.58it/s]\u001b[A\n",
            " 23%|██▎       | 48/209 [00:25<01:45,  1.53it/s]\u001b[A\n",
            " 23%|██▎       | 49/209 [00:25<01:43,  1.54it/s]\u001b[A\n",
            " 24%|██▍       | 50/209 [00:26<01:37,  1.64it/s]\u001b[A\n",
            " 24%|██▍       | 51/209 [00:26<01:28,  1.79it/s]\u001b[A\n",
            " 25%|██▍       | 52/209 [00:27<01:23,  1.88it/s]\u001b[A\n",
            " 25%|██▌       | 53/209 [00:27<01:20,  1.94it/s]\u001b[A\n",
            " 26%|██▌       | 54/209 [00:28<01:14,  2.08it/s]\u001b[A\n",
            " 26%|██▋       | 55/209 [00:28<01:14,  2.06it/s]\u001b[A\n",
            " 27%|██▋       | 56/209 [00:29<01:14,  2.05it/s]\u001b[A\n",
            " 27%|██▋       | 57/209 [00:29<01:10,  2.14it/s]\u001b[A\n",
            " 28%|██▊       | 58/209 [00:29<01:08,  2.20it/s]\u001b[A\n",
            " 28%|██▊       | 59/209 [00:30<01:08,  2.19it/s]\u001b[A\n",
            " 29%|██▊       | 60/209 [00:30<01:06,  2.25it/s]\u001b[A\n",
            " 29%|██▉       | 61/209 [00:31<01:08,  2.16it/s]\u001b[A\n",
            " 30%|██▉       | 62/209 [00:31<01:06,  2.22it/s]\u001b[A\n",
            " 30%|███       | 63/209 [00:32<01:07,  2.17it/s]\u001b[A\n",
            " 31%|███       | 64/209 [00:32<01:05,  2.21it/s]\u001b[A\n",
            " 31%|███       | 65/209 [00:33<01:04,  2.23it/s]\u001b[A\n",
            " 32%|███▏      | 66/209 [00:33<01:04,  2.23it/s]\u001b[A\n",
            " 32%|███▏      | 67/209 [00:33<01:05,  2.17it/s]\u001b[A\n",
            " 33%|███▎      | 68/209 [00:34<01:04,  2.19it/s]\u001b[A\n",
            " 33%|███▎      | 69/209 [00:34<01:04,  2.17it/s]\u001b[A\n",
            " 33%|███▎      | 70/209 [00:35<01:03,  2.20it/s]\u001b[A\n",
            " 34%|███▍      | 71/209 [00:35<01:01,  2.26it/s]\u001b[A\n",
            " 34%|███▍      | 72/209 [00:36<01:02,  2.18it/s]\u001b[A\n",
            " 35%|███▍      | 73/209 [00:36<01:08,  1.97it/s]\u001b[A\n",
            " 35%|███▌      | 74/209 [00:37<01:17,  1.74it/s]\u001b[A\n",
            " 36%|███▌      | 75/209 [00:38<01:21,  1.65it/s]\u001b[A\n",
            " 36%|███▋      | 76/209 [00:39<01:26,  1.53it/s]\u001b[A\n",
            " 37%|███▋      | 77/209 [00:39<01:24,  1.56it/s]\u001b[A\n",
            " 37%|███▋      | 78/209 [00:40<01:26,  1.51it/s]\u001b[A\n",
            " 38%|███▊      | 79/209 [00:40<01:15,  1.72it/s]\u001b[A\n",
            " 38%|███▊      | 80/209 [00:41<01:10,  1.83it/s]\u001b[A\n",
            " 39%|███▉      | 81/209 [00:41<01:04,  1.98it/s]\u001b[A\n",
            " 39%|███▉      | 82/209 [00:42<01:02,  2.03it/s]\u001b[A\n",
            " 40%|███▉      | 83/209 [00:42<01:01,  2.05it/s]\u001b[A\n",
            " 40%|████      | 84/209 [00:42<00:59,  2.11it/s]\u001b[A\n",
            " 41%|████      | 85/209 [00:43<00:56,  2.20it/s]\u001b[A\n",
            " 41%|████      | 86/209 [00:43<00:54,  2.24it/s]\u001b[A\n",
            " 42%|████▏     | 87/209 [00:44<00:54,  2.24it/s]\u001b[A\n",
            " 42%|████▏     | 88/209 [00:44<00:54,  2.24it/s]\u001b[A\n",
            " 43%|████▎     | 89/209 [00:45<00:53,  2.23it/s]\u001b[A\n",
            " 43%|████▎     | 90/209 [00:45<00:53,  2.23it/s]\u001b[A\n",
            " 44%|████▎     | 91/209 [00:46<00:51,  2.30it/s]\u001b[A\n",
            " 44%|████▍     | 92/209 [00:46<00:51,  2.29it/s]\u001b[A\n",
            " 44%|████▍     | 93/209 [00:46<00:49,  2.32it/s]\u001b[A\n",
            " 45%|████▍     | 94/209 [00:47<00:51,  2.25it/s]\u001b[A\n",
            " 45%|████▌     | 95/209 [00:47<00:50,  2.25it/s]\u001b[A\n",
            " 46%|████▌     | 96/209 [00:48<00:49,  2.27it/s]\u001b[A\n",
            " 46%|████▋     | 97/209 [00:48<00:49,  2.24it/s]\u001b[A\n",
            " 47%|████▋     | 98/209 [00:49<00:48,  2.27it/s]\u001b[A\n",
            " 47%|████▋     | 99/209 [00:49<00:47,  2.31it/s]\u001b[A\n",
            " 48%|████▊     | 100/209 [00:49<00:46,  2.33it/s]\u001b[A\n",
            " 48%|████▊     | 101/209 [00:50<00:46,  2.33it/s]\u001b[A\n",
            " 49%|████▉     | 102/209 [00:51<00:54,  1.95it/s]\u001b[A\n",
            " 49%|████▉     | 103/209 [00:51<00:58,  1.81it/s]\u001b[A\n",
            " 50%|████▉     | 104/209 [00:52<01:02,  1.67it/s]\u001b[A\n",
            " 50%|█████     | 105/209 [00:53<01:05,  1.59it/s]\u001b[A\n",
            " 51%|█████     | 106/209 [00:53<01:06,  1.56it/s]\u001b[A\n",
            " 51%|█████     | 107/209 [00:54<01:06,  1.53it/s]\u001b[A\n",
            " 52%|█████▏    | 108/209 [00:54<00:58,  1.73it/s]\u001b[A\n",
            " 52%|█████▏    | 109/209 [00:55<00:53,  1.88it/s]\u001b[A\n",
            " 53%|█████▎    | 110/209 [00:55<00:50,  1.98it/s]\u001b[A\n",
            " 53%|█████▎    | 111/209 [00:56<00:47,  2.07it/s]\u001b[A\n",
            " 54%|█████▎    | 112/209 [00:56<00:45,  2.13it/s]\u001b[A\n",
            " 54%|█████▍    | 113/209 [00:57<00:45,  2.11it/s]\u001b[A\n",
            " 55%|█████▍    | 114/209 [00:57<00:43,  2.20it/s]\u001b[A\n",
            " 55%|█████▌    | 115/209 [00:57<00:43,  2.18it/s]\u001b[A\n",
            " 56%|█████▌    | 116/209 [00:58<00:41,  2.25it/s]\u001b[A\n",
            " 56%|█████▌    | 117/209 [00:58<00:42,  2.16it/s]\u001b[A\n",
            " 56%|█████▋    | 118/209 [00:59<00:41,  2.18it/s]\u001b[A\n",
            " 57%|█████▋    | 119/209 [00:59<00:41,  2.19it/s]\u001b[A\n",
            " 57%|█████▋    | 120/209 [01:00<00:41,  2.15it/s]\u001b[A\n",
            " 58%|█████▊    | 121/209 [01:00<00:40,  2.15it/s]\u001b[A\n",
            " 58%|█████▊    | 122/209 [01:01<00:39,  2.22it/s]\u001b[A\n",
            " 59%|█████▉    | 123/209 [01:01<00:39,  2.19it/s]\u001b[A\n",
            " 59%|█████▉    | 124/209 [01:02<00:38,  2.21it/s]\u001b[A\n",
            " 60%|█████▉    | 125/209 [01:02<00:38,  2.17it/s]\u001b[A\n",
            " 60%|██████    | 126/209 [01:03<00:38,  2.13it/s]\u001b[A\n",
            " 61%|██████    | 127/209 [01:03<00:37,  2.17it/s]\u001b[A\n",
            " 61%|██████    | 128/209 [01:03<00:36,  2.20it/s]\u001b[A\n",
            " 62%|██████▏   | 129/209 [01:04<00:36,  2.17it/s]\u001b[A\n",
            " 62%|██████▏   | 130/209 [01:05<00:39,  2.00it/s]\u001b[A\n",
            " 63%|██████▎   | 131/209 [01:05<00:44,  1.77it/s]\u001b[A\n",
            " 63%|██████▎   | 132/209 [01:06<00:45,  1.68it/s]\u001b[A\n",
            " 64%|██████▎   | 133/209 [01:07<00:48,  1.57it/s]\u001b[A\n",
            " 64%|██████▍   | 134/209 [01:07<00:49,  1.51it/s]\u001b[A\n",
            " 65%|██████▍   | 135/209 [01:08<00:48,  1.52it/s]\u001b[A\n",
            " 65%|██████▌   | 136/209 [01:09<00:45,  1.59it/s]\u001b[A\n",
            " 66%|██████▌   | 137/209 [01:09<00:41,  1.74it/s]\u001b[A\n",
            " 66%|██████▌   | 138/209 [01:09<00:38,  1.84it/s]\u001b[A\n",
            " 67%|██████▋   | 139/209 [01:10<00:36,  1.91it/s]\u001b[A\n",
            " 67%|██████▋   | 140/209 [01:10<00:34,  1.97it/s]\u001b[A\n",
            " 67%|██████▋   | 141/209 [01:11<00:34,  1.99it/s]\u001b[A\n",
            " 68%|██████▊   | 142/209 [01:11<00:32,  2.05it/s]\u001b[A\n",
            " 68%|██████▊   | 143/209 [01:12<00:31,  2.09it/s]\u001b[A\n",
            " 69%|██████▉   | 144/209 [01:12<00:31,  2.09it/s]\u001b[A\n",
            " 69%|██████▉   | 145/209 [01:13<00:30,  2.11it/s]\u001b[A\n",
            " 70%|██████▉   | 146/209 [01:13<00:29,  2.12it/s]\u001b[A\n",
            " 70%|███████   | 147/209 [01:14<00:29,  2.13it/s]\u001b[A\n",
            " 71%|███████   | 148/209 [01:14<00:28,  2.16it/s]\u001b[A\n",
            " 71%|███████▏  | 149/209 [01:15<00:27,  2.16it/s]\u001b[A\n",
            " 72%|███████▏  | 150/209 [01:15<00:27,  2.12it/s]\u001b[A\n",
            " 72%|███████▏  | 151/209 [01:16<00:26,  2.19it/s]\u001b[A\n",
            " 73%|███████▎  | 152/209 [01:16<00:25,  2.21it/s]\u001b[A\n",
            " 73%|███████▎  | 153/209 [01:16<00:25,  2.22it/s]\u001b[A\n",
            " 74%|███████▎  | 154/209 [01:17<00:25,  2.19it/s]\u001b[A\n",
            " 74%|███████▍  | 155/209 [01:17<00:25,  2.16it/s]\u001b[A\n",
            " 75%|███████▍  | 156/209 [01:18<00:23,  2.21it/s]\u001b[A\n",
            " 75%|███████▌  | 157/209 [01:18<00:23,  2.17it/s]\u001b[A\n",
            " 76%|███████▌  | 158/209 [01:19<00:25,  1.96it/s]\u001b[A\n",
            " 76%|███████▌  | 159/209 [01:20<00:29,  1.70it/s]\u001b[A\n",
            " 77%|███████▋  | 160/209 [01:20<00:30,  1.59it/s]\u001b[A\n",
            " 77%|███████▋  | 161/209 [01:21<00:31,  1.52it/s]\u001b[A\n",
            " 78%|███████▊  | 162/209 [01:22<00:30,  1.52it/s]\u001b[A\n",
            " 78%|███████▊  | 163/209 [01:23<00:31,  1.47it/s]\u001b[A\n",
            " 78%|███████▊  | 164/209 [01:23<00:27,  1.61it/s]\u001b[A\n",
            " 79%|███████▉  | 165/209 [01:23<00:24,  1.77it/s]\u001b[A\n",
            " 79%|███████▉  | 166/209 [01:24<00:22,  1.88it/s]\u001b[A\n",
            " 80%|███████▉  | 167/209 [01:24<00:20,  2.03it/s]\u001b[A\n",
            " 80%|████████  | 168/209 [01:25<00:19,  2.12it/s]\u001b[A\n",
            " 81%|████████  | 169/209 [01:25<00:18,  2.19it/s]\u001b[A\n",
            " 81%|████████▏ | 170/209 [01:26<00:17,  2.20it/s]\u001b[A\n",
            " 82%|████████▏ | 171/209 [01:26<00:17,  2.22it/s]\u001b[A\n",
            " 82%|████████▏ | 172/209 [01:26<00:16,  2.21it/s]\u001b[A\n",
            " 83%|████████▎ | 173/209 [01:27<00:16,  2.23it/s]\u001b[A\n",
            " 83%|████████▎ | 174/209 [01:27<00:16,  2.18it/s]\u001b[A\n",
            " 84%|████████▎ | 175/209 [01:28<00:15,  2.22it/s]\u001b[A\n",
            " 84%|████████▍ | 176/209 [01:28<00:15,  2.18it/s]\u001b[A\n",
            " 85%|████████▍ | 177/209 [01:29<00:14,  2.20it/s]\u001b[A\n",
            " 85%|████████▌ | 178/209 [01:29<00:14,  2.16it/s]\u001b[A\n",
            " 86%|████████▌ | 179/209 [01:30<00:13,  2.17it/s]\u001b[A\n",
            " 86%|████████▌ | 180/209 [01:30<00:13,  2.21it/s]\u001b[A\n",
            " 87%|████████▋ | 181/209 [01:31<00:12,  2.26it/s]\u001b[A\n",
            " 87%|████████▋ | 182/209 [01:31<00:12,  2.22it/s]\u001b[A\n",
            " 88%|████████▊ | 183/209 [01:31<00:11,  2.28it/s]\u001b[A\n",
            " 88%|████████▊ | 184/209 [01:32<00:10,  2.28it/s]\u001b[A\n",
            " 89%|████████▊ | 185/209 [01:32<00:10,  2.27it/s]\u001b[A\n",
            " 89%|████████▉ | 186/209 [01:33<00:11,  2.06it/s]\u001b[A\n",
            " 89%|████████▉ | 187/209 [01:34<00:11,  1.84it/s]\u001b[A\n",
            " 90%|████████▉ | 188/209 [01:34<00:12,  1.68it/s]\u001b[A\n",
            " 90%|█████████ | 189/209 [01:35<00:12,  1.58it/s]\u001b[A\n",
            " 91%|█████████ | 190/209 [01:36<00:12,  1.50it/s]\u001b[A\n",
            " 91%|█████████▏| 191/209 [01:36<00:12,  1.48it/s]\u001b[A\n",
            " 92%|█████████▏| 192/209 [01:37<00:10,  1.59it/s]\u001b[A\n",
            " 92%|█████████▏| 193/209 [01:37<00:09,  1.77it/s]\u001b[A\n",
            " 93%|█████████▎| 194/209 [01:38<00:07,  1.88it/s]\u001b[A\n",
            " 93%|█████████▎| 195/209 [01:38<00:07,  1.97it/s]\u001b[A\n",
            " 94%|█████████▍| 196/209 [01:39<00:06,  2.08it/s]\u001b[A\n",
            " 94%|█████████▍| 197/209 [01:39<00:05,  2.12it/s]\u001b[A\n",
            " 95%|█████████▍| 198/209 [01:40<00:05,  2.09it/s]\u001b[A\n",
            " 95%|█████████▌| 199/209 [01:40<00:04,  2.13it/s]\u001b[A\n",
            " 96%|█████████▌| 200/209 [01:41<00:04,  2.16it/s]\u001b[A\n",
            " 96%|█████████▌| 201/209 [01:41<00:03,  2.18it/s]\u001b[A\n",
            " 97%|█████████▋| 202/209 [01:41<00:03,  2.17it/s]\u001b[A\n",
            " 97%|█████████▋| 203/209 [01:42<00:02,  2.15it/s]\u001b[A\n",
            " 98%|█████████▊| 204/209 [01:42<00:02,  2.20it/s]\u001b[A\n",
            " 98%|█████████▊| 205/209 [01:43<00:01,  2.23it/s]\u001b[A\n",
            " 99%|█████████▊| 206/209 [01:43<00:01,  2.22it/s]\u001b[A\n",
            " 99%|█████████▉| 207/209 [01:44<00:00,  2.19it/s]\u001b[A\n",
            "100%|█████████▉| 208/209 [01:44<00:00,  2.20it/s]\u001b[A\n",
            "100%|██████████| 209/209 [01:44<00:00,  1.99it/s]\n"
          ]
        },
        {
          "output_type": "stream",
          "name": "stdout",
          "text": [
            "Evaluating test set...\n"
          ]
        },
        {
          "output_type": "stream",
          "name": "stderr",
          "text": [
            "\n",
            "  0%|          | 0/105 [00:00<?, ?it/s]\u001b[A\n",
            "  1%|          | 1/105 [00:00<00:53,  1.93it/s]\u001b[A\n",
            "  2%|▏         | 2/105 [00:00<00:48,  2.12it/s]\u001b[A\n",
            "  3%|▎         | 3/105 [00:01<00:45,  2.23it/s]\u001b[A\n",
            "  4%|▍         | 4/105 [00:01<00:45,  2.22it/s]\u001b[A\n",
            "  5%|▍         | 5/105 [00:02<00:45,  2.19it/s]\u001b[A\n",
            "  6%|▌         | 6/105 [00:03<00:54,  1.83it/s]\u001b[A\n",
            "  7%|▋         | 7/105 [00:03<00:59,  1.65it/s]\u001b[A\n",
            "  8%|▊         | 8/105 [00:04<01:04,  1.50it/s]\u001b[A\n",
            "  9%|▊         | 9/105 [00:05<01:05,  1.47it/s]\u001b[A\n",
            " 10%|▉         | 10/105 [00:06<01:07,  1.40it/s]\u001b[A\n",
            " 10%|█         | 11/105 [00:06<01:05,  1.44it/s]\u001b[A\n",
            " 11%|█▏        | 12/105 [00:07<00:56,  1.63it/s]\u001b[A\n",
            " 12%|█▏        | 13/105 [00:07<00:52,  1.77it/s]\u001b[A\n",
            " 13%|█▎        | 14/105 [00:08<00:47,  1.90it/s]\u001b[A\n",
            " 14%|█▍        | 15/105 [00:08<00:45,  1.98it/s]\u001b[A\n",
            " 15%|█▌        | 16/105 [00:08<00:45,  1.97it/s]\u001b[A\n",
            " 16%|█▌        | 17/105 [00:09<00:43,  2.04it/s]\u001b[A\n",
            " 17%|█▋        | 18/105 [00:09<00:41,  2.08it/s]\u001b[A\n",
            " 18%|█▊        | 19/105 [00:10<00:41,  2.09it/s]\u001b[A\n",
            " 19%|█▉        | 20/105 [00:10<00:40,  2.11it/s]\u001b[A\n",
            " 20%|██        | 21/105 [00:11<00:40,  2.08it/s]\u001b[A\n",
            " 21%|██        | 22/105 [00:11<00:39,  2.11it/s]\u001b[A\n",
            " 22%|██▏       | 23/105 [00:12<00:37,  2.20it/s]\u001b[A\n",
            " 23%|██▎       | 24/105 [00:12<00:36,  2.22it/s]\u001b[A\n",
            " 24%|██▍       | 25/105 [00:13<00:37,  2.14it/s]\u001b[A\n",
            " 25%|██▍       | 26/105 [00:13<00:38,  2.07it/s]\u001b[A\n",
            " 26%|██▌       | 27/105 [00:14<00:37,  2.10it/s]\u001b[A\n",
            " 27%|██▋       | 28/105 [00:14<00:37,  2.04it/s]\u001b[A\n",
            " 28%|██▊       | 29/105 [00:15<00:35,  2.12it/s]\u001b[A\n",
            " 29%|██▊       | 30/105 [00:15<00:34,  2.15it/s]\u001b[A\n",
            " 30%|██▉       | 31/105 [00:15<00:33,  2.19it/s]\u001b[A\n",
            " 30%|███       | 32/105 [00:16<00:32,  2.28it/s]\u001b[A\n",
            " 31%|███▏      | 33/105 [00:16<00:36,  2.00it/s]\u001b[A\n",
            " 32%|███▏      | 34/105 [00:17<00:41,  1.72it/s]\u001b[A\n",
            " 33%|███▎      | 35/105 [00:18<00:44,  1.58it/s]\u001b[A\n",
            " 34%|███▍      | 36/105 [00:19<00:45,  1.51it/s]\u001b[A\n",
            " 35%|███▌      | 37/105 [00:19<00:46,  1.47it/s]\u001b[A\n",
            " 36%|███▌      | 38/105 [00:20<00:45,  1.48it/s]\u001b[A\n",
            " 37%|███▋      | 39/105 [00:21<00:40,  1.64it/s]\u001b[A\n",
            " 38%|███▊      | 40/105 [00:21<00:37,  1.75it/s]\u001b[A\n",
            " 39%|███▉      | 41/105 [00:22<00:35,  1.81it/s]\u001b[A\n",
            " 40%|████      | 42/105 [00:22<00:33,  1.85it/s]\u001b[A\n",
            " 41%|████      | 43/105 [00:23<00:31,  1.98it/s]\u001b[A\n",
            " 42%|████▏     | 44/105 [00:23<00:30,  2.01it/s]\u001b[A\n",
            " 43%|████▎     | 45/105 [00:24<00:29,  2.01it/s]\u001b[A\n",
            " 44%|████▍     | 46/105 [00:24<00:29,  2.03it/s]\u001b[A\n",
            " 45%|████▍     | 47/105 [00:24<00:28,  2.01it/s]\u001b[A\n",
            " 46%|████▌     | 48/105 [00:25<00:28,  2.00it/s]\u001b[A\n",
            " 47%|████▋     | 49/105 [00:26<00:28,  1.98it/s]\u001b[A\n",
            " 48%|████▊     | 50/105 [00:26<00:27,  1.99it/s]\u001b[A\n",
            " 49%|████▊     | 51/105 [00:27<00:26,  2.00it/s]\u001b[A\n",
            " 50%|████▉     | 52/105 [00:27<00:26,  1.98it/s]\u001b[A\n",
            " 50%|█████     | 53/105 [00:28<00:26,  1.99it/s]\u001b[A\n",
            " 51%|█████▏    | 54/105 [00:28<00:25,  1.99it/s]\u001b[A\n",
            " 52%|█████▏    | 55/105 [00:28<00:24,  2.04it/s]\u001b[A\n",
            " 53%|█████▎    | 56/105 [00:29<00:22,  2.15it/s]\u001b[A\n",
            " 54%|█████▍    | 57/105 [00:29<00:22,  2.17it/s]\u001b[A\n",
            " 55%|█████▌    | 58/105 [00:30<00:21,  2.17it/s]\u001b[A\n",
            " 56%|█████▌    | 59/105 [00:30<00:20,  2.25it/s]\u001b[A\n",
            " 57%|█████▋    | 60/105 [00:32<00:35,  1.28it/s]\u001b[A\n",
            " 58%|█████▊    | 61/105 [00:33<00:35,  1.23it/s]\u001b[A\n",
            " 59%|█████▉    | 62/105 [00:33<00:34,  1.26it/s]\u001b[A\n",
            " 60%|██████    | 63/105 [00:34<00:32,  1.31it/s]\u001b[A\n",
            " 61%|██████    | 64/105 [00:35<00:30,  1.34it/s]\u001b[A\n",
            " 62%|██████▏   | 65/105 [00:35<00:27,  1.47it/s]\u001b[A\n",
            " 63%|██████▎   | 66/105 [00:36<00:24,  1.59it/s]\u001b[A\n",
            " 64%|██████▍   | 67/105 [00:36<00:22,  1.67it/s]\u001b[A\n",
            " 65%|██████▍   | 68/105 [00:37<00:21,  1.74it/s]\u001b[A\n",
            " 66%|██████▌   | 69/105 [00:37<00:20,  1.74it/s]\u001b[A\n",
            " 67%|██████▋   | 70/105 [00:38<00:19,  1.76it/s]\u001b[A\n",
            " 68%|██████▊   | 71/105 [00:39<00:18,  1.84it/s]\u001b[A\n",
            " 69%|██████▊   | 72/105 [00:39<00:17,  1.90it/s]\u001b[A\n",
            " 70%|██████▉   | 73/105 [00:40<00:16,  1.91it/s]\u001b[A\n",
            " 70%|███████   | 74/105 [00:40<00:16,  1.90it/s]\u001b[A\n",
            " 71%|███████▏  | 75/105 [00:41<00:15,  1.94it/s]\u001b[A\n",
            " 72%|███████▏  | 76/105 [00:41<00:15,  1.89it/s]\u001b[A\n",
            " 73%|███████▎  | 77/105 [00:42<00:14,  1.95it/s]\u001b[A\n",
            " 74%|███████▍  | 78/105 [00:42<00:14,  1.90it/s]\u001b[A\n",
            " 75%|███████▌  | 79/105 [00:43<00:13,  1.91it/s]\u001b[A\n",
            " 76%|███████▌  | 80/105 [00:43<00:13,  1.89it/s]\u001b[A\n",
            " 77%|███████▋  | 81/105 [00:44<00:12,  2.00it/s]\u001b[A\n",
            " 78%|███████▊  | 82/105 [00:44<00:11,  1.96it/s]\u001b[A\n",
            " 79%|███████▉  | 83/105 [00:45<00:11,  1.94it/s]\u001b[A\n",
            " 80%|████████  | 84/105 [00:45<00:11,  1.79it/s]\u001b[A\n",
            " 81%|████████  | 85/105 [00:46<00:13,  1.53it/s]\u001b[A\n",
            " 82%|████████▏ | 86/105 [00:47<00:13,  1.44it/s]\u001b[A\n",
            " 83%|████████▎ | 87/105 [00:48<00:12,  1.42it/s]\u001b[A\n",
            " 84%|████████▍ | 88/105 [00:48<00:11,  1.43it/s]\u001b[A\n",
            " 85%|████████▍ | 89/105 [00:49<00:11,  1.45it/s]\u001b[A\n",
            " 86%|████████▌ | 90/105 [00:50<00:09,  1.57it/s]\u001b[A\n",
            " 87%|████████▋ | 91/105 [00:50<00:08,  1.69it/s]\u001b[A\n",
            " 88%|████████▊ | 92/105 [00:51<00:07,  1.80it/s]\u001b[A\n",
            " 89%|████████▊ | 93/105 [00:51<00:06,  1.87it/s]\u001b[A\n",
            " 90%|████████▉ | 94/105 [00:52<00:05,  1.92it/s]\u001b[A\n",
            " 90%|█████████ | 95/105 [00:52<00:05,  1.98it/s]\u001b[A\n",
            " 91%|█████████▏| 96/105 [00:53<00:04,  1.97it/s]\u001b[A\n",
            " 92%|█████████▏| 97/105 [00:53<00:03,  2.03it/s]\u001b[A\n",
            " 93%|█████████▎| 98/105 [00:53<00:03,  2.00it/s]\u001b[A\n",
            " 94%|█████████▍| 99/105 [00:54<00:02,  2.05it/s]\u001b[A\n",
            " 95%|█████████▌| 100/105 [00:54<00:02,  2.03it/s]\u001b[A\n",
            " 96%|█████████▌| 101/105 [00:55<00:02,  1.97it/s]\u001b[A\n",
            " 97%|█████████▋| 102/105 [00:55<00:01,  2.02it/s]\u001b[A\n",
            " 98%|█████████▊| 103/105 [00:56<00:00,  2.10it/s]\u001b[A\n",
            "100%|██████████| 105/105 [00:56<00:00,  1.84it/s]"
          ]
        },
        {
          "output_type": "stream",
          "name": "stdout",
          "text": [
            "Accuracy: 17.97%\n"
          ]
        },
        {
          "output_type": "stream",
          "name": "stderr",
          "text": [
            "\n"
          ]
        }
      ]
    },
    {
      "cell_type": "code",
      "source": [
        "import torch.nn as nn\n",
        "\n",
        "class SPPR(nn.Module):\n",
        "    def __init__(self, feature_dim):\n",
        "        super(SPPR, self).__init__()\n",
        "        self.transform_new = nn.Sequential(\n",
        "            nn.Conv1d(feature_dim, feature_dim, kernel_size=1),\n",
        "            nn.BatchNorm1d(feature_dim),\n",
        "            nn.ReLU()\n",
        "        )\n",
        "        self.transform_old = nn.Sequential(\n",
        "            nn.Conv1d(feature_dim, feature_dim, kernel_size=1),\n",
        "            nn.BatchNorm1d(feature_dim),\n",
        "            nn.ReLU()\n",
        "        )\n",
        "\n",
        "    def forward(self, new_embeddings, old_prototypes):\n",
        "        new_projected = self.transform_new(new_embeddings)\n",
        "        old_projected = self.transform_old(old_prototypes)\n",
        "\n",
        "        # 코사인 유사도로 관계 매트릭스 생성\n",
        "        relation_matrix = torch.matmul(new_projected, old_projected.T)\n",
        "\n",
        "        # 프로토타입 업데이트\n",
        "        refined_prototypes = torch.matmul(relation_matrix, old_prototypes)\n",
        "        return refined_prototypes"
      ],
      "metadata": {
        "id": "8CZQnajH_o1u"
      },
      "execution_count": 93,
      "outputs": []
    },
    {
      "cell_type": "code",
      "source": [
        "# SPPR 객체 생성\n",
        "feature_dim = 512  # CLIP 모델의 특징 차원\n",
        "sppr = SPPR(feature_dim=feature_dim).to(device)"
      ],
      "metadata": {
        "id": "SwD2GBjTAFcV"
      },
      "execution_count": 94,
      "outputs": []
    },
    {
      "cell_type": "code",
      "source": [
        "# FGVC-Aircraft 데이터셋의 전체 클래스 수\n",
        "total_classes = len(CLASSES)  # FGVC 데이터셋의 클래스 수\n",
        "classes_per_session = 5  # 한 세션에 추가되는 클래스 수\n",
        "\n",
        "# 세션별 클래스 분리\n",
        "incremental_sessions = [\n",
        "    CLASSES[i:i + classes_per_session]\n",
        "    for i in range(0, total_classes, classes_per_session)\n",
        "]"
      ],
      "metadata": {
        "id": "ZRBIYVA5AOit"
      },
      "execution_count": 121,
      "outputs": []
    },
    {
      "cell_type": "code",
      "source": [
        "from torch.utils.data import DataLoader, Subset\n",
        "\n",
        "def create_session_loader(dataset, session_classes, batch_size=32):\n",
        "    # 세션 클래스에 해당하는 인덱스 필터링\n",
        "    indices = [i for i in range(len(dataset)) if dataset[i][1] in session_classes]\n",
        "    session_subset = Subset(dataset, indices)\n",
        "    return DataLoader(session_subset, batch_size=batch_size, shuffle=True)"
      ],
      "metadata": {
        "id": "MyNSrTymAQzz"
      },
      "execution_count": 123,
      "outputs": []
    },
    {
      "cell_type": "code",
      "source": [
        "cached_labels = [label for _, label in train_ds.samples]\n",
        "\n",
        "def create_session_loader(dataset, session_classes, batch_size=32):\n",
        "    # 세션 클래스에 해당하는 인덱스 필터링\n",
        "    indices = [i for i in range(len(dataset)) if dataset[i][1] in session_classes]\n",
        "    session_subset = Subset(dataset, indices)\n",
        "    return DataLoader(session_subset, batch_size=batch_size, shuffle=True)\n",
        "\n",
        "# 세션별 데이터 로더 생성\n",
        "session_loaders = [\n",
        "    create_session_loader(dataset=train_ds, session_classes=session_classes, batch_size=32)\n",
        "    for session_classes in incremental_sessions\n",
        "]"
      ],
      "metadata": {
        "colab": {
          "base_uri": "https://localhost:8080/",
          "height": 375
        },
        "collapsed": true,
        "id": "1VdrxyAEAyx2",
        "outputId": "65b5e386-8292-46b3-eb9b-4bb892436e4f"
      },
      "execution_count": 130,
      "outputs": [
        {
          "output_type": "error",
          "ename": "KeyboardInterrupt",
          "evalue": "",
          "traceback": [
            "\u001b[0;31m---------------------------------------------------------------------------\u001b[0m",
            "\u001b[0;31mKeyboardInterrupt\u001b[0m                         Traceback (most recent call last)",
            "\u001b[0;32m<ipython-input-130-3b19092f0e3b>\u001b[0m in \u001b[0;36m<cell line: 10>\u001b[0;34m()\u001b[0m\n\u001b[1;32m      8\u001b[0m \u001b[0;34m\u001b[0m\u001b[0m\n\u001b[1;32m      9\u001b[0m \u001b[0;31m# 세션별 데이터 로더 생성\u001b[0m\u001b[0;34m\u001b[0m\u001b[0;34m\u001b[0m\u001b[0m\n\u001b[0;32m---> 10\u001b[0;31m session_loaders = [\n\u001b[0m\u001b[1;32m     11\u001b[0m     \u001b[0mcreate_session_loader\u001b[0m\u001b[0;34m(\u001b[0m\u001b[0mdataset\u001b[0m\u001b[0;34m=\u001b[0m\u001b[0mtrain_ds\u001b[0m\u001b[0;34m,\u001b[0m \u001b[0msession_classes\u001b[0m\u001b[0;34m=\u001b[0m\u001b[0msession_classes\u001b[0m\u001b[0;34m,\u001b[0m \u001b[0mbatch_size\u001b[0m\u001b[0;34m=\u001b[0m\u001b[0;36m32\u001b[0m\u001b[0;34m)\u001b[0m\u001b[0;34m\u001b[0m\u001b[0;34m\u001b[0m\u001b[0m\n\u001b[1;32m     12\u001b[0m     \u001b[0;32mfor\u001b[0m \u001b[0msession_classes\u001b[0m \u001b[0;32min\u001b[0m \u001b[0mincremental_sessions\u001b[0m\u001b[0;34m\u001b[0m\u001b[0;34m\u001b[0m\u001b[0m\n",
            "\u001b[0;32m<ipython-input-130-3b19092f0e3b>\u001b[0m in \u001b[0;36m<listcomp>\u001b[0;34m(.0)\u001b[0m\n\u001b[1;32m      9\u001b[0m \u001b[0;31m# 세션별 데이터 로더 생성\u001b[0m\u001b[0;34m\u001b[0m\u001b[0;34m\u001b[0m\u001b[0m\n\u001b[1;32m     10\u001b[0m session_loaders = [\n\u001b[0;32m---> 11\u001b[0;31m     \u001b[0mcreate_session_loader\u001b[0m\u001b[0;34m(\u001b[0m\u001b[0mdataset\u001b[0m\u001b[0;34m=\u001b[0m\u001b[0mtrain_ds\u001b[0m\u001b[0;34m,\u001b[0m \u001b[0msession_classes\u001b[0m\u001b[0;34m=\u001b[0m\u001b[0msession_classes\u001b[0m\u001b[0;34m,\u001b[0m \u001b[0mbatch_size\u001b[0m\u001b[0;34m=\u001b[0m\u001b[0;36m32\u001b[0m\u001b[0;34m)\u001b[0m\u001b[0;34m\u001b[0m\u001b[0;34m\u001b[0m\u001b[0m\n\u001b[0m\u001b[1;32m     12\u001b[0m     \u001b[0;32mfor\u001b[0m \u001b[0msession_classes\u001b[0m \u001b[0;32min\u001b[0m \u001b[0mincremental_sessions\u001b[0m\u001b[0;34m\u001b[0m\u001b[0;34m\u001b[0m\u001b[0m\n\u001b[1;32m     13\u001b[0m ]\n",
            "\u001b[0;32m<ipython-input-130-3b19092f0e3b>\u001b[0m in \u001b[0;36mcreate_session_loader\u001b[0;34m(dataset, session_classes, batch_size)\u001b[0m\n\u001b[1;32m      3\u001b[0m \u001b[0;32mdef\u001b[0m \u001b[0mcreate_session_loader\u001b[0m\u001b[0;34m(\u001b[0m\u001b[0mdataset\u001b[0m\u001b[0;34m,\u001b[0m \u001b[0msession_classes\u001b[0m\u001b[0;34m,\u001b[0m \u001b[0mbatch_size\u001b[0m\u001b[0;34m=\u001b[0m\u001b[0;36m32\u001b[0m\u001b[0;34m)\u001b[0m\u001b[0;34m:\u001b[0m\u001b[0;34m\u001b[0m\u001b[0;34m\u001b[0m\u001b[0m\n\u001b[1;32m      4\u001b[0m     \u001b[0;31m# 세션 클래스에 해당하는 인덱스 필터링\u001b[0m\u001b[0;34m\u001b[0m\u001b[0;34m\u001b[0m\u001b[0m\n\u001b[0;32m----> 5\u001b[0;31m     \u001b[0mindices\u001b[0m \u001b[0;34m=\u001b[0m \u001b[0;34m[\u001b[0m\u001b[0mi\u001b[0m \u001b[0;32mfor\u001b[0m \u001b[0mi\u001b[0m \u001b[0;32min\u001b[0m \u001b[0mrange\u001b[0m\u001b[0;34m(\u001b[0m\u001b[0mlen\u001b[0m\u001b[0;34m(\u001b[0m\u001b[0mdataset\u001b[0m\u001b[0;34m)\u001b[0m\u001b[0;34m)\u001b[0m \u001b[0;32mif\u001b[0m \u001b[0mdataset\u001b[0m\u001b[0;34m[\u001b[0m\u001b[0mi\u001b[0m\u001b[0;34m]\u001b[0m\u001b[0;34m[\u001b[0m\u001b[0;36m1\u001b[0m\u001b[0;34m]\u001b[0m \u001b[0;32min\u001b[0m \u001b[0msession_classes\u001b[0m\u001b[0;34m]\u001b[0m\u001b[0;34m\u001b[0m\u001b[0;34m\u001b[0m\u001b[0m\n\u001b[0m\u001b[1;32m      6\u001b[0m     \u001b[0msession_subset\u001b[0m \u001b[0;34m=\u001b[0m \u001b[0mSubset\u001b[0m\u001b[0;34m(\u001b[0m\u001b[0mdataset\u001b[0m\u001b[0;34m,\u001b[0m \u001b[0mindices\u001b[0m\u001b[0;34m)\u001b[0m\u001b[0;34m\u001b[0m\u001b[0;34m\u001b[0m\u001b[0m\n\u001b[1;32m      7\u001b[0m     \u001b[0;32mreturn\u001b[0m \u001b[0mDataLoader\u001b[0m\u001b[0;34m(\u001b[0m\u001b[0msession_subset\u001b[0m\u001b[0;34m,\u001b[0m \u001b[0mbatch_size\u001b[0m\u001b[0;34m=\u001b[0m\u001b[0mbatch_size\u001b[0m\u001b[0;34m,\u001b[0m \u001b[0mshuffle\u001b[0m\u001b[0;34m=\u001b[0m\u001b[0;32mTrue\u001b[0m\u001b[0;34m)\u001b[0m\u001b[0;34m\u001b[0m\u001b[0;34m\u001b[0m\u001b[0m\n",
            "\u001b[0;32m<ipython-input-130-3b19092f0e3b>\u001b[0m in \u001b[0;36m<listcomp>\u001b[0;34m(.0)\u001b[0m\n\u001b[1;32m      3\u001b[0m \u001b[0;32mdef\u001b[0m \u001b[0mcreate_session_loader\u001b[0m\u001b[0;34m(\u001b[0m\u001b[0mdataset\u001b[0m\u001b[0;34m,\u001b[0m \u001b[0msession_classes\u001b[0m\u001b[0;34m,\u001b[0m \u001b[0mbatch_size\u001b[0m\u001b[0;34m=\u001b[0m\u001b[0;36m32\u001b[0m\u001b[0;34m)\u001b[0m\u001b[0;34m:\u001b[0m\u001b[0;34m\u001b[0m\u001b[0;34m\u001b[0m\u001b[0m\n\u001b[1;32m      4\u001b[0m     \u001b[0;31m# 세션 클래스에 해당하는 인덱스 필터링\u001b[0m\u001b[0;34m\u001b[0m\u001b[0;34m\u001b[0m\u001b[0m\n\u001b[0;32m----> 5\u001b[0;31m     \u001b[0mindices\u001b[0m \u001b[0;34m=\u001b[0m \u001b[0;34m[\u001b[0m\u001b[0mi\u001b[0m \u001b[0;32mfor\u001b[0m \u001b[0mi\u001b[0m \u001b[0;32min\u001b[0m \u001b[0mrange\u001b[0m\u001b[0;34m(\u001b[0m\u001b[0mlen\u001b[0m\u001b[0;34m(\u001b[0m\u001b[0mdataset\u001b[0m\u001b[0;34m)\u001b[0m\u001b[0;34m)\u001b[0m \u001b[0;32mif\u001b[0m \u001b[0mdataset\u001b[0m\u001b[0;34m[\u001b[0m\u001b[0mi\u001b[0m\u001b[0;34m]\u001b[0m\u001b[0;34m[\u001b[0m\u001b[0;36m1\u001b[0m\u001b[0;34m]\u001b[0m \u001b[0;32min\u001b[0m \u001b[0msession_classes\u001b[0m\u001b[0;34m]\u001b[0m\u001b[0;34m\u001b[0m\u001b[0;34m\u001b[0m\u001b[0m\n\u001b[0m\u001b[1;32m      6\u001b[0m     \u001b[0msession_subset\u001b[0m \u001b[0;34m=\u001b[0m \u001b[0mSubset\u001b[0m\u001b[0;34m(\u001b[0m\u001b[0mdataset\u001b[0m\u001b[0;34m,\u001b[0m \u001b[0mindices\u001b[0m\u001b[0;34m)\u001b[0m\u001b[0;34m\u001b[0m\u001b[0;34m\u001b[0m\u001b[0m\n\u001b[1;32m      7\u001b[0m     \u001b[0;32mreturn\u001b[0m \u001b[0mDataLoader\u001b[0m\u001b[0;34m(\u001b[0m\u001b[0msession_subset\u001b[0m\u001b[0;34m,\u001b[0m \u001b[0mbatch_size\u001b[0m\u001b[0;34m=\u001b[0m\u001b[0mbatch_size\u001b[0m\u001b[0;34m,\u001b[0m \u001b[0mshuffle\u001b[0m\u001b[0;34m=\u001b[0m\u001b[0;32mTrue\u001b[0m\u001b[0;34m)\u001b[0m\u001b[0;34m\u001b[0m\u001b[0;34m\u001b[0m\u001b[0m\n",
            "\u001b[0;32m/content/data/aircraft.py\u001b[0m in \u001b[0;36m__getitem__\u001b[0;34m(self, index)\u001b[0m\n\u001b[1;32m     62\u001b[0m         \u001b[0msample\u001b[0m \u001b[0;34m=\u001b[0m \u001b[0mself\u001b[0m\u001b[0;34m.\u001b[0m\u001b[0mloader\u001b[0m\u001b[0;34m(\u001b[0m\u001b[0mpath\u001b[0m\u001b[0;34m)\u001b[0m\u001b[0;34m\u001b[0m\u001b[0;34m\u001b[0m\u001b[0m\n\u001b[1;32m     63\u001b[0m         \u001b[0;32mif\u001b[0m \u001b[0mself\u001b[0m\u001b[0;34m.\u001b[0m\u001b[0mtransform\u001b[0m \u001b[0;32mis\u001b[0m \u001b[0;32mnot\u001b[0m \u001b[0;32mNone\u001b[0m\u001b[0;34m:\u001b[0m\u001b[0;34m\u001b[0m\u001b[0;34m\u001b[0m\u001b[0m\n\u001b[0;32m---> 64\u001b[0;31m             \u001b[0msample\u001b[0m \u001b[0;34m=\u001b[0m \u001b[0mself\u001b[0m\u001b[0;34m.\u001b[0m\u001b[0mtransform\u001b[0m\u001b[0;34m(\u001b[0m\u001b[0msample\u001b[0m\u001b[0;34m)\u001b[0m\u001b[0;34m\u001b[0m\u001b[0;34m\u001b[0m\u001b[0m\n\u001b[0m\u001b[1;32m     65\u001b[0m         \u001b[0;32mif\u001b[0m \u001b[0mself\u001b[0m\u001b[0;34m.\u001b[0m\u001b[0mtarget_transform\u001b[0m \u001b[0;32mis\u001b[0m \u001b[0;32mnot\u001b[0m \u001b[0;32mNone\u001b[0m\u001b[0;34m:\u001b[0m\u001b[0;34m\u001b[0m\u001b[0;34m\u001b[0m\u001b[0m\n\u001b[1;32m     66\u001b[0m             \u001b[0mtarget\u001b[0m \u001b[0;34m=\u001b[0m \u001b[0mself\u001b[0m\u001b[0;34m.\u001b[0m\u001b[0mtarget_transform\u001b[0m\u001b[0;34m(\u001b[0m\u001b[0mtarget\u001b[0m\u001b[0;34m)\u001b[0m\u001b[0;34m\u001b[0m\u001b[0;34m\u001b[0m\u001b[0m\n",
            "\u001b[0;32m/usr/local/lib/python3.10/dist-packages/torchvision/transforms/transforms.py\u001b[0m in \u001b[0;36m__call__\u001b[0;34m(self, img)\u001b[0m\n\u001b[1;32m     93\u001b[0m     \u001b[0;32mdef\u001b[0m \u001b[0m__call__\u001b[0m\u001b[0;34m(\u001b[0m\u001b[0mself\u001b[0m\u001b[0;34m,\u001b[0m \u001b[0mimg\u001b[0m\u001b[0;34m)\u001b[0m\u001b[0;34m:\u001b[0m\u001b[0;34m\u001b[0m\u001b[0;34m\u001b[0m\u001b[0m\n\u001b[1;32m     94\u001b[0m         \u001b[0;32mfor\u001b[0m \u001b[0mt\u001b[0m \u001b[0;32min\u001b[0m \u001b[0mself\u001b[0m\u001b[0;34m.\u001b[0m\u001b[0mtransforms\u001b[0m\u001b[0;34m:\u001b[0m\u001b[0;34m\u001b[0m\u001b[0;34m\u001b[0m\u001b[0m\n\u001b[0;32m---> 95\u001b[0;31m             \u001b[0mimg\u001b[0m \u001b[0;34m=\u001b[0m \u001b[0mt\u001b[0m\u001b[0;34m(\u001b[0m\u001b[0mimg\u001b[0m\u001b[0;34m)\u001b[0m\u001b[0;34m\u001b[0m\u001b[0;34m\u001b[0m\u001b[0m\n\u001b[0m\u001b[1;32m     96\u001b[0m         \u001b[0;32mreturn\u001b[0m \u001b[0mimg\u001b[0m\u001b[0;34m\u001b[0m\u001b[0;34m\u001b[0m\u001b[0m\n\u001b[1;32m     97\u001b[0m \u001b[0;34m\u001b[0m\u001b[0m\n",
            "\u001b[0;32m/usr/local/lib/python3.10/dist-packages/torch/nn/modules/module.py\u001b[0m in \u001b[0;36m_wrapped_call_impl\u001b[0;34m(self, *args, **kwargs)\u001b[0m\n\u001b[1;32m   1734\u001b[0m             \u001b[0;32mreturn\u001b[0m \u001b[0mself\u001b[0m\u001b[0;34m.\u001b[0m\u001b[0m_compiled_call_impl\u001b[0m\u001b[0;34m(\u001b[0m\u001b[0;34m*\u001b[0m\u001b[0margs\u001b[0m\u001b[0;34m,\u001b[0m \u001b[0;34m**\u001b[0m\u001b[0mkwargs\u001b[0m\u001b[0;34m)\u001b[0m  \u001b[0;31m# type: ignore[misc]\u001b[0m\u001b[0;34m\u001b[0m\u001b[0;34m\u001b[0m\u001b[0m\n\u001b[1;32m   1735\u001b[0m         \u001b[0;32melse\u001b[0m\u001b[0;34m:\u001b[0m\u001b[0;34m\u001b[0m\u001b[0;34m\u001b[0m\u001b[0m\n\u001b[0;32m-> 1736\u001b[0;31m             \u001b[0;32mreturn\u001b[0m \u001b[0mself\u001b[0m\u001b[0;34m.\u001b[0m\u001b[0m_call_impl\u001b[0m\u001b[0;34m(\u001b[0m\u001b[0;34m*\u001b[0m\u001b[0margs\u001b[0m\u001b[0;34m,\u001b[0m \u001b[0;34m**\u001b[0m\u001b[0mkwargs\u001b[0m\u001b[0;34m)\u001b[0m\u001b[0;34m\u001b[0m\u001b[0;34m\u001b[0m\u001b[0m\n\u001b[0m\u001b[1;32m   1737\u001b[0m \u001b[0;34m\u001b[0m\u001b[0m\n\u001b[1;32m   1738\u001b[0m     \u001b[0;31m# torchrec tests the code consistency with the following code\u001b[0m\u001b[0;34m\u001b[0m\u001b[0;34m\u001b[0m\u001b[0m\n",
            "\u001b[0;32m/usr/local/lib/python3.10/dist-packages/torch/nn/modules/module.py\u001b[0m in \u001b[0;36m_call_impl\u001b[0;34m(self, *args, **kwargs)\u001b[0m\n\u001b[1;32m   1745\u001b[0m                 \u001b[0;32mor\u001b[0m \u001b[0m_global_backward_pre_hooks\u001b[0m \u001b[0;32mor\u001b[0m \u001b[0m_global_backward_hooks\u001b[0m\u001b[0;34m\u001b[0m\u001b[0;34m\u001b[0m\u001b[0m\n\u001b[1;32m   1746\u001b[0m                 or _global_forward_hooks or _global_forward_pre_hooks):\n\u001b[0;32m-> 1747\u001b[0;31m             \u001b[0;32mreturn\u001b[0m \u001b[0mforward_call\u001b[0m\u001b[0;34m(\u001b[0m\u001b[0;34m*\u001b[0m\u001b[0margs\u001b[0m\u001b[0;34m,\u001b[0m \u001b[0;34m**\u001b[0m\u001b[0mkwargs\u001b[0m\u001b[0;34m)\u001b[0m\u001b[0;34m\u001b[0m\u001b[0;34m\u001b[0m\u001b[0m\n\u001b[0m\u001b[1;32m   1748\u001b[0m \u001b[0;34m\u001b[0m\u001b[0m\n\u001b[1;32m   1749\u001b[0m         \u001b[0mresult\u001b[0m \u001b[0;34m=\u001b[0m \u001b[0;32mNone\u001b[0m\u001b[0;34m\u001b[0m\u001b[0;34m\u001b[0m\u001b[0m\n",
            "\u001b[0;32m/usr/local/lib/python3.10/dist-packages/torchvision/transforms/transforms.py\u001b[0m in \u001b[0;36mforward\u001b[0;34m(self, img)\u001b[0m\n\u001b[1;32m    352\u001b[0m             \u001b[0mPIL\u001b[0m \u001b[0mImage\u001b[0m \u001b[0;32mor\u001b[0m \u001b[0mTensor\u001b[0m\u001b[0;34m:\u001b[0m \u001b[0mRescaled\u001b[0m \u001b[0mimage\u001b[0m\u001b[0;34m.\u001b[0m\u001b[0;34m\u001b[0m\u001b[0;34m\u001b[0m\u001b[0m\n\u001b[1;32m    353\u001b[0m         \"\"\"\n\u001b[0;32m--> 354\u001b[0;31m         \u001b[0;32mreturn\u001b[0m \u001b[0mF\u001b[0m\u001b[0;34m.\u001b[0m\u001b[0mresize\u001b[0m\u001b[0;34m(\u001b[0m\u001b[0mimg\u001b[0m\u001b[0;34m,\u001b[0m \u001b[0mself\u001b[0m\u001b[0;34m.\u001b[0m\u001b[0msize\u001b[0m\u001b[0;34m,\u001b[0m \u001b[0mself\u001b[0m\u001b[0;34m.\u001b[0m\u001b[0minterpolation\u001b[0m\u001b[0;34m,\u001b[0m \u001b[0mself\u001b[0m\u001b[0;34m.\u001b[0m\u001b[0mmax_size\u001b[0m\u001b[0;34m,\u001b[0m \u001b[0mself\u001b[0m\u001b[0;34m.\u001b[0m\u001b[0mantialias\u001b[0m\u001b[0;34m)\u001b[0m\u001b[0;34m\u001b[0m\u001b[0;34m\u001b[0m\u001b[0m\n\u001b[0m\u001b[1;32m    355\u001b[0m \u001b[0;34m\u001b[0m\u001b[0m\n\u001b[1;32m    356\u001b[0m     \u001b[0;32mdef\u001b[0m \u001b[0m__repr__\u001b[0m\u001b[0;34m(\u001b[0m\u001b[0mself\u001b[0m\u001b[0;34m)\u001b[0m \u001b[0;34m->\u001b[0m \u001b[0mstr\u001b[0m\u001b[0;34m:\u001b[0m\u001b[0;34m\u001b[0m\u001b[0;34m\u001b[0m\u001b[0m\n",
            "\u001b[0;32m/usr/local/lib/python3.10/dist-packages/torchvision/transforms/functional.py\u001b[0m in \u001b[0;36mresize\u001b[0;34m(img, size, interpolation, max_size, antialias)\u001b[0m\n\u001b[1;32m    475\u001b[0m             \u001b[0mwarnings\u001b[0m\u001b[0;34m.\u001b[0m\u001b[0mwarn\u001b[0m\u001b[0;34m(\u001b[0m\u001b[0;34m\"Anti-alias option is always applied for PIL Image input. Argument antialias is ignored.\"\u001b[0m\u001b[0;34m)\u001b[0m\u001b[0;34m\u001b[0m\u001b[0;34m\u001b[0m\u001b[0m\n\u001b[1;32m    476\u001b[0m         \u001b[0mpil_interpolation\u001b[0m \u001b[0;34m=\u001b[0m \u001b[0mpil_modes_mapping\u001b[0m\u001b[0;34m[\u001b[0m\u001b[0minterpolation\u001b[0m\u001b[0;34m]\u001b[0m\u001b[0;34m\u001b[0m\u001b[0;34m\u001b[0m\u001b[0m\n\u001b[0;32m--> 477\u001b[0;31m         \u001b[0;32mreturn\u001b[0m \u001b[0mF_pil\u001b[0m\u001b[0;34m.\u001b[0m\u001b[0mresize\u001b[0m\u001b[0;34m(\u001b[0m\u001b[0mimg\u001b[0m\u001b[0;34m,\u001b[0m \u001b[0msize\u001b[0m\u001b[0;34m=\u001b[0m\u001b[0moutput_size\u001b[0m\u001b[0;34m,\u001b[0m \u001b[0minterpolation\u001b[0m\u001b[0;34m=\u001b[0m\u001b[0mpil_interpolation\u001b[0m\u001b[0;34m)\u001b[0m\u001b[0;34m\u001b[0m\u001b[0;34m\u001b[0m\u001b[0m\n\u001b[0m\u001b[1;32m    478\u001b[0m \u001b[0;34m\u001b[0m\u001b[0m\n\u001b[1;32m    479\u001b[0m     \u001b[0;32mreturn\u001b[0m \u001b[0mF_t\u001b[0m\u001b[0;34m.\u001b[0m\u001b[0mresize\u001b[0m\u001b[0;34m(\u001b[0m\u001b[0mimg\u001b[0m\u001b[0;34m,\u001b[0m \u001b[0msize\u001b[0m\u001b[0;34m=\u001b[0m\u001b[0moutput_size\u001b[0m\u001b[0;34m,\u001b[0m \u001b[0minterpolation\u001b[0m\u001b[0;34m=\u001b[0m\u001b[0minterpolation\u001b[0m\u001b[0;34m.\u001b[0m\u001b[0mvalue\u001b[0m\u001b[0;34m,\u001b[0m \u001b[0mantialias\u001b[0m\u001b[0;34m=\u001b[0m\u001b[0mantialias\u001b[0m\u001b[0;34m)\u001b[0m\u001b[0;34m\u001b[0m\u001b[0;34m\u001b[0m\u001b[0m\n",
            "\u001b[0;32m/usr/local/lib/python3.10/dist-packages/torchvision/transforms/_functional_pil.py\u001b[0m in \u001b[0;36mresize\u001b[0;34m(img, size, interpolation)\u001b[0m\n\u001b[1;32m    248\u001b[0m         \u001b[0;32mraise\u001b[0m \u001b[0mTypeError\u001b[0m\u001b[0;34m(\u001b[0m\u001b[0;34mf\"Got inappropriate size arg: {size}\"\u001b[0m\u001b[0;34m)\u001b[0m\u001b[0;34m\u001b[0m\u001b[0;34m\u001b[0m\u001b[0m\n\u001b[1;32m    249\u001b[0m \u001b[0;34m\u001b[0m\u001b[0m\n\u001b[0;32m--> 250\u001b[0;31m     \u001b[0;32mreturn\u001b[0m \u001b[0mimg\u001b[0m\u001b[0;34m.\u001b[0m\u001b[0mresize\u001b[0m\u001b[0;34m(\u001b[0m\u001b[0mtuple\u001b[0m\u001b[0;34m(\u001b[0m\u001b[0msize\u001b[0m\u001b[0;34m[\u001b[0m\u001b[0;34m:\u001b[0m\u001b[0;34m:\u001b[0m\u001b[0;34m-\u001b[0m\u001b[0;36m1\u001b[0m\u001b[0;34m]\u001b[0m\u001b[0;34m)\u001b[0m\u001b[0;34m,\u001b[0m \u001b[0minterpolation\u001b[0m\u001b[0;34m)\u001b[0m\u001b[0;34m\u001b[0m\u001b[0;34m\u001b[0m\u001b[0m\n\u001b[0m\u001b[1;32m    251\u001b[0m \u001b[0;34m\u001b[0m\u001b[0m\n\u001b[1;32m    252\u001b[0m \u001b[0;34m\u001b[0m\u001b[0m\n",
            "\u001b[0;32m/usr/local/lib/python3.10/dist-packages/PIL/Image.py\u001b[0m in \u001b[0;36mresize\u001b[0;34m(self, size, resample, box, reducing_gap)\u001b[0m\n\u001b[1;32m   2363\u001b[0m                 )\n\u001b[1;32m   2364\u001b[0m \u001b[0;34m\u001b[0m\u001b[0m\n\u001b[0;32m-> 2365\u001b[0;31m         \u001b[0;32mreturn\u001b[0m \u001b[0mself\u001b[0m\u001b[0;34m.\u001b[0m\u001b[0m_new\u001b[0m\u001b[0;34m(\u001b[0m\u001b[0mself\u001b[0m\u001b[0;34m.\u001b[0m\u001b[0mim\u001b[0m\u001b[0;34m.\u001b[0m\u001b[0mresize\u001b[0m\u001b[0;34m(\u001b[0m\u001b[0msize\u001b[0m\u001b[0;34m,\u001b[0m \u001b[0mresample\u001b[0m\u001b[0;34m,\u001b[0m \u001b[0mbox\u001b[0m\u001b[0;34m)\u001b[0m\u001b[0;34m)\u001b[0m\u001b[0;34m\u001b[0m\u001b[0;34m\u001b[0m\u001b[0m\n\u001b[0m\u001b[1;32m   2366\u001b[0m \u001b[0;34m\u001b[0m\u001b[0m\n\u001b[1;32m   2367\u001b[0m     def reduce(\n",
            "\u001b[0;31mKeyboardInterrupt\u001b[0m: "
          ]
        }
      ]
    },
    {
      "cell_type": "code",
      "source": [
        "optimizer = torch.optim.Adam(sppr.parameters(), lr=1e-4)\n",
        "loss_fn = nn.CrossEntropyLoss()\n",
        "\n",
        "# 기존 프로토타입 초기화 (임의로 초기화 가능)\n",
        "old_prototypes = torch.zeros(len(incremental_sessions[0]), feature_dim).to(device)\n",
        "\n",
        "# 세션별 훈련 루프\n",
        "for images, labels in session_loader:\n",
        "    images, labels = images.to(device), labels.to(device)\n",
        "\n",
        "    with torch.no_grad():\n",
        "        new_embeddings = model.encode_image(images)\n",
        "        new_embeddings /= new_embeddings.norm(dim=-1, keepdim=True)  # 정규화\n",
        "\n",
        "    # 데이터 타입을 float32로 변환\n",
        "    new_embeddings = new_embeddings.to(torch.float32)\n",
        "    old_prototypes = old_prototypes.to(torch.float32)\n",
        "\n",
        "    # 프로토타입 업데이트\n",
        "    refined_prototypes = sppr(new_embeddings, old_prototypes)\n",
        "\n",
        "    # 로짓 계산\n",
        "    logits = torch.matmul(new_embeddings, refined_prototypes.T)\n",
        "    loss = loss_fn(logits, labels)\n",
        "\n",
        "    optimizer.zero_grad()\n",
        "    loss.backward()\n",
        "    optimizer.step()\n",
        "    # 세션별 프로토타입 갱신\n",
        "    old_prototypes = refined_prototypes.detach()"
      ],
      "metadata": {
        "colab": {
          "base_uri": "https://localhost:8080/",
          "height": 375
        },
        "collapsed": true,
        "id": "wjdhgUNc_6aP",
        "outputId": "133eab8f-3083-494c-81c6-42ef72298b26"
      },
      "execution_count": 117,
      "outputs": [
        {
          "output_type": "error",
          "ename": "RuntimeError",
          "evalue": "Given groups=1, weight of size [512, 512, 1], expected input[1, 32, 512] to have 512 channels, but got 32 channels instead",
          "traceback": [
            "\u001b[0;31m---------------------------------------------------------------------------\u001b[0m",
            "\u001b[0;31mRuntimeError\u001b[0m                              Traceback (most recent call last)",
            "\u001b[0;32m<ipython-input-117-93ba01d8c8ca>\u001b[0m in \u001b[0;36m<cell line: 8>\u001b[0;34m()\u001b[0m\n\u001b[1;32m     18\u001b[0m \u001b[0;34m\u001b[0m\u001b[0m\n\u001b[1;32m     19\u001b[0m     \u001b[0;31m# 프로토타입 업데이트\u001b[0m\u001b[0;34m\u001b[0m\u001b[0;34m\u001b[0m\u001b[0m\n\u001b[0;32m---> 20\u001b[0;31m     \u001b[0mrefined_prototypes\u001b[0m \u001b[0;34m=\u001b[0m \u001b[0msppr\u001b[0m\u001b[0;34m(\u001b[0m\u001b[0mnew_embeddings\u001b[0m\u001b[0;34m,\u001b[0m \u001b[0mold_prototypes\u001b[0m\u001b[0;34m)\u001b[0m\u001b[0;34m\u001b[0m\u001b[0;34m\u001b[0m\u001b[0m\n\u001b[0m\u001b[1;32m     21\u001b[0m \u001b[0;34m\u001b[0m\u001b[0m\n\u001b[1;32m     22\u001b[0m     \u001b[0;31m# 로짓 계산\u001b[0m\u001b[0;34m\u001b[0m\u001b[0;34m\u001b[0m\u001b[0m\n",
            "\u001b[0;32m/usr/local/lib/python3.10/dist-packages/torch/nn/modules/module.py\u001b[0m in \u001b[0;36m_wrapped_call_impl\u001b[0;34m(self, *args, **kwargs)\u001b[0m\n\u001b[1;32m   1734\u001b[0m             \u001b[0;32mreturn\u001b[0m \u001b[0mself\u001b[0m\u001b[0;34m.\u001b[0m\u001b[0m_compiled_call_impl\u001b[0m\u001b[0;34m(\u001b[0m\u001b[0;34m*\u001b[0m\u001b[0margs\u001b[0m\u001b[0;34m,\u001b[0m \u001b[0;34m**\u001b[0m\u001b[0mkwargs\u001b[0m\u001b[0;34m)\u001b[0m  \u001b[0;31m# type: ignore[misc]\u001b[0m\u001b[0;34m\u001b[0m\u001b[0;34m\u001b[0m\u001b[0m\n\u001b[1;32m   1735\u001b[0m         \u001b[0;32melse\u001b[0m\u001b[0;34m:\u001b[0m\u001b[0;34m\u001b[0m\u001b[0;34m\u001b[0m\u001b[0m\n\u001b[0;32m-> 1736\u001b[0;31m             \u001b[0;32mreturn\u001b[0m \u001b[0mself\u001b[0m\u001b[0;34m.\u001b[0m\u001b[0m_call_impl\u001b[0m\u001b[0;34m(\u001b[0m\u001b[0;34m*\u001b[0m\u001b[0margs\u001b[0m\u001b[0;34m,\u001b[0m \u001b[0;34m**\u001b[0m\u001b[0mkwargs\u001b[0m\u001b[0;34m)\u001b[0m\u001b[0;34m\u001b[0m\u001b[0;34m\u001b[0m\u001b[0m\n\u001b[0m\u001b[1;32m   1737\u001b[0m \u001b[0;34m\u001b[0m\u001b[0m\n\u001b[1;32m   1738\u001b[0m     \u001b[0;31m# torchrec tests the code consistency with the following code\u001b[0m\u001b[0;34m\u001b[0m\u001b[0;34m\u001b[0m\u001b[0m\n",
            "\u001b[0;32m/usr/local/lib/python3.10/dist-packages/torch/nn/modules/module.py\u001b[0m in \u001b[0;36m_call_impl\u001b[0;34m(self, *args, **kwargs)\u001b[0m\n\u001b[1;32m   1745\u001b[0m                 \u001b[0;32mor\u001b[0m \u001b[0m_global_backward_pre_hooks\u001b[0m \u001b[0;32mor\u001b[0m \u001b[0m_global_backward_hooks\u001b[0m\u001b[0;34m\u001b[0m\u001b[0;34m\u001b[0m\u001b[0m\n\u001b[1;32m   1746\u001b[0m                 or _global_forward_hooks or _global_forward_pre_hooks):\n\u001b[0;32m-> 1747\u001b[0;31m             \u001b[0;32mreturn\u001b[0m \u001b[0mforward_call\u001b[0m\u001b[0;34m(\u001b[0m\u001b[0;34m*\u001b[0m\u001b[0margs\u001b[0m\u001b[0;34m,\u001b[0m \u001b[0;34m**\u001b[0m\u001b[0mkwargs\u001b[0m\u001b[0;34m)\u001b[0m\u001b[0;34m\u001b[0m\u001b[0;34m\u001b[0m\u001b[0m\n\u001b[0m\u001b[1;32m   1748\u001b[0m \u001b[0;34m\u001b[0m\u001b[0m\n\u001b[1;32m   1749\u001b[0m         \u001b[0mresult\u001b[0m \u001b[0;34m=\u001b[0m \u001b[0;32mNone\u001b[0m\u001b[0;34m\u001b[0m\u001b[0;34m\u001b[0m\u001b[0m\n",
            "\u001b[0;32m<ipython-input-93-6a89597ec45a>\u001b[0m in \u001b[0;36mforward\u001b[0;34m(self, new_embeddings, old_prototypes)\u001b[0m\n\u001b[1;32m     16\u001b[0m \u001b[0;34m\u001b[0m\u001b[0m\n\u001b[1;32m     17\u001b[0m     \u001b[0;32mdef\u001b[0m \u001b[0mforward\u001b[0m\u001b[0;34m(\u001b[0m\u001b[0mself\u001b[0m\u001b[0;34m,\u001b[0m \u001b[0mnew_embeddings\u001b[0m\u001b[0;34m,\u001b[0m \u001b[0mold_prototypes\u001b[0m\u001b[0;34m)\u001b[0m\u001b[0;34m:\u001b[0m\u001b[0;34m\u001b[0m\u001b[0;34m\u001b[0m\u001b[0m\n\u001b[0;32m---> 18\u001b[0;31m         \u001b[0mnew_projected\u001b[0m \u001b[0;34m=\u001b[0m \u001b[0mself\u001b[0m\u001b[0;34m.\u001b[0m\u001b[0mtransform_new\u001b[0m\u001b[0;34m(\u001b[0m\u001b[0mnew_embeddings\u001b[0m\u001b[0;34m)\u001b[0m\u001b[0;34m\u001b[0m\u001b[0;34m\u001b[0m\u001b[0m\n\u001b[0m\u001b[1;32m     19\u001b[0m         \u001b[0mold_projected\u001b[0m \u001b[0;34m=\u001b[0m \u001b[0mself\u001b[0m\u001b[0;34m.\u001b[0m\u001b[0mtransform_old\u001b[0m\u001b[0;34m(\u001b[0m\u001b[0mold_prototypes\u001b[0m\u001b[0;34m)\u001b[0m\u001b[0;34m\u001b[0m\u001b[0;34m\u001b[0m\u001b[0m\n\u001b[1;32m     20\u001b[0m \u001b[0;34m\u001b[0m\u001b[0m\n",
            "\u001b[0;32m/usr/local/lib/python3.10/dist-packages/torch/nn/modules/module.py\u001b[0m in \u001b[0;36m_wrapped_call_impl\u001b[0;34m(self, *args, **kwargs)\u001b[0m\n\u001b[1;32m   1734\u001b[0m             \u001b[0;32mreturn\u001b[0m \u001b[0mself\u001b[0m\u001b[0;34m.\u001b[0m\u001b[0m_compiled_call_impl\u001b[0m\u001b[0;34m(\u001b[0m\u001b[0;34m*\u001b[0m\u001b[0margs\u001b[0m\u001b[0;34m,\u001b[0m \u001b[0;34m**\u001b[0m\u001b[0mkwargs\u001b[0m\u001b[0;34m)\u001b[0m  \u001b[0;31m# type: ignore[misc]\u001b[0m\u001b[0;34m\u001b[0m\u001b[0;34m\u001b[0m\u001b[0m\n\u001b[1;32m   1735\u001b[0m         \u001b[0;32melse\u001b[0m\u001b[0;34m:\u001b[0m\u001b[0;34m\u001b[0m\u001b[0;34m\u001b[0m\u001b[0m\n\u001b[0;32m-> 1736\u001b[0;31m             \u001b[0;32mreturn\u001b[0m \u001b[0mself\u001b[0m\u001b[0;34m.\u001b[0m\u001b[0m_call_impl\u001b[0m\u001b[0;34m(\u001b[0m\u001b[0;34m*\u001b[0m\u001b[0margs\u001b[0m\u001b[0;34m,\u001b[0m \u001b[0;34m**\u001b[0m\u001b[0mkwargs\u001b[0m\u001b[0;34m)\u001b[0m\u001b[0;34m\u001b[0m\u001b[0;34m\u001b[0m\u001b[0m\n\u001b[0m\u001b[1;32m   1737\u001b[0m \u001b[0;34m\u001b[0m\u001b[0m\n\u001b[1;32m   1738\u001b[0m     \u001b[0;31m# torchrec tests the code consistency with the following code\u001b[0m\u001b[0;34m\u001b[0m\u001b[0;34m\u001b[0m\u001b[0m\n",
            "\u001b[0;32m/usr/local/lib/python3.10/dist-packages/torch/nn/modules/module.py\u001b[0m in \u001b[0;36m_call_impl\u001b[0;34m(self, *args, **kwargs)\u001b[0m\n\u001b[1;32m   1745\u001b[0m                 \u001b[0;32mor\u001b[0m \u001b[0m_global_backward_pre_hooks\u001b[0m \u001b[0;32mor\u001b[0m \u001b[0m_global_backward_hooks\u001b[0m\u001b[0;34m\u001b[0m\u001b[0;34m\u001b[0m\u001b[0m\n\u001b[1;32m   1746\u001b[0m                 or _global_forward_hooks or _global_forward_pre_hooks):\n\u001b[0;32m-> 1747\u001b[0;31m             \u001b[0;32mreturn\u001b[0m \u001b[0mforward_call\u001b[0m\u001b[0;34m(\u001b[0m\u001b[0;34m*\u001b[0m\u001b[0margs\u001b[0m\u001b[0;34m,\u001b[0m \u001b[0;34m**\u001b[0m\u001b[0mkwargs\u001b[0m\u001b[0;34m)\u001b[0m\u001b[0;34m\u001b[0m\u001b[0;34m\u001b[0m\u001b[0m\n\u001b[0m\u001b[1;32m   1748\u001b[0m \u001b[0;34m\u001b[0m\u001b[0m\n\u001b[1;32m   1749\u001b[0m         \u001b[0mresult\u001b[0m \u001b[0;34m=\u001b[0m \u001b[0;32mNone\u001b[0m\u001b[0;34m\u001b[0m\u001b[0;34m\u001b[0m\u001b[0m\n",
            "\u001b[0;32m/usr/local/lib/python3.10/dist-packages/torch/nn/modules/container.py\u001b[0m in \u001b[0;36mforward\u001b[0;34m(self, input)\u001b[0m\n\u001b[1;32m    248\u001b[0m     \u001b[0;32mdef\u001b[0m \u001b[0mforward\u001b[0m\u001b[0;34m(\u001b[0m\u001b[0mself\u001b[0m\u001b[0;34m,\u001b[0m \u001b[0minput\u001b[0m\u001b[0;34m)\u001b[0m\u001b[0;34m:\u001b[0m\u001b[0;34m\u001b[0m\u001b[0;34m\u001b[0m\u001b[0m\n\u001b[1;32m    249\u001b[0m         \u001b[0;32mfor\u001b[0m \u001b[0mmodule\u001b[0m \u001b[0;32min\u001b[0m \u001b[0mself\u001b[0m\u001b[0;34m:\u001b[0m\u001b[0;34m\u001b[0m\u001b[0;34m\u001b[0m\u001b[0m\n\u001b[0;32m--> 250\u001b[0;31m             \u001b[0minput\u001b[0m \u001b[0;34m=\u001b[0m \u001b[0mmodule\u001b[0m\u001b[0;34m(\u001b[0m\u001b[0minput\u001b[0m\u001b[0;34m)\u001b[0m\u001b[0;34m\u001b[0m\u001b[0;34m\u001b[0m\u001b[0m\n\u001b[0m\u001b[1;32m    251\u001b[0m         \u001b[0;32mreturn\u001b[0m \u001b[0minput\u001b[0m\u001b[0;34m\u001b[0m\u001b[0;34m\u001b[0m\u001b[0m\n\u001b[1;32m    252\u001b[0m \u001b[0;34m\u001b[0m\u001b[0m\n",
            "\u001b[0;32m/usr/local/lib/python3.10/dist-packages/torch/nn/modules/module.py\u001b[0m in \u001b[0;36m_wrapped_call_impl\u001b[0;34m(self, *args, **kwargs)\u001b[0m\n\u001b[1;32m   1734\u001b[0m             \u001b[0;32mreturn\u001b[0m \u001b[0mself\u001b[0m\u001b[0;34m.\u001b[0m\u001b[0m_compiled_call_impl\u001b[0m\u001b[0;34m(\u001b[0m\u001b[0;34m*\u001b[0m\u001b[0margs\u001b[0m\u001b[0;34m,\u001b[0m \u001b[0;34m**\u001b[0m\u001b[0mkwargs\u001b[0m\u001b[0;34m)\u001b[0m  \u001b[0;31m# type: ignore[misc]\u001b[0m\u001b[0;34m\u001b[0m\u001b[0;34m\u001b[0m\u001b[0m\n\u001b[1;32m   1735\u001b[0m         \u001b[0;32melse\u001b[0m\u001b[0;34m:\u001b[0m\u001b[0;34m\u001b[0m\u001b[0;34m\u001b[0m\u001b[0m\n\u001b[0;32m-> 1736\u001b[0;31m             \u001b[0;32mreturn\u001b[0m \u001b[0mself\u001b[0m\u001b[0;34m.\u001b[0m\u001b[0m_call_impl\u001b[0m\u001b[0;34m(\u001b[0m\u001b[0;34m*\u001b[0m\u001b[0margs\u001b[0m\u001b[0;34m,\u001b[0m \u001b[0;34m**\u001b[0m\u001b[0mkwargs\u001b[0m\u001b[0;34m)\u001b[0m\u001b[0;34m\u001b[0m\u001b[0;34m\u001b[0m\u001b[0m\n\u001b[0m\u001b[1;32m   1737\u001b[0m \u001b[0;34m\u001b[0m\u001b[0m\n\u001b[1;32m   1738\u001b[0m     \u001b[0;31m# torchrec tests the code consistency with the following code\u001b[0m\u001b[0;34m\u001b[0m\u001b[0;34m\u001b[0m\u001b[0m\n",
            "\u001b[0;32m/usr/local/lib/python3.10/dist-packages/torch/nn/modules/module.py\u001b[0m in \u001b[0;36m_call_impl\u001b[0;34m(self, *args, **kwargs)\u001b[0m\n\u001b[1;32m   1745\u001b[0m                 \u001b[0;32mor\u001b[0m \u001b[0m_global_backward_pre_hooks\u001b[0m \u001b[0;32mor\u001b[0m \u001b[0m_global_backward_hooks\u001b[0m\u001b[0;34m\u001b[0m\u001b[0;34m\u001b[0m\u001b[0m\n\u001b[1;32m   1746\u001b[0m                 or _global_forward_hooks or _global_forward_pre_hooks):\n\u001b[0;32m-> 1747\u001b[0;31m             \u001b[0;32mreturn\u001b[0m \u001b[0mforward_call\u001b[0m\u001b[0;34m(\u001b[0m\u001b[0;34m*\u001b[0m\u001b[0margs\u001b[0m\u001b[0;34m,\u001b[0m \u001b[0;34m**\u001b[0m\u001b[0mkwargs\u001b[0m\u001b[0;34m)\u001b[0m\u001b[0;34m\u001b[0m\u001b[0;34m\u001b[0m\u001b[0m\n\u001b[0m\u001b[1;32m   1748\u001b[0m \u001b[0;34m\u001b[0m\u001b[0m\n\u001b[1;32m   1749\u001b[0m         \u001b[0mresult\u001b[0m \u001b[0;34m=\u001b[0m \u001b[0;32mNone\u001b[0m\u001b[0;34m\u001b[0m\u001b[0;34m\u001b[0m\u001b[0m\n",
            "\u001b[0;32m/usr/local/lib/python3.10/dist-packages/torch/nn/modules/conv.py\u001b[0m in \u001b[0;36mforward\u001b[0;34m(self, input)\u001b[0m\n\u001b[1;32m    373\u001b[0m \u001b[0;34m\u001b[0m\u001b[0m\n\u001b[1;32m    374\u001b[0m     \u001b[0;32mdef\u001b[0m \u001b[0mforward\u001b[0m\u001b[0;34m(\u001b[0m\u001b[0mself\u001b[0m\u001b[0;34m,\u001b[0m \u001b[0minput\u001b[0m\u001b[0;34m:\u001b[0m \u001b[0mTensor\u001b[0m\u001b[0;34m)\u001b[0m \u001b[0;34m->\u001b[0m \u001b[0mTensor\u001b[0m\u001b[0;34m:\u001b[0m\u001b[0;34m\u001b[0m\u001b[0;34m\u001b[0m\u001b[0m\n\u001b[0;32m--> 375\u001b[0;31m         \u001b[0;32mreturn\u001b[0m \u001b[0mself\u001b[0m\u001b[0;34m.\u001b[0m\u001b[0m_conv_forward\u001b[0m\u001b[0;34m(\u001b[0m\u001b[0minput\u001b[0m\u001b[0;34m,\u001b[0m \u001b[0mself\u001b[0m\u001b[0;34m.\u001b[0m\u001b[0mweight\u001b[0m\u001b[0;34m,\u001b[0m \u001b[0mself\u001b[0m\u001b[0;34m.\u001b[0m\u001b[0mbias\u001b[0m\u001b[0;34m)\u001b[0m\u001b[0;34m\u001b[0m\u001b[0;34m\u001b[0m\u001b[0m\n\u001b[0m\u001b[1;32m    376\u001b[0m \u001b[0;34m\u001b[0m\u001b[0m\n\u001b[1;32m    377\u001b[0m \u001b[0;34m\u001b[0m\u001b[0m\n",
            "\u001b[0;32m/usr/local/lib/python3.10/dist-packages/torch/nn/modules/conv.py\u001b[0m in \u001b[0;36m_conv_forward\u001b[0;34m(self, input, weight, bias)\u001b[0m\n\u001b[1;32m    368\u001b[0m                 \u001b[0mself\u001b[0m\u001b[0;34m.\u001b[0m\u001b[0mgroups\u001b[0m\u001b[0;34m,\u001b[0m\u001b[0;34m\u001b[0m\u001b[0;34m\u001b[0m\u001b[0m\n\u001b[1;32m    369\u001b[0m             )\n\u001b[0;32m--> 370\u001b[0;31m         return F.conv1d(\n\u001b[0m\u001b[1;32m    371\u001b[0m             \u001b[0minput\u001b[0m\u001b[0;34m,\u001b[0m \u001b[0mweight\u001b[0m\u001b[0;34m,\u001b[0m \u001b[0mbias\u001b[0m\u001b[0;34m,\u001b[0m \u001b[0mself\u001b[0m\u001b[0;34m.\u001b[0m\u001b[0mstride\u001b[0m\u001b[0;34m,\u001b[0m \u001b[0mself\u001b[0m\u001b[0;34m.\u001b[0m\u001b[0mpadding\u001b[0m\u001b[0;34m,\u001b[0m \u001b[0mself\u001b[0m\u001b[0;34m.\u001b[0m\u001b[0mdilation\u001b[0m\u001b[0;34m,\u001b[0m \u001b[0mself\u001b[0m\u001b[0;34m.\u001b[0m\u001b[0mgroups\u001b[0m\u001b[0;34m\u001b[0m\u001b[0;34m\u001b[0m\u001b[0m\n\u001b[1;32m    372\u001b[0m         )\n",
            "\u001b[0;31mRuntimeError\u001b[0m: Given groups=1, weight of size [512, 512, 1], expected input[1, 32, 512] to have 512 channels, but got 32 channels instead"
          ]
        }
      ]
    }
  ],
  "metadata": {
    "colab": {
      "provenance": [],
      "collapsed_sections": [
        "486KDN4en6AJ"
      ],
      "gpuType": "T4"
    },
    "kernelspec": {
      "display_name": "Python 3",
      "name": "python3"
    },
    "language_info": {
      "name": "python"
    },
    "accelerator": "GPU"
  },
  "nbformat": 4,
  "nbformat_minor": 0
}
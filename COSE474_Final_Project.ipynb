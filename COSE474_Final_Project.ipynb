{
  "cells": [
    {
      "cell_type": "markdown",
      "source": [
        "###사전 설정"
      ],
      "metadata": {
        "id": "BMR_l0WKeJcC"
      }
    },
    {
      "cell_type": "code",
      "source": [
        "!pip install --upgrade pip\n",
        "!pip install torch torchvision torchaudio\n",
        "!pip install ftfy regex tqdm\n",
        "!pip install git+https://github.com/openai/CLIP.git\n",
        "!pip install scipy pillow transformers\n",
        "\n",
        "import torch\n",
        "device = \"cuda\" if torch.cuda.is_available() else \"cpu\"\n",
        "print(f\"Using device: {device}\")"
      ],
      "metadata": {
        "collapsed": true,
        "id": "2swU5U7UGM4w",
        "colab": {
          "base_uri": "https://localhost:8080/"
        },
        "outputId": "4b9a48e4-19ab-4015-a715-8b8cfcab3cc3"
      },
      "execution_count": 1,
      "outputs": [
        {
          "output_type": "stream",
          "name": "stdout",
          "text": [
            "Requirement already satisfied: pip in /usr/local/lib/python3.10/dist-packages (24.1.2)\n",
            "Collecting pip\n",
            "  Downloading pip-24.3.1-py3-none-any.whl.metadata (3.7 kB)\n",
            "Downloading pip-24.3.1-py3-none-any.whl (1.8 MB)\n",
            "\u001b[2K   \u001b[90m━━━━━━━━━━━━━━━━━━━━━━━━━━━━━━━━━━━━━━━━\u001b[0m \u001b[32m1.8/1.8 MB\u001b[0m \u001b[31m20.2 MB/s\u001b[0m eta \u001b[36m0:00:00\u001b[0m\n",
            "\u001b[?25hInstalling collected packages: pip\n",
            "  Attempting uninstall: pip\n",
            "    Found existing installation: pip 24.1.2\n",
            "    Uninstalling pip-24.1.2:\n",
            "      Successfully uninstalled pip-24.1.2\n",
            "Successfully installed pip-24.3.1\n",
            "Requirement already satisfied: torch in /usr/local/lib/python3.10/dist-packages (2.5.1+cu121)\n",
            "Requirement already satisfied: torchvision in /usr/local/lib/python3.10/dist-packages (0.20.1+cu121)\n",
            "Requirement already satisfied: torchaudio in /usr/local/lib/python3.10/dist-packages (2.5.1+cu121)\n",
            "Requirement already satisfied: filelock in /usr/local/lib/python3.10/dist-packages (from torch) (3.16.1)\n",
            "Requirement already satisfied: typing-extensions>=4.8.0 in /usr/local/lib/python3.10/dist-packages (from torch) (4.12.2)\n",
            "Requirement already satisfied: networkx in /usr/local/lib/python3.10/dist-packages (from torch) (3.4.2)\n",
            "Requirement already satisfied: jinja2 in /usr/local/lib/python3.10/dist-packages (from torch) (3.1.4)\n",
            "Requirement already satisfied: fsspec in /usr/local/lib/python3.10/dist-packages (from torch) (2024.10.0)\n",
            "Requirement already satisfied: sympy==1.13.1 in /usr/local/lib/python3.10/dist-packages (from torch) (1.13.1)\n",
            "Requirement already satisfied: mpmath<1.4,>=1.1.0 in /usr/local/lib/python3.10/dist-packages (from sympy==1.13.1->torch) (1.3.0)\n",
            "Requirement already satisfied: numpy in /usr/local/lib/python3.10/dist-packages (from torchvision) (1.26.4)\n",
            "Requirement already satisfied: pillow!=8.3.*,>=5.3.0 in /usr/local/lib/python3.10/dist-packages (from torchvision) (11.0.0)\n",
            "Requirement already satisfied: MarkupSafe>=2.0 in /usr/local/lib/python3.10/dist-packages (from jinja2->torch) (3.0.2)\n",
            "Collecting ftfy\n",
            "  Downloading ftfy-6.3.1-py3-none-any.whl.metadata (7.3 kB)\n",
            "Requirement already satisfied: regex in /usr/local/lib/python3.10/dist-packages (2024.9.11)\n",
            "Requirement already satisfied: tqdm in /usr/local/lib/python3.10/dist-packages (4.66.6)\n",
            "Requirement already satisfied: wcwidth in /usr/local/lib/python3.10/dist-packages (from ftfy) (0.2.13)\n",
            "Downloading ftfy-6.3.1-py3-none-any.whl (44 kB)\n",
            "Installing collected packages: ftfy\n",
            "Successfully installed ftfy-6.3.1\n",
            "Collecting git+https://github.com/openai/CLIP.git\n",
            "  Cloning https://github.com/openai/CLIP.git to /tmp/pip-req-build-8pkggqaq\n",
            "  Running command git clone --filter=blob:none --quiet https://github.com/openai/CLIP.git /tmp/pip-req-build-8pkggqaq\n",
            "  Resolved https://github.com/openai/CLIP.git to commit dcba3cb2e2827b402d2701e7e1c7d9fed8a20ef1\n",
            "  Preparing metadata (setup.py) ... \u001b[?25l\u001b[?25hdone\n",
            "Requirement already satisfied: ftfy in /usr/local/lib/python3.10/dist-packages (from clip==1.0) (6.3.1)\n",
            "Requirement already satisfied: packaging in /usr/local/lib/python3.10/dist-packages (from clip==1.0) (24.2)\n",
            "Requirement already satisfied: regex in /usr/local/lib/python3.10/dist-packages (from clip==1.0) (2024.9.11)\n",
            "Requirement already satisfied: tqdm in /usr/local/lib/python3.10/dist-packages (from clip==1.0) (4.66.6)\n",
            "Requirement already satisfied: torch in /usr/local/lib/python3.10/dist-packages (from clip==1.0) (2.5.1+cu121)\n",
            "Requirement already satisfied: torchvision in /usr/local/lib/python3.10/dist-packages (from clip==1.0) (0.20.1+cu121)\n",
            "Requirement already satisfied: wcwidth in /usr/local/lib/python3.10/dist-packages (from ftfy->clip==1.0) (0.2.13)\n",
            "Requirement already satisfied: filelock in /usr/local/lib/python3.10/dist-packages (from torch->clip==1.0) (3.16.1)\n",
            "Requirement already satisfied: typing-extensions>=4.8.0 in /usr/local/lib/python3.10/dist-packages (from torch->clip==1.0) (4.12.2)\n",
            "Requirement already satisfied: networkx in /usr/local/lib/python3.10/dist-packages (from torch->clip==1.0) (3.4.2)\n",
            "Requirement already satisfied: jinja2 in /usr/local/lib/python3.10/dist-packages (from torch->clip==1.0) (3.1.4)\n",
            "Requirement already satisfied: fsspec in /usr/local/lib/python3.10/dist-packages (from torch->clip==1.0) (2024.10.0)\n",
            "Requirement already satisfied: sympy==1.13.1 in /usr/local/lib/python3.10/dist-packages (from torch->clip==1.0) (1.13.1)\n",
            "Requirement already satisfied: mpmath<1.4,>=1.1.0 in /usr/local/lib/python3.10/dist-packages (from sympy==1.13.1->torch->clip==1.0) (1.3.0)\n",
            "Requirement already satisfied: numpy in /usr/local/lib/python3.10/dist-packages (from torchvision->clip==1.0) (1.26.4)\n",
            "Requirement already satisfied: pillow!=8.3.*,>=5.3.0 in /usr/local/lib/python3.10/dist-packages (from torchvision->clip==1.0) (11.0.0)\n",
            "Requirement already satisfied: MarkupSafe>=2.0 in /usr/local/lib/python3.10/dist-packages (from jinja2->torch->clip==1.0) (3.0.2)\n",
            "Building wheels for collected packages: clip\n",
            "  Building wheel for clip (setup.py) ... \u001b[?25l\u001b[?25hdone\n",
            "  Created wheel for clip: filename=clip-1.0-py3-none-any.whl size=1369489 sha256=f24f3a0d9dd3f4cac3781e01c64178fc1b90afea99ba3a088e0b929fd280bd32\n",
            "  Stored in directory: /tmp/pip-ephem-wheel-cache-997hrnag/wheels/da/2b/4c/d6691fa9597aac8bb85d2ac13b112deb897d5b50f5ad9a37e4\n",
            "Successfully built clip\n",
            "Installing collected packages: clip\n",
            "Successfully installed clip-1.0\n",
            "Requirement already satisfied: scipy in /usr/local/lib/python3.10/dist-packages (1.13.1)\n",
            "Requirement already satisfied: pillow in /usr/local/lib/python3.10/dist-packages (11.0.0)\n",
            "Requirement already satisfied: transformers in /usr/local/lib/python3.10/dist-packages (4.46.2)\n",
            "Requirement already satisfied: numpy<2.3,>=1.22.4 in /usr/local/lib/python3.10/dist-packages (from scipy) (1.26.4)\n",
            "Requirement already satisfied: filelock in /usr/local/lib/python3.10/dist-packages (from transformers) (3.16.1)\n",
            "Requirement already satisfied: huggingface-hub<1.0,>=0.23.2 in /usr/local/lib/python3.10/dist-packages (from transformers) (0.26.2)\n",
            "Requirement already satisfied: packaging>=20.0 in /usr/local/lib/python3.10/dist-packages (from transformers) (24.2)\n",
            "Requirement already satisfied: pyyaml>=5.1 in /usr/local/lib/python3.10/dist-packages (from transformers) (6.0.2)\n",
            "Requirement already satisfied: regex!=2019.12.17 in /usr/local/lib/python3.10/dist-packages (from transformers) (2024.9.11)\n",
            "Requirement already satisfied: requests in /usr/local/lib/python3.10/dist-packages (from transformers) (2.32.3)\n",
            "Requirement already satisfied: safetensors>=0.4.1 in /usr/local/lib/python3.10/dist-packages (from transformers) (0.4.5)\n",
            "Requirement already satisfied: tokenizers<0.21,>=0.20 in /usr/local/lib/python3.10/dist-packages (from transformers) (0.20.3)\n",
            "Requirement already satisfied: tqdm>=4.27 in /usr/local/lib/python3.10/dist-packages (from transformers) (4.66.6)\n",
            "Requirement already satisfied: fsspec>=2023.5.0 in /usr/local/lib/python3.10/dist-packages (from huggingface-hub<1.0,>=0.23.2->transformers) (2024.10.0)\n",
            "Requirement already satisfied: typing-extensions>=3.7.4.3 in /usr/local/lib/python3.10/dist-packages (from huggingface-hub<1.0,>=0.23.2->transformers) (4.12.2)\n",
            "Requirement already satisfied: charset-normalizer<4,>=2 in /usr/local/lib/python3.10/dist-packages (from requests->transformers) (3.4.0)\n",
            "Requirement already satisfied: idna<4,>=2.5 in /usr/local/lib/python3.10/dist-packages (from requests->transformers) (3.10)\n",
            "Requirement already satisfied: urllib3<3,>=1.21.1 in /usr/local/lib/python3.10/dist-packages (from requests->transformers) (2.2.3)\n",
            "Requirement already satisfied: certifi>=2017.4.17 in /usr/local/lib/python3.10/dist-packages (from requests->transformers) (2024.8.30)\n",
            "Using device: cuda\n"
          ]
        }
      ]
    },
    {
      "cell_type": "code",
      "source": [
        "import numpy as np\n",
        "import matplotlib.pyplot as plt\n",
        "from  tqdm import tqdm\n",
        "import random\n",
        "import torch\n",
        "import torchvision\n",
        "import torchvision.transforms as T\n",
        "from torchvision.transforms import ToPILImage\n",
        "from torch.utils.data import Dataset\n",
        "from torch.utils.data import DataLoader\n",
        "from torchvision.utils import make_grid\n",
        "import os\n",
        "from torchvision import transforms\n",
        "import scipy.io\n",
        "import shutil\n",
        "import clip\n",
        "from PIL import Image\n",
        "import pandas as pd"
      ],
      "metadata": {
        "id": "u7UxcqmFw4OE"
      },
      "execution_count": 26,
      "outputs": []
    },
    {
      "cell_type": "markdown",
      "source": [
        "###wikiart"
      ],
      "metadata": {
        "id": "lcpTMrbdgwln"
      }
    },
    {
      "cell_type": "code",
      "source": [
        "import kagglehub\n",
        "\n",
        "path = kagglehub.dataset_download(\"steubk/wikiart\")\n",
        "\n",
        "print(\"Path to dataset files:\", path)"
      ],
      "metadata": {
        "colab": {
          "base_uri": "https://localhost:8080/"
        },
        "id": "PRs9kIkNgv8W",
        "outputId": "bdce0f0e-4212-4a36-ec8f-4878d192e39e"
      },
      "execution_count": 3,
      "outputs": [
        {
          "output_type": "stream",
          "name": "stdout",
          "text": [
            "Downloading from https://www.kaggle.com/api/v1/datasets/download/steubk/wikiart?dataset_version_number=1...\n"
          ]
        },
        {
          "output_type": "stream",
          "name": "stderr",
          "text": [
            "100%|██████████| 31.4G/31.4G [04:15<00:00, 132MB/s]"
          ]
        },
        {
          "output_type": "stream",
          "name": "stdout",
          "text": [
            "Extracting files...\n"
          ]
        },
        {
          "output_type": "stream",
          "name": "stderr",
          "text": [
            "\n"
          ]
        },
        {
          "output_type": "stream",
          "name": "stdout",
          "text": [
            "Path to dataset files: /root/.cache/kagglehub/datasets/steubk/wikiart/versions/1\n"
          ]
        }
      ]
    },
    {
      "cell_type": "code",
      "source": [
        "!mv \"{path}\" /content/"
      ],
      "metadata": {
        "id": "aEmf7gs5lQPd"
      },
      "execution_count": 4,
      "outputs": []
    },
    {
      "cell_type": "code",
      "source": [
        "#데이터셋 분리 코드\n",
        "csv_path = \"/content/dataset/classes.csv\"\n",
        "data = pd.read_csv(csv_path)\n",
        "\n",
        "source_folder = \"/content/dataset\"\n",
        "\n",
        "train_folder = \"/content/dataset/train\"\n",
        "test_folder = \"/content/dataset/test\"\n",
        "os.makedirs(train_folder, exist_ok=True)\n",
        "os.makedirs(test_folder, exist_ok=True)\n",
        "\n",
        "\n",
        "def extract_class_and_filename(row):\n",
        "    full_path = row['filename']\n",
        "    class_name = full_path.split('/')[0]\n",
        "    filename = os.path.basename(full_path)\n",
        "    return class_name, filename\n",
        "\n",
        "def move_and_rename_files(row, target_folder):\n",
        "    class_name, filename = extract_class_and_filename(row)\n",
        "    source_path = os.path.join(source_folder, class_name, filename)\n",
        "    target_filename = f\"{class_name}_{row.name}.jpg\"\n",
        "    target_path = os.path.join(target_folder, target_filename)\n",
        "\n",
        "    if os.path.exists(source_path):\n",
        "        shutil.move(source_path, target_path)\n",
        "    else:\n",
        "        print(f\"File not found: {source_path}\")\n",
        "\n",
        "train_data = data[data['subset'] == 'train']\n",
        "train_data.apply(lambda row: move_and_rename_files(row, train_folder), axis=1)\n",
        "\n",
        "test_data = data[data['subset'] == 'test']\n",
        "test_data.apply(lambda row: move_and_rename_files(row, test_folder), axis=1)\n",
        "\n",
        "print(\"Dataset splitting and renaming completed.\")"
      ],
      "metadata": {
        "collapsed": true,
        "colab": {
          "base_uri": "https://localhost:8080/"
        },
        "id": "i-P8T_9bnaIL",
        "outputId": "aa77e6ec-83f3-43d4-c90b-5edf84db6546"
      },
      "execution_count": 5,
      "outputs": [
        {
          "output_type": "stream",
          "name": "stdout",
          "text": [
            "File not found: /content/dataset/Art_Nouveau_Modern/eugã¨ne-grasset_a-la-place-clichy.jpg\n",
            "File not found: /content/dataset/Art_Nouveau_Modern/eugã¨ne-grasset_abricotine.jpg\n",
            "File not found: /content/dataset/Art_Nouveau_Modern/eugã¨ne-grasset_affiche-pour-the-century-magazine-napol-on.jpg\n",
            "File not found: /content/dataset/Art_Nouveau_Modern/eugã¨ne-grasset_anxi-t-1897.jpg\n",
            "File not found: /content/dataset/Art_Nouveau_Modern/eugã¨ne-grasset_bonne-nouvelle.jpg\n",
            "File not found: /content/dataset/Art_Nouveau_Modern/eugã¨ne-grasset_encre-l-marquet.jpg\n",
            "File not found: /content/dataset/Art_Nouveau_Modern/eugã¨ne-grasset_esclarmonde.jpg\n",
            "File not found: /content/dataset/Art_Nouveau_Modern/eugã¨ne-grasset_froideur.jpg\n",
            "File not found: /content/dataset/Art_Nouveau_Modern/eugã¨ne-grasset_girl-in-the-garden.jpg\n",
            "File not found: /content/dataset/Art_Nouveau_Modern/eugã¨ne-grasset_grafton-gallery-from-les-affiche-illustrees-1897.jpg\n",
            "File not found: /content/dataset/Art_Nouveau_Modern/eugã¨ne-grasset_harper-s-magazine.jpg\n",
            "File not found: /content/dataset/Art_Nouveau_Modern/eugã¨ne-grasset_jalousie.jpg\n",
            "File not found: /content/dataset/Art_Nouveau_Modern/eugã¨ne-grasset_joan-of-arc-1894.jpg\n",
            "File not found: /content/dataset/Art_Nouveau_Modern/eugã¨ne-grasset_la-belle-jardiniere-april-1896.jpg\n",
            "File not found: /content/dataset/Art_Nouveau_Modern/eugã¨ne-grasset_la-belle-jardiniere-august-1896.jpg\n",
            "File not found: /content/dataset/Art_Nouveau_Modern/eugã¨ne-grasset_la-belle-jardiniere-december-1896.jpg\n",
            "File not found: /content/dataset/Art_Nouveau_Modern/eugã¨ne-grasset_la-belle-jardiniere-february-1896.jpg\n",
            "File not found: /content/dataset/Art_Nouveau_Modern/eugã¨ne-grasset_la-belle-jardiniere-january-1896.jpg\n",
            "File not found: /content/dataset/Art_Nouveau_Modern/eugã¨ne-grasset_la-belle-jardiniere-july-1896.jpg\n",
            "File not found: /content/dataset/Art_Nouveau_Modern/eugã¨ne-grasset_la-belle-jardiniere-june-1896.jpg\n",
            "File not found: /content/dataset/Art_Nouveau_Modern/eugã¨ne-grasset_la-belle-jardiniere-march-1896.jpg\n",
            "File not found: /content/dataset/Art_Nouveau_Modern/eugã¨ne-grasset_la-belle-jardiniere-may-1896.jpg\n",
            "File not found: /content/dataset/Art_Nouveau_Modern/eugã¨ne-grasset_la-belle-jardiniere-november-1896.jpg\n",
            "File not found: /content/dataset/Art_Nouveau_Modern/eugã¨ne-grasset_la-belle-jardiniere-septembre-1896.jpg\n",
            "File not found: /content/dataset/Art_Nouveau_Modern/eugã¨ne-grasset_les-petites-faunesses-1897.jpg\n",
            "File not found: /content/dataset/Art_Nouveau_Modern/eugã¨ne-grasset_librairie-romantique.jpg\n",
            "File not found: /content/dataset/Art_Nouveau_Modern/eugã¨ne-grasset_m-ditation-1897.jpg\n",
            "File not found: /content/dataset/Art_Nouveau_Modern/eugã¨ne-grasset_ne-plus-ultra-reino-de-espana-1893.jpg\n",
            "File not found: /content/dataset/Art_Nouveau_Modern/eugã¨ne-grasset_nouveau-larousse-illustre.jpg\n",
            "File not found: /content/dataset/Art_Nouveau_Modern/eugã¨ne-grasset_spring-1894.jpg\n",
            "File not found: /content/dataset/Art_Nouveau_Modern/eugã¨ne-grasset_tentation.jpg\n",
            "File not found: /content/dataset/Art_Nouveau_Modern/eugã¨ne-grasset_the-art-of-drawing-1894.jpg\n",
            "File not found: /content/dataset/Art_Nouveau_Modern/eugã¨ne-grasset_un-duel-judiciaire-au-vie-si-cle-1885.jpg\n",
            "File not found: /content/dataset/Baroque/mestre-ataã­de_a-coroa-o-da-virgem-pela-sant-ssima-trindade-detail-1811.jpg\n",
            "File not found: /content/dataset/Baroque/mestre-ataã­de_a-flagela-o-de-cristo.jpg\n",
            "File not found: /content/dataset/Baroque/mestre-ataã­de_a-ltima-ceia-1828.jpg\n",
            "File not found: /content/dataset/Baroque/mestre-ataã­de_a-virgem-entrega-o-menino-jesus-a-santo-ant-nio-de-p-dua-detail-1810.jpg\n",
            "File not found: /content/dataset/Baroque/mestre-ataã­de_anjos-detail.jpg\n",
            "File not found: /content/dataset/Baroque/mestre-ataã­de_ascens-o-de-cristo.jpg\n",
            "File not found: /content/dataset/Baroque/mestre-ataã­de_assun-o-da-virgem-detail-1823.jpg\n",
            "File not found: /content/dataset/Baroque/mestre-ataã­de_baptism-of-christ.jpg\n",
            "File not found: /content/dataset/Baroque/mestre-ataã­de_crucifixion-of-christ.jpg\n",
            "File not found: /content/dataset/Baroque/mestre-ataã­de_deus-promete-a-abra-o-multiplicar-sua-descend-ncia-1799.jpg\n",
            "File not found: /content/dataset/Baroque/mestre-ataã­de_nossa-senhora-da-porci-ncula-1812.jpg\n",
            "File not found: /content/dataset/Baroque/mestre-ataã­de_nossa-senhora-do-carmo-e-s-o-sim-o-stock.jpg\n",
            "File not found: /content/dataset/Cubism/andrã©-lhote_l-atelier-sur-la-terrasse-de-mirmande-1957.jpg\n",
            "File not found: /content/dataset/Cubism/andrã©-lhote_l-entr-e-du-bassin-flot-bordeaux-1912.jpg\n",
            "File not found: /content/dataset/Cubism/andrã©-lhote_l-escale-1913.jpg\n",
            "File not found: /content/dataset/Cubism/andrã©-lhote_la-plage-1920.jpg\n",
            "File not found: /content/dataset/Cubism/andrã©-lhote_la-plage-1957.jpg\n",
            "File not found: /content/dataset/Cubism/andrã©-lhote_le-nile-1952.jpg\n",
            "File not found: /content/dataset/Cubism/andrã©-lhote_le-port-de-bordeaux-1915.jpg\n",
            "File not found: /content/dataset/Cubism/andrã©-lhote_les-deux-amies-1925.jpg\n",
            "File not found: /content/dataset/Cubism/andrã©-lhote_les-joueurs-de-rugby.jpg\n",
            "File not found: /content/dataset/Cubism/andrã©-lhote_les-palmiers-th-bes-1950.jpg\n",
            "File not found: /content/dataset/Cubism/andrã©-lhote_mirmande-1930.jpg\n",
            "File not found: /content/dataset/Cubism/andrã©-lhote_mirmande-jaune-1956.jpg\n",
            "File not found: /content/dataset/Cubism/andrã©-lhote_nature-morte-au-chinois-1930.jpg\n",
            "File not found: /content/dataset/Cubism/andrã©-lhote_nu-a-sa-toilette-1918.jpg\n",
            "File not found: /content/dataset/Cubism/andrã©-lhote_nu-assis-1948.jpg\n",
            "File not found: /content/dataset/Cubism/andrã©-lhote_route-la-cadi-re-1957.jpg\n",
            "File not found: /content/dataset/Cubism/andrã©-lhote_sur-la-terrasse-1945.jpg\n",
            "File not found: /content/dataset/Cubism/andrã©-lhote_vue-de-paris-ou-la-seine-au-point-du-jour-1926.jpg\n",
            "File not found: /content/dataset/Cubism/fã©lix-del-marle_self-portrait-1913.jpg\n",
            "File not found: /content/dataset/Cubism/fã©lix-del-marle_study-for-a-portrait-of-jean-dupr-1913.jpg\n",
            "File not found: /content/dataset/Cubism/fã©lix-del-marle_the-port-1914-1.jpg\n",
            "File not found: /content/dataset/Cubism/fã©lix-del-marle_untitled-1.jpg\n",
            "File not found: /content/dataset/Cubism/roger-bissiã¨re_la-guitare.jpg\n",
            "File not found: /content/dataset/Cubism/roger-bissiã¨re_mandoline-sur-chaise.jpg\n",
            "File not found: /content/dataset/Cubism/roger-bissiã¨re_nature-morte-avec-mandoline.jpg\n",
            "File not found: /content/dataset/Cubism/roger-bissiã¨re_paysage-1931.jpg\n",
            "File not found: /content/dataset/Expressionism/eugã¨ne-grasset_la-morphiniste-1897.jpg\n",
            "File not found: /content/dataset/Expressionism/eugã¨ne-grasset_three-women-and-three-wolves.jpg\n",
            "File not found: /content/dataset/Expressionism/fã©lix-del-marle_etude-pour-l-homme-qui-boit-1931.jpg\n",
            "File not found: /content/dataset/Expressionism/fã©lix-del-marle_nu-agenouill-sur-fond-bleu-1937.jpg\n",
            "File not found: /content/dataset/Impressionism/antã³nio-de-carvalho-da-silva-porto_na-cisterna.jpg\n",
            "File not found: /content/dataset/Impressionism/antã³nio-de-carvalho-da-silva-porto_na-ilha-de-capri-1877.jpg\n",
            "File not found: /content/dataset/Impressionism/antã³nio-de-carvalho-da-silva-porto_no-areinho-douro-1880.jpg\n",
            "File not found: /content/dataset/Impressionism/antã³nio-de-carvalho-da-silva-porto_recanto-de-praia.jpg\n",
            "File not found: /content/dataset/Impressionism/antã³nio-de-carvalho-da-silva-porto_volta-do-mercado-1886.jpg\n",
            "File not found: /content/dataset/Impressionism/joaquã­n-sorolla_a-farmhouse-in-valencia.jpg\n",
            "File not found: /content/dataset/Impressionism/joaquã­n-sorolla_a-portrait-of-basil-mundy-1908.jpg\n",
            "File not found: /content/dataset/Impressionism/joaquã­n-sorolla_a-rooftop-with-flowers-1906.jpg\n",
            "File not found: /content/dataset/Impressionism/joaquã­n-sorolla_academical-painting-from-nature-1887.jpg\n",
            "File not found: /content/dataset/Impressionism/joaquã­n-sorolla_adobe-houses.jpg\n",
            "File not found: /content/dataset/Impressionism/joaquã­n-sorolla_after-bathing-valencia-1908.jpg\n",
            "File not found: /content/dataset/Impressionism/joaquã­n-sorolla_after-the-bath-1902.jpg\n",
            "File not found: /content/dataset/Impressionism/joaquã­n-sorolla_after-the-bath-1916.jpg\n",
            "File not found: /content/dataset/Impressionism/joaquã­n-sorolla_after-the-bath-valencia-1916.jpg\n",
            "File not found: /content/dataset/Impressionism/joaquã­n-sorolla_afternoon-sun-1903.jpg\n",
            "File not found: /content/dataset/Impressionism/joaquã­n-sorolla_aim-of-ibiza.jpg\n",
            "File not found: /content/dataset/Impressionism/joaquã­n-sorolla_an-arab-examining-a-pistol-1881.jpg\n",
            "File not found: /content/dataset/Impressionism/joaquã­n-sorolla_andalusia-the-round-up-1914.jpg\n",
            "File not found: /content/dataset/Impressionism/joaquã­n-sorolla_around-segovia.jpg\n",
            "File not found: /content/dataset/Impressionism/joaquã­n-sorolla_arrival-of-the-boats-1898.jpg\n",
            "File not found: /content/dataset/Impressionism/joaquã­n-sorolla_artist-s-patio-cafe-novedades-seville-1915.jpg\n",
            "File not found: /content/dataset/Impressionism/joaquã­n-sorolla_asturian-girl.jpg\n",
            "File not found: /content/dataset/Impressionism/joaquã­n-sorolla_asturian-landscape-1903.jpg\n",
            "File not found: /content/dataset/Impressionism/joaquã­n-sorolla_aureliano-de-beruete-1902.jpg\n",
            "File not found: /content/dataset/Impressionism/joaquã­n-sorolla_bacchante-1886.jpg\n",
            "File not found: /content/dataset/Impressionism/joaquã­n-sorolla_bathing-at-la-granja-1907.jpg\n",
            "File not found: /content/dataset/Impressionism/joaquã­n-sorolla_bathing-time-1904.jpg\n",
            "File not found: /content/dataset/Impressionism/joaquã­n-sorolla_bathing.jpg\n",
            "File not found: /content/dataset/Impressionism/joaquã­n-sorolla_beach-at-zarauz-1910.jpg\n",
            "File not found: /content/dataset/Impressionism/joaquã­n-sorolla_beach-of-biarritz-france.jpg\n",
            "File not found: /content/dataset/Impressionism/joaquã­n-sorolla_beach-of-biarritz.jpg\n",
            "File not found: /content/dataset/Impressionism/joaquã­n-sorolla_beached-boats-1915.jpg\n",
            "File not found: /content/dataset/Impressionism/joaquã­n-sorolla_beaching-the-boat-study-1908.jpg\n",
            "File not found: /content/dataset/Impressionism/joaquã­n-sorolla_before-the-bath-1909.jpg\n",
            "File not found: /content/dataset/Impressionism/joaquã­n-sorolla_beneath-the-canopy-1910.jpg\n",
            "File not found: /content/dataset/Impressionism/joaquã­n-sorolla_benito-perez-galdos-1894.jpg\n",
            "File not found: /content/dataset/Impressionism/joaquã­n-sorolla_blessing-the-boat-1895.jpg\n",
            "File not found: /content/dataset/Impressionism/joaquã­n-sorolla_boat-builders-1894.jpg\n",
            "File not found: /content/dataset/Impressionism/joaquã­n-sorolla_boat-in-albufera-1908.jpg\n",
            "File not found: /content/dataset/Impressionism/joaquã­n-sorolla_boats-in-the-port-valencia-1904.jpg\n",
            "File not found: /content/dataset/Impressionism/joaquã­n-sorolla_boy-in-sea-foam-1900.jpg\n",
            "File not found: /content/dataset/Impressionism/joaquã­n-sorolla_boy-on-the-rocks-javea.jpg\n",
            "File not found: /content/dataset/Impressionism/joaquã­n-sorolla_boy-with-a-ball-1887.jpg\n",
            "File not found: /content/dataset/Impressionism/joaquã­n-sorolla_boys-in-the-sea.jpg\n",
            "File not found: /content/dataset/Impressionism/joaquã­n-sorolla_cafe-in-paris-1885.jpg\n",
            "File not found: /content/dataset/Impressionism/joaquã­n-sorolla_calle-de-st-vicente-mallorca-1902.jpg\n",
            "File not found: /content/dataset/Impressionism/joaquã­n-sorolla_castle-of-la-mota-medina-del-campo.jpg\n",
            "File not found: /content/dataset/Impressionism/joaquã­n-sorolla_child-s-siesta.jpg\n",
            "File not found: /content/dataset/Impressionism/joaquã­n-sorolla_children-at-the-beach-1899.jpg\n",
            "File not found: /content/dataset/Impressionism/joaquã­n-sorolla_children-bathing-in-the-afternoon-sun-1910.jpg\n",
            "File not found: /content/dataset/Impressionism/joaquã­n-sorolla_children-in-the-sea-1909.jpg\n",
            "File not found: /content/dataset/Impressionism/joaquã­n-sorolla_children-in-the-sea.jpg\n",
            "File not found: /content/dataset/Impressionism/joaquã­n-sorolla_children-on-the-beach-1910.jpg\n",
            "File not found: /content/dataset/Impressionism/joaquã­n-sorolla_children-on-the-beach-valencia-1916.jpg\n",
            "File not found: /content/dataset/Impressionism/joaquã­n-sorolla_chumberas-study.jpg\n",
            "File not found: /content/dataset/Impressionism/joaquã­n-sorolla_church-roncal-stairs.jpg\n",
            "File not found: /content/dataset/Impressionism/joaquã­n-sorolla_clothilde-at-the-beach-1904.jpg\n",
            "File not found: /content/dataset/Impressionism/joaquã­n-sorolla_clotidle-sitting-on-the-sofa-1910.jpg\n",
            "File not found: /content/dataset/Impressionism/joaquã­n-sorolla_clotilde-and-elena-on-the-rocks-at-javea-1905.jpg\n",
            "File not found: /content/dataset/Impressionism/joaquã­n-sorolla_clotilde-in-a-black-dress-1906.jpg\n",
            "File not found: /content/dataset/Impressionism/joaquã­n-sorolla_clotilde-in-an-evening-dress-1910.jpg\n",
            "File not found: /content/dataset/Impressionism/joaquã­n-sorolla_clotilde-with-hat.jpg\n",
            "File not found: /content/dataset/Impressionism/joaquã­n-sorolla_coast-at-santa-cristina-1914.jpg\n",
            "File not found: /content/dataset/Impressionism/joaquã­n-sorolla_courtyard-1910.jpg\n",
            "File not found: /content/dataset/Impressionism/joaquã­n-sorolla_covachuelas-toledo-1906.jpg\n",
            "File not found: /content/dataset/Impressionism/joaquã­n-sorolla_elderly-castellano-pouring-wine-1907.jpg\n",
            "File not found: /content/dataset/Impressionism/joaquã­n-sorolla_elena-at-her-desk-1898.jpg\n",
            "File not found: /content/dataset/Impressionism/joaquã­n-sorolla_elena-in-a-yellow-tunic-1909.jpg\n",
            "File not found: /content/dataset/Impressionism/joaquã­n-sorolla_elenita-at-the-beach-asturias-1903.jpg\n",
            "File not found: /content/dataset/Impressionism/joaquã­n-sorolla_entrance-to-central-park.jpg\n",
            "File not found: /content/dataset/Impressionism/joaquã­n-sorolla_ex-voto-1892.jpg\n",
            "File not found: /content/dataset/Impressionism/joaquã­n-sorolla_excerpts.jpg\n",
            "File not found: /content/dataset/Impressionism/joaquã­n-sorolla_family-eratruriz-1905.jpg\n",
            "File not found: /content/dataset/Impressionism/joaquã­n-sorolla_farmhouse-in-alcira-1903.jpg\n",
            "File not found: /content/dataset/Impressionism/joaquã­n-sorolla_farmhouse-in-valencia.jpg\n",
            "File not found: /content/dataset/Impressionism/joaquã­n-sorolla_female-nude-1916.jpg\n",
            "File not found: /content/dataset/Impressionism/joaquã­n-sorolla_field-in-asturias-1903.jpg\n",
            "File not found: /content/dataset/Impressionism/joaquã­n-sorolla_fisherman-in-valencia-1904.jpg\n",
            "File not found: /content/dataset/Impressionism/joaquã­n-sorolla_fishermen-pull-in-the-nets-1896.jpg\n",
            "File not found: /content/dataset/Impressionism/joaquã­n-sorolla_fisherwoman-from-valencia-1916.jpg\n",
            "File not found: /content/dataset/Impressionism/joaquã­n-sorolla_fisherwomen-on-the-beach-valencia-1903.jpg\n",
            "File not found: /content/dataset/Impressionism/joaquã­n-sorolla_fishing-boats-1915.jpg\n",
            "File not found: /content/dataset/Impressionism/joaquã­n-sorolla_fishing-nets-1893.jpg\n",
            "File not found: /content/dataset/Impressionism/joaquã­n-sorolla_fountain-of-neptune-la-granja-1907.jpg\n",
            "File not found: /content/dataset/Impressionism/joaquã­n-sorolla_furnace-of-elche-palm.jpg\n",
            "File not found: /content/dataset/Impressionism/joaquã­n-sorolla_galician-party.jpg\n",
            "File not found: /content/dataset/Impressionism/joaquã­n-sorolla_game-of-skittles-1914.jpg\n",
            "File not found: /content/dataset/Impressionism/joaquã­n-sorolla_garden-of-italy.jpg\n",
            "File not found: /content/dataset/Impressionism/joaquã­n-sorolla_garden-of-lindaraja-1909.jpg\n",
            "File not found: /content/dataset/Impressionism/joaquã­n-sorolla_garden-of-spanish-farmhouse-1909.jpg\n",
            "File not found: /content/dataset/Impressionism/joaquã­n-sorolla_gardens-at-san-ildefonso-1907.jpg\n",
            "File not found: /content/dataset/Impressionism/joaquã­n-sorolla_gardens-of-alcazar-sevilla-1910.jpg\n",
            "File not found: /content/dataset/Impressionism/joaquã­n-sorolla_generalife-granada-1910.jpg\n",
            "File not found: /content/dataset/Impressionism/joaquã­n-sorolla_girl-with-flowers.jpg\n",
            "File not found: /content/dataset/Impressionism/joaquã­n-sorolla_granada.jpg\n",
            "File not found: /content/dataset/Impressionism/joaquã­n-sorolla_grape-harvest-1896.jpg\n",
            "File not found: /content/dataset/Impressionism/joaquã­n-sorolla_gray-day-on-valencia-beach-1901.jpg\n",
            "File not found: /content/dataset/Impressionism/joaquã­n-sorolla_head-of-an-italian-girl-1886.jpg\n",
            "File not found: /content/dataset/Impressionism/joaquã­n-sorolla_idyll-javea-1900.jpg\n",
            "File not found: /content/dataset/Impressionism/joaquã­n-sorolla_in-hope-of-the-fishing-1913.jpg\n",
            "File not found: /content/dataset/Impressionism/joaquã­n-sorolla_in-the-garden-1896.jpg\n",
            "File not found: /content/dataset/Impressionism/joaquã­n-sorolla_in-the-racing-shell-1910.jpg\n",
            "File not found: /content/dataset/Impressionism/joaquã­n-sorolla_inquisitive-child-1916.jpg\n",
            "File not found: /content/dataset/Impressionism/joaquã­n-sorolla_isla-del-cap-marti-javea-1905.jpg\n",
            "File not found: /content/dataset/Impressionism/joaquã­n-sorolla_italian-girl-with-flowers-1886.jpg\n",
            "File not found: /content/dataset/Impressionism/joaquã­n-sorolla_italian-street.jpg\n",
            "File not found: /content/dataset/Impressionism/joaquã­n-sorolla_just-out-of-the-sea-1915.jpg\n",
            "File not found: /content/dataset/Impressionism/joaquã­n-sorolla_la-salute-venice-1910.jpg\n",
            "File not found: /content/dataset/Impressionism/joaquã­n-sorolla_landscape-in-san-sebastian.jpg\n",
            "File not found: /content/dataset/Impressionism/joaquã­n-sorolla_landscape.jpg\n",
            "File not found: /content/dataset/Impressionism/joaquã­n-sorolla_landscapes-of-san-pedro-san-sebastian.jpg\n",
            "File not found: /content/dataset/Impressionism/joaquã­n-sorolla_looking-for-crabs-among-the-rocks-javea-1905.jpg\n",
            "File not found: /content/dataset/Impressionism/joaquã­n-sorolla_looking-for-shellfish-1905.jpg\n",
            "File not found: /content/dataset/Impressionism/joaquã­n-sorolla_looking-for-shellfish-1919.jpg\n",
            "File not found: /content/dataset/Impressionism/joaquã­n-sorolla_louis-comfort-tiffany-1911.jpg\n",
            "File not found: /content/dataset/Impressionism/joaquã­n-sorolla_lunch-on-the-boat-1898.jpg\n",
            "File not found: /content/dataset/Impressionism/joaquã­n-sorolla_malvarossa-valencia.jpg\n",
            "File not found: /content/dataset/Impressionism/joaquã­n-sorolla_malvarrosa-valencia.jpg\n",
            "File not found: /content/dataset/Impressionism/joaquã­n-sorolla_maria-1900.jpg\n",
            "File not found: /content/dataset/Impressionism/joaquã­n-sorolla_maria-at-la-granja-1907.jpg\n",
            "File not found: /content/dataset/Impressionism/joaquã­n-sorolla_maria-at-the-beach-biarritz-1906.jpg\n",
            "File not found: /content/dataset/Impressionism/joaquã­n-sorolla_maria-dressed-as-a-valencian-peasant-girl-1906.jpg\n",
            "File not found: /content/dataset/Impressionism/joaquã­n-sorolla_maria-painting-in-el-pardo-1907.jpg\n",
            "File not found: /content/dataset/Impressionism/joaquã­n-sorolla_maria-with-hat-1910.jpg\n",
            "File not found: /content/dataset/Impressionism/joaquã­n-sorolla_marian-in-the-gardens-la-granja-1907.jpg\n",
            "File not found: /content/dataset/Impressionism/joaquã­n-sorolla_mending-nets-1901.jpg\n",
            "File not found: /content/dataset/Impressionism/joaquã­n-sorolla_mending-the-sail-1896.jpg\n",
            "File not found: /content/dataset/Impressionism/joaquã­n-sorolla_mending-the-sail-1904.jpg\n",
            "File not found: /content/dataset/Impressionism/joaquã­n-sorolla_midday-at-valencia-beach-1904.jpg\n",
            "File not found: /content/dataset/Impressionism/joaquã­n-sorolla_monte-ullia-san-sebastian-1909.jpg\n",
            "File not found: /content/dataset/Impressionism/joaquã­n-sorolla_mother-1895.jpg\n",
            "File not found: /content/dataset/Impressionism/joaquã­n-sorolla_mother-and-daughter-valencia-beach-1916.jpg\n",
            "File not found: /content/dataset/Impressionism/joaquã­n-sorolla_mountains-at-jaca.jpg\n",
            "File not found: /content/dataset/Impressionism/joaquã­n-sorolla_my-wife-and-daughters-in-the-garden-1910.jpg\n",
            "File not found: /content/dataset/Impressionism/joaquã­n-sorolla_naranjos-alcira.jpg\n",
            "File not found: /content/dataset/Impressionism/joaquã­n-sorolla_navarre-the-town-council-of-roncal-1914.jpg\n",
            "File not found: /content/dataset/Impressionism/joaquã­n-sorolla_near-jaca.jpg\n",
            "File not found: /content/dataset/Impressionism/joaquã­n-sorolla_net-menders-in-valencia-1909.jpg\n",
            "File not found: /content/dataset/Impressionism/joaquã­n-sorolla_new-york.jpg\n",
            "File not found: /content/dataset/Impressionism/joaquã­n-sorolla_old-valencian-fisherman-1907.jpg\n",
            "File not found: /content/dataset/Impressionism/joaquã­n-sorolla_on-san-sebastian-beach-1900.jpg\n",
            "File not found: /content/dataset/Impressionism/joaquã­n-sorolla_on-the-beach-at-valencia-1910.jpg\n",
            "File not found: /content/dataset/Impressionism/joaquã­n-sorolla_on-the-beach-at-valencia-1916.jpg\n",
            "File not found: /content/dataset/Impressionism/joaquã­n-sorolla_on-the-beach.jpg\n",
            "File not found: /content/dataset/Impressionism/joaquã­n-sorolla_on-the-coast-of-valencia-1898.jpg\n",
            "File not found: /content/dataset/Impressionism/joaquã­n-sorolla_on-the-rocks-at-javea-1905.jpg\n",
            "File not found: /content/dataset/Impressionism/joaquã­n-sorolla_on-the-sand-valencia-beach-1908.jpg\n",
            "File not found: /content/dataset/Impressionism/joaquã­n-sorolla_on-the-sands-at-zarauz-beach-1910.jpg\n",
            "File not found: /content/dataset/Impressionism/joaquã­n-sorolla_orange-seller-1891.jpg\n",
            "File not found: /content/dataset/Impressionism/joaquã­n-sorolla_orange-trees-on-the-road-to-seville-1903.jpg\n",
            "File not found: /content/dataset/Impressionism/joaquã­n-sorolla_outskirts-of-seville-1914.jpg\n",
            "File not found: /content/dataset/Impressionism/joaquã­n-sorolla_oxen-at-the-beach-1916.jpg\n",
            "File not found: /content/dataset/Impressionism/joaquã­n-sorolla_oxen-in-the-sea-study-for-sun-of-afternoon-1903.jpg\n",
            "File not found: /content/dataset/Impressionism/joaquã­n-sorolla_painters-on-the-beach.jpg\n",
            "File not found: /content/dataset/Impressionism/joaquã­n-sorolla_peeling-potatoes-1891.jpg\n",
            "File not found: /content/dataset/Impressionism/joaquã­n-sorolla_peppers-1903.jpg\n",
            "File not found: /content/dataset/Impressionism/joaquã­n-sorolla_pine-trees-1902.jpg\n",
            "File not found: /content/dataset/Impressionism/joaquã­n-sorolla_port-of-passages.jpg\n",
            "File not found: /content/dataset/Impressionism/joaquã­n-sorolla_portrait-of-a-caballero-1884.jpg\n",
            "File not found: /content/dataset/Impressionism/joaquã­n-sorolla_portrait-of-a-gentleman.jpg\n",
            "File not found: /content/dataset/Impressionism/joaquã­n-sorolla_portrait-of-a-girl.jpg\n",
            "File not found: /content/dataset/Impressionism/joaquã­n-sorolla_portrait-of-a-jack-russell-1909.jpg\n",
            "File not found: /content/dataset/Impressionism/joaquã­n-sorolla_portrait-of-a-woman.jpg\n",
            "File not found: /content/dataset/Impressionism/joaquã­n-sorolla_portrait-of-antonio-elegido-1893.jpg\n",
            "File not found: /content/dataset/Impressionism/joaquã­n-sorolla_portrait-of-clothilde-1891.jpg\n",
            "File not found: /content/dataset/Impressionism/joaquã­n-sorolla_portrait-of-countess-of-santiago-1894.jpg\n",
            "File not found: /content/dataset/Impressionism/joaquã­n-sorolla_portrait-of-don-aureliano-de-beruete-1902.jpg\n",
            "File not found: /content/dataset/Impressionism/joaquã­n-sorolla_portrait-of-dona-elena-ortuzar-blasco-ibanez.jpg\n",
            "File not found: /content/dataset/Impressionism/joaquã­n-sorolla_portrait-of-king-alfonso-xiii-in-the-uniform-of-the-hussars-1907.jpg\n",
            "File not found: /content/dataset/Impressionism/joaquã­n-sorolla_portrait-of-king-alfonso.jpg\n",
            "File not found: /content/dataset/Impressionism/joaquã­n-sorolla_portrait-of-lawyer-don-silverio-de-la-torre-y-eguia-1893.jpg\n",
            "File not found: /content/dataset/Impressionism/joaquã­n-sorolla_portrait-of-mr-taft-president-of-the-united-states-1909.jpg\n",
            "File not found: /content/dataset/Impressionism/joaquã­n-sorolla_portrait-of-photographer-christian-franzen-1901.jpg\n",
            "File not found: /content/dataset/Impressionism/joaquã­n-sorolla_preparing-raisins-1900.jpg\n",
            "File not found: /content/dataset/Impressionism/joaquã­n-sorolla_promenade-by-the-sea-1909.jpg\n",
            "File not found: /content/dataset/Impressionism/joaquã­n-sorolla_pulling-the-boat-1916.jpg\n",
            "File not found: /content/dataset/Impressionism/joaquã­n-sorolla_raimundo-de-madrazo-in-his-paris-garden-1906.jpg\n",
            "File not found: /content/dataset/Impressionism/joaquã­n-sorolla_reflections-at-the-cape-javea-1905.jpg\n",
            "File not found: /content/dataset/Impressionism/joaquã­n-sorolla_reservoir-at-the-alcazin-seville-1910.jpg\n",
            "File not found: /content/dataset/Impressionism/joaquã­n-sorolla_roads-of-alijales-toledo-1906.jpg\n",
            "File not found: /content/dataset/Impressionism/joaquã­n-sorolla_rocks-and-the-lighthouse-biarritz-1906.jpg\n",
            "File not found: /content/dataset/Impressionism/joaquã­n-sorolla_rocks-and-white-boat-javea-1905.jpg\n",
            "File not found: /content/dataset/Impressionism/joaquã­n-sorolla_rocks-at-javea-the-white-boat-1905.jpg\n",
            "File not found: /content/dataset/Impressionism/joaquã­n-sorolla_rocks-of-the-cape-javea-1905.jpg\n",
            "File not found: /content/dataset/Impressionism/joaquã­n-sorolla_ropemakers-1893.jpg\n",
            "File not found: /content/dataset/Impressionism/joaquã­n-sorolla_rose-bush-at-the-sorolla-house-1918.jpg\n",
            "File not found: /content/dataset/Impressionism/joaquã­n-sorolla_ruins-of-bunol-1894.jpg\n",
            "File not found: /content/dataset/Impressionism/joaquã­n-sorolla_running-along-the-beach-1908.jpg\n",
            "File not found: /content/dataset/Impressionism/joaquã­n-sorolla_sad-inheritance-1899.jpg\n",
            "File not found: /content/dataset/Impressionism/joaquã­n-sorolla_sad-inheritance-study-beach-rascals-1908.jpg\n",
            "File not found: /content/dataset/Impressionism/joaquã­n-sorolla_sailing-vessels-on-a-breezy-day-valencia.jpg\n",
            "File not found: /content/dataset/Impressionism/joaquã­n-sorolla_san-martin-bridge-at-toledo-1906.jpg\n",
            "File not found: /content/dataset/Impressionism/joaquã­n-sorolla_san-sebastian-landscape.jpg\n",
            "File not found: /content/dataset/Impressionism/joaquã­n-sorolla_san-vicente-cape.jpg\n",
            "File not found: /content/dataset/Impressionism/joaquã­n-sorolla_sea-and-rocks-in-san-esteban-asturias-1903.jpg\n",
            "File not found: /content/dataset/Impressionism/joaquã­n-sorolla_sea-at-ibiza-1904.jpg\n",
            "File not found: /content/dataset/Impressionism/joaquã­n-sorolla_sea-idyll-1908.jpg\n",
            "File not found: /content/dataset/Impressionism/joaquã­n-sorolla_seascape-1904.jpg\n",
            "File not found: /content/dataset/Impressionism/joaquã­n-sorolla_seashore-1906.jpg\n",
            "File not found: /content/dataset/Impressionism/joaquã­n-sorolla_seated-nude-1906.jpg\n",
            "File not found: /content/dataset/Impressionism/joaquã­n-sorolla_seville-the-bullfighters-1915.jpg\n",
            "File not found: /content/dataset/Impressionism/joaquã­n-sorolla_seville-the-dance-1915.jpg\n",
            "File not found: /content/dataset/Impressionism/joaquã­n-sorolla_shipyard-valencia-beach.jpg\n",
            "File not found: /content/dataset/Impressionism/joaquã­n-sorolla_sick-maria-1907.jpg\n",
            "File not found: /content/dataset/Impressionism/joaquã­n-sorolla_sketch-for-sad-legacy.jpg\n",
            "File not found: /content/dataset/Impressionism/joaquã­n-sorolla_skipping-rope-at-la-granja-1907.jpg\n",
            "File not found: /content/dataset/Impressionism/joaquã­n-sorolla_snapshot-at-biarritz-1906.jpg\n",
            "File not found: /content/dataset/Impressionism/joaquã­n-sorolla_square-of-valencia.jpg\n",
            "File not found: /content/dataset/Impressionism/joaquã­n-sorolla_stemming-raisins-javea-1898.jpg\n",
            "File not found: /content/dataset/Impressionism/joaquã­n-sorolla_street-in-granada.jpg\n",
            "File not found: /content/dataset/Impressionism/joaquã­n-sorolla_strolling-along-the-seashore-1909-1.jpg\n",
            "File not found: /content/dataset/Impressionism/joaquã­n-sorolla_strolling-along-the-seashore-1909.jpg\n",
            "File not found: /content/dataset/Impressionism/joaquã­n-sorolla_study-for-the-comeback-of-the-fisheries-1894.jpg\n",
            "File not found: /content/dataset/Impressionism/joaquã­n-sorolla_study-of-vineyard.jpg\n",
            "File not found: /content/dataset/Impressionism/joaquã­n-sorolla_summer-1904.jpg\n",
            "File not found: /content/dataset/Impressionism/joaquã­n-sorolla_surtidor-1899.jpg\n",
            "File not found: /content/dataset/Impressionism/joaquã­n-sorolla_swimmers-javea-1905.jpg\n",
            "File not found: /content/dataset/Impressionism/joaquã­n-sorolla_the-alcazar-1908.jpg\n",
            "File not found: /content/dataset/Impressionism/joaquã­n-sorolla_the-alcazat-seville-1908.jpg\n",
            "File not found: /content/dataset/Impressionism/joaquã­n-sorolla_the-arrival-of-the-boats-1907.jpg\n",
            "File not found: /content/dataset/Impressionism/joaquã­n-sorolla_the-bath-javea-1905.jpg\n",
            "File not found: /content/dataset/Impressionism/joaquã­n-sorolla_the-beach-at-biarritz-sketch.jpg\n",
            "File not found: /content/dataset/Impressionism/joaquã­n-sorolla_the-beach-of-biarritz-1907.jpg\n",
            "File not found: /content/dataset/Impressionism/joaquã­n-sorolla_the-breackwater-san-sebastian.jpg\n",
            "File not found: /content/dataset/Impressionism/joaquã­n-sorolla_the-breakwater-at-san-sebastian-1917.jpg\n",
            "File not found: /content/dataset/Impressionism/joaquã­n-sorolla_the-cave-at-san-javea-1895.jpg\n",
            "File not found: /content/dataset/Impressionism/joaquã­n-sorolla_the-cemetery-at-sierra-nevada-granada-1910.jpg\n",
            "File not found: /content/dataset/Impressionism/joaquã­n-sorolla_the-christening-1899.jpg\n",
            "File not found: /content/dataset/Impressionism/joaquã­n-sorolla_the-coast-near-san-sebastian-1918.jpg\n",
            "File not found: /content/dataset/Impressionism/joaquã­n-sorolla_the-count-of-artal-1900.jpg\n",
            "File not found: /content/dataset/Impressionism/joaquã­n-sorolla_the-first-child-1890.jpg\n",
            "File not found: /content/dataset/Impressionism/joaquã­n-sorolla_the-fish-catalonia-1915.jpg\n",
            "File not found: /content/dataset/Impressionism/joaquã­n-sorolla_the-happy-day-1892.jpg\n",
            "File not found: /content/dataset/Impressionism/joaquã­n-sorolla_the-los-adarves-gardens-the-alhambra-granada.jpg\n",
            "File not found: /content/dataset/Impressionism/joaquã­n-sorolla_the-milkmaid.jpg\n",
            "File not found: /content/dataset/Impressionism/joaquã­n-sorolla_the-musketeer.jpg\n",
            "File not found: /content/dataset/Impressionism/joaquã­n-sorolla_the-nap-asturias-1903.jpg\n",
            "File not found: /content/dataset/Impressionism/joaquã­n-sorolla_the-net-1893.jpg\n",
            "File not found: /content/dataset/Impressionism/joaquã­n-sorolla_the-old-bridge-of-avila-1910.jpg\n",
            "File not found: /content/dataset/Impressionism/joaquã­n-sorolla_the-outskirts-of-segovia-1906.jpg\n",
            "File not found: /content/dataset/Impressionism/joaquã­n-sorolla_the-press-1896.jpg\n",
            "File not found: /content/dataset/Impressionism/joaquã­n-sorolla_the-rainbow-1907.jpg\n",
            "File not found: /content/dataset/Impressionism/joaquã­n-sorolla_the-relic-1893.jpg\n",
            "File not found: /content/dataset/Impressionism/joaquã­n-sorolla_the-shadow-of-alcantara-bridge-toledo-1906.jpg\n",
            "File not found: /content/dataset/Impressionism/joaquã­n-sorolla_the-siesta-1912.jpg\n",
            "File not found: /content/dataset/Impressionism/joaquã­n-sorolla_the-small-cove-javea-1898.jpg\n",
            "File not found: /content/dataset/Impressionism/joaquã­n-sorolla_the-smugglers-1919.jpg\n",
            "File not found: /content/dataset/Impressionism/joaquã­n-sorolla_the-suckling-child-1894.jpg\n",
            "File not found: /content/dataset/Impressionism/joaquã­n-sorolla_the-three-errazuriz-sisters-1897.jpg\n",
            "File not found: /content/dataset/Impressionism/joaquã­n-sorolla_the-tunny-catch-1919.jpg\n",
            "File not found: /content/dataset/Impressionism/joaquã­n-sorolla_the-two-sisters-1909.jpg\n",
            "File not found: /content/dataset/Impressionism/joaquã­n-sorolla_the-waterwheel-javea-1900.jpg\n",
            "File not found: /content/dataset/Impressionism/joaquã­n-sorolla_the-white-boat-javea-1905.jpg\n",
            "File not found: /content/dataset/Impressionism/joaquã­n-sorolla_the-young-yachtsman-1909.jpg\n",
            "File not found: /content/dataset/Impressionism/joaquã­n-sorolla_they-still-say-that-fish-is-expensive-1894.jpg\n",
            "File not found: /content/dataset/Impressionism/joaquã­n-sorolla_three-boats-by-a-shore-1899.jpg\n",
            "File not found: /content/dataset/Impressionism/joaquã­n-sorolla_three-sails-1903.jpg\n",
            "File not found: /content/dataset/Impressionism/joaquã­n-sorolla_three-studies-of-head-1887.jpg\n",
            "File not found: /content/dataset/Impressionism/joaquã­n-sorolla_to-the-water-1902.jpg\n",
            "File not found: /content/dataset/Impressionism/joaquã­n-sorolla_to-the-water-valencia-1908.jpg\n",
            "File not found: /content/dataset/Impressionism/joaquã­n-sorolla_tower-of-seven-pont-alhambra-granada-1910.jpg\n",
            "File not found: /content/dataset/Impressionism/joaquã­n-sorolla_traditional-dress-from-the-anso-valley-1914.jpg\n",
            "File not found: /content/dataset/Impressionism/joaquã­n-sorolla_trafficking-in-human-beings-1894.jpg\n",
            "File not found: /content/dataset/Impressionism/joaquã­n-sorolla_triana-bridge-seville-1908.jpg\n",
            "File not found: /content/dataset/Impressionism/joaquã­n-sorolla_types-of-la-mancha-1912.jpg\n",
            "File not found: /content/dataset/Impressionism/joaquã­n-sorolla_types-of-the-roncal.jpg\n",
            "File not found: /content/dataset/Impressionism/joaquã­n-sorolla_under-the-sawning-at-zarauz-beach-1910.jpg\n",
            "File not found: /content/dataset/Impressionism/joaquã­n-sorolla_under-the-tamarinds-san-sebastian.jpg\n",
            "File not found: /content/dataset/Impressionism/joaquã­n-sorolla_valencia-1910.jpg\n",
            "File not found: /content/dataset/Impressionism/joaquã­n-sorolla_valencia-couples-on-horseback-1916.jpg\n",
            "File not found: /content/dataset/Impressionism/joaquã­n-sorolla_valencia-street-with-awnings.jpg\n",
            "File not found: /content/dataset/Impressionism/joaquã­n-sorolla_valencia-two-little-girls-on-a-beach-1904.jpg\n",
            "File not found: /content/dataset/Impressionism/joaquã­n-sorolla_valencian-dance-in-an-orange-grove-1898.jpg\n",
            "File not found: /content/dataset/Impressionism/joaquã­n-sorolla_valencian-fiesin-an-orange-grove-1898.jpg\n",
            "File not found: /content/dataset/Impressionism/joaquã­n-sorolla_valencian-fisherman-1897.jpg\n",
            "File not found: /content/dataset/Impressionism/joaquã­n-sorolla_valencian-fishwives-1903.jpg\n",
            "File not found: /content/dataset/Impressionism/joaquã­n-sorolla_valencian-scene-1893.jpg\n",
            "File not found: /content/dataset/Impressionism/joaquã­n-sorolla_view-of-plascencia-1917.jpg\n",
            "File not found: /content/dataset/Impressionism/joaquã­n-sorolla_view-of-segovia-1906.jpg\n",
            "File not found: /content/dataset/Impressionism/joaquã­n-sorolla_view-of-toledo-1912.jpg\n",
            "File not found: /content/dataset/Impressionism/joaquã­n-sorolla_virgin-mary-1887.jpg\n",
            "File not found: /content/dataset/Impressionism/joaquã­n-sorolla_waiting-1888.jpg\n",
            "File not found: /content/dataset/Impressionism/joaquã­n-sorolla_women-on-the-beach-in-san-sebastian.jpg\n",
            "File not found: /content/dataset/Impressionism/joaquã­n-sorolla_wounded-foot-1909.jpg\n",
            "File not found: /content/dataset/Naive_Art_Primitivism/grã©goire-michonze_animals.jpg\n",
            "File not found: /content/dataset/Naive_Art_Primitivism/grã©goire-michonze_bi-vres-vall-e-de-chevreuses-1957.jpg\n",
            "File not found: /content/dataset/Naive_Art_Primitivism/grã©goire-michonze_birds.jpg\n",
            "File not found: /content/dataset/Naive_Art_Primitivism/grã©goire-michonze_children-s-games-1979.jpg\n",
            "File not found: /content/dataset/Naive_Art_Primitivism/grã©goire-michonze_country-landscape-1966.jpg\n",
            "File not found: /content/dataset/Naive_Art_Primitivism/grã©goire-michonze_family-1960(1).jpg\n",
            "File not found: /content/dataset/Naive_Art_Primitivism/grã©goire-michonze_family-1960.jpg\n",
            "File not found: /content/dataset/Naive_Art_Primitivism/grã©goire-michonze_family-1964.jpg\n",
            "File not found: /content/dataset/Naive_Art_Primitivism/grã©goire-michonze_family-1981.jpg\n",
            "File not found: /content/dataset/Naive_Art_Primitivism/grã©goire-michonze_family-and-animals.jpg\n",
            "File not found: /content/dataset/Naive_Art_Primitivism/grã©goire-michonze_family-in-a-village-1965.jpg\n",
            "File not found: /content/dataset/Naive_Art_Primitivism/grã©goire-michonze_field-with-figures.jpg\n",
            "File not found: /content/dataset/Naive_Art_Primitivism/grã©goire-michonze_figures-in-a-room-1981.jpg\n",
            "File not found: /content/dataset/Naive_Art_Primitivism/grã©goire-michonze_figures-in-the-village(1).jpg\n",
            "File not found: /content/dataset/Naive_Art_Primitivism/grã©goire-michonze_figures-in-the-village(2).jpg\n",
            "File not found: /content/dataset/Naive_Art_Primitivism/grã©goire-michonze_figures-in-the-village-1964.jpg\n",
            "File not found: /content/dataset/Naive_Art_Primitivism/grã©goire-michonze_figures-in-the-village.jpg\n",
            "File not found: /content/dataset/Naive_Art_Primitivism/grã©goire-michonze_figures.jpg\n",
            "File not found: /content/dataset/Naive_Art_Primitivism/grã©goire-michonze_goats-grazing-in-a-landscape-1961.jpg\n",
            "File not found: /content/dataset/Naive_Art_Primitivism/grã©goire-michonze_in-the-village(1).jpg\n",
            "File not found: /content/dataset/Naive_Art_Primitivism/grã©goire-michonze_in-the-village-1960.jpg\n",
            "File not found: /content/dataset/Naive_Art_Primitivism/grã©goire-michonze_in-the-village.jpg\n",
            "File not found: /content/dataset/Naive_Art_Primitivism/grã©goire-michonze_landscape-1977.jpg\n",
            "File not found: /content/dataset/Naive_Art_Primitivism/grã©goire-michonze_le-mur-rose-1961.jpg\n",
            "File not found: /content/dataset/Naive_Art_Primitivism/grã©goire-michonze_les-femmes-enceintes.jpg\n",
            "File not found: /content/dataset/Naive_Art_Primitivism/grã©goire-michonze_nude.jpg\n",
            "File not found: /content/dataset/Naive_Art_Primitivism/grã©goire-michonze_picnic-1957.jpg\n",
            "File not found: /content/dataset/Naive_Art_Primitivism/grã©goire-michonze_scene-de-village-aux-oiseaux-bleus.jpg\n",
            "File not found: /content/dataset/Naive_Art_Primitivism/grã©goire-michonze_scene-de-village.jpg\n",
            "File not found: /content/dataset/Naive_Art_Primitivism/grã©goire-michonze_scene-paysanne-1963.jpg\n",
            "File not found: /content/dataset/Naive_Art_Primitivism/grã©goire-michonze_scene-paysanne.jpg\n",
            "File not found: /content/dataset/Naive_Art_Primitivism/grã©goire-michonze_scene-villageoise.jpg\n",
            "File not found: /content/dataset/Naive_Art_Primitivism/grã©goire-michonze_shepherds-in-the-valley-1981.jpg\n",
            "File not found: /content/dataset/Naive_Art_Primitivism/grã©goire-michonze_sunset-in-the-field-1979.jpg\n",
            "File not found: /content/dataset/Naive_Art_Primitivism/grã©goire-michonze_the-painter-1977.jpg\n",
            "File not found: /content/dataset/Naive_Art_Primitivism/grã©goire-michonze_untitled-1928.jpg\n",
            "File not found: /content/dataset/Naive_Art_Primitivism/grã©goire-michonze_untitled.jpg\n",
            "File not found: /content/dataset/Naive_Art_Primitivism/grã©goire-michonze_village-scene.jpg\n",
            "File not found: /content/dataset/Naive_Art_Primitivism/grã©goire-michonze_village-with-figures-1931.jpg\n",
            "File not found: /content/dataset/Naive_Art_Primitivism/grã©goire-michonze_women-and-birds.jpg\n",
            "File not found: /content/dataset/Pointillism/georges-lacombeâ _in-the-forest.jpg\n",
            "File not found: /content/dataset/Pointillism/georges-lacombeâ _oaks-and-blueberry-bushes-1905.jpg\n",
            "File not found: /content/dataset/Pointillism/georges-lacombeâ _portrait-of-paul-ranson-1905.jpg\n",
            "File not found: /content/dataset/Pointillism/georges-lacombeâ _some-waves.jpg\n",
            "File not found: /content/dataset/Post_Impressionism/andrã©-lhote_portrait-de-jeanne-1908.jpg\n",
            "File not found: /content/dataset/Post_Impressionism/grã©goire-michonze_cows-at-pasture-1969.jpg\n",
            "File not found: /content/dataset/Post_Impressionism/grã©goire-michonze_still-life.jpg\n",
            "File not found: /content/dataset/Post_Impressionism/roger-bissiã¨re_femme-couch-e-dans-l-herbe-1926.jpg\n",
            "File not found: /content/dataset/Post_Impressionism/roger-bissiã¨re_nu-couch-sur-linge-blanc-1925.jpg\n",
            "File not found: /content/dataset/Post_Impressionism/roger-bissiã¨re_tapestry-portrait-of-madame-bissi-re.jpg\n",
            "File not found: /content/dataset/Post_Impressionism/roger-bissiã¨re_woman-in-a-straw-hat-1920.jpg\n",
            "File not found: /content/dataset/Realism/antã³nio-de-carvalho-da-silva-porto_a-apanha-do-sarga-o-1884.jpg\n",
            "File not found: /content/dataset/Realism/antã³nio-de-carvalho-da-silva-porto_a-ceifa-lumiar-1884.jpg\n",
            "File not found: /content/dataset/Realism/antã³nio-de-carvalho-da-silva-porto_auto-retrato-1873.jpg\n",
            "File not found: /content/dataset/Realism/antã³nio-de-carvalho-da-silva-porto_carro-de-bois.jpg\n",
            "File not found: /content/dataset/Realism/antã³nio-de-carvalho-da-silva-porto_charneca-de-belas-ao-p-r-do-sol-1879.jpg\n",
            "File not found: /content/dataset/Realism/antã³nio-de-carvalho-da-silva-porto_colheita-ceifeiras.jpg\n",
            "File not found: /content/dataset/Realism/antã³nio-de-carvalho-da-silva-porto_guardando-o-rebanho.jpg\n",
            "File not found: /content/dataset/Realism/antã³nio-de-carvalho-da-silva-porto_lugar-do-prado-santa-marta-minho-1892.jpg\n",
            "File not found: /content/dataset/Realism/antã³nio-de-carvalho-da-silva-porto_pequena-fiandeira-napolitana-1877.jpg\n",
            "File not found: /content/dataset/Realism/antã³nio-de-carvalho-da-silva-porto_t-te-de-jeune-fille.jpg\n",
            "File not found: /content/dataset/Romanticism/arnold-bã¶cklin_arable-land-corridors-in-the-early-spring.jpg\n",
            "File not found: /content/dataset/Romanticism/arnold-bã¶cklin_campagna-landscape-1858.jpg\n",
            "File not found: /content/dataset/Romanticism/arnold-bã¶cklin_fir-trees-at-sunset.jpg\n",
            "File not found: /content/dataset/Romanticism/arnold-bã¶cklin_high-mountains-with-chamoises-1849.jpg\n",
            "File not found: /content/dataset/Romanticism/arnold-bã¶cklin_march-of-the-goths.jpg\n",
            "File not found: /content/dataset/Romanticism/arnold-bã¶cklin_on-the-pontine-swamps-1851.jpg\n",
            "File not found: /content/dataset/Romanticism/arnold-bã¶cklin_pan-among-the-reeds-1859.jpg\n",
            "File not found: /content/dataset/Romanticism/arnold-bã¶cklin_portrait-of-alexander-michelis-1846.jpg\n",
            "File not found: /content/dataset/Romanticism/arnold-bã¶cklin_portrait-of-angela-b-cklin-in-red-fishnet.jpg\n",
            "File not found: /content/dataset/Romanticism/arnold-bã¶cklin_roman-landscape-1852.jpg\n",
            "File not found: /content/dataset/Romanticism/arnold-bã¶cklin_soldiers-amount-towards-a-mountain-fortress.jpg\n",
            "File not found: /content/dataset/Romanticism/arnold-bã¶cklin_tavern-in-ancient-rome-1867.jpg\n",
            "File not found: /content/dataset/Romanticism/arnold-bã¶cklin_villa-by-the-sea-1.jpg\n",
            "File not found: /content/dataset/Romanticism/arnold-bã¶cklin_villa-by-the-sea-1878.jpg\n",
            "File not found: /content/dataset/Romanticism/arnold-bã¶cklin_villa-by-the-sea.jpg\n",
            "File not found: /content/dataset/Romanticism/ferdinand-georg-waldmã¼ller_after-confiscation-1859.jpg\n",
            "File not found: /content/dataset/Romanticism/ferdinand-georg-waldmã¼ller_at-the-ruins-of-the-fire-1847.jpg\n",
            "File not found: /content/dataset/Romanticism/ferdinand-georg-waldmã¼ller_bad-ischl.jpg\n",
            "File not found: /content/dataset/Romanticism/ferdinand-georg-waldmã¼ller_dachstein-from-the-place-of-sophie-1835.jpg\n",
            "File not found: /content/dataset/Romanticism/ferdinand-georg-waldmã¼ller_der-wolfgangsee-1835.jpg\n",
            "File not found: /content/dataset/Romanticism/ferdinand-georg-waldmã¼ller_evening-landscape-with-herd-of-goats-1847.jpg\n",
            "File not found: /content/dataset/Romanticism/ferdinand-georg-waldmã¼ller_lake-fuschel-with-schafberg-1835.jpg\n",
            "File not found: /content/dataset/Romanticism/ferdinand-georg-waldmã¼ller_maple-trees-near-ischl-1831.jpg\n",
            "File not found: /content/dataset/Romanticism/ferdinand-georg-waldmã¼ller_mountain-landscape-with-the-ruins-of-liechtenstein-in-m-dling-1859.jpg\n",
            "File not found: /content/dataset/Romanticism/ferdinand-georg-waldmã¼ller_mountain-landscape-with-vineyard-1862.jpg\n",
            "File not found: /content/dataset/Romanticism/ferdinand-georg-waldmã¼ller_mountains-of-arco-at-riva-1841.jpg\n",
            "File not found: /content/dataset/Romanticism/ferdinand-georg-waldmã¼ller_old-elms-in-prater-1831.jpg\n",
            "File not found: /content/dataset/Romanticism/ferdinand-georg-waldmã¼ller_prater-landscape-1830.jpg\n",
            "File not found: /content/dataset/Romanticism/ferdinand-georg-waldmã¼ller_rettenbach-gorge-at-ischl-1831.jpg\n",
            "File not found: /content/dataset/Romanticism/ferdinand-georg-waldmã¼ller_rettenbach-wilderness-near-ischl-the-hohenzollern-waterfall-in-jainzental-1832.jpg\n",
            "File not found: /content/dataset/Romanticism/ferdinand-georg-waldmã¼ller_ruins-of-the-temple-of-juno-at-girgenti-lancinia-1845.jpg\n",
            "File not found: /content/dataset/Romanticism/ferdinand-georg-waldmã¼ller_self-portrait-at-the-age-of-35.jpg\n",
            "File not found: /content/dataset/Romanticism/ferdinand-georg-waldmã¼ller_the-cured-1864.jpg\n",
            "File not found: /content/dataset/Romanticism/ferdinand-georg-waldmã¼ller_the-dachstein-1835.jpg\n",
            "File not found: /content/dataset/Romanticism/ferdinand-georg-waldmã¼ller_the-h-llengebirge-at-ischl-1834.jpg\n",
            "File not found: /content/dataset/Romanticism/ferdinand-georg-waldmã¼ller_the-radhausberg-at-gastein-1837.jpg\n",
            "File not found: /content/dataset/Romanticism/ferdinand-georg-waldmã¼ller_the-request-of-the-child-the-old-chest-1860.jpg\n",
            "File not found: /content/dataset/Romanticism/ferdinand-georg-waldmã¼ller_the-roman-ruins-in-schoenbrunn-1832.jpg\n",
            "File not found: /content/dataset/Romanticism/ferdinand-georg-waldmã¼ller_the-ruin-of-the-greek-theater-in-taormina-sicily-1844.jpg\n",
            "File not found: /content/dataset/Romanticism/ferdinand-georg-waldmã¼ller_the-sch-nberg-seen-from-hoisernradalpe-1833.jpg\n",
            "File not found: /content/dataset/Romanticism/ferdinand-georg-waldmã¼ller_the-young-boy-with-the-stable-lantern-1824.jpg\n",
            "File not found: /content/dataset/Romanticism/ferdinand-georg-waldmã¼ller_tree-by-the-brook.jpg\n",
            "File not found: /content/dataset/Romanticism/ferdinand-georg-waldmã¼ller_trees-in-the-prater-with-seated-figures-1833.jpg\n",
            "File not found: /content/dataset/Romanticism/ferdinand-georg-waldmã¼ller_view-to-m-dling(1).jpg\n",
            "File not found: /content/dataset/Romanticism/ferdinand-georg-waldmã¼ller_wienerwald-landscape-with-wildegg-castle.jpg\n",
            "File not found: /content/dataset/Symbolism/arnold-bã¶cklin_angelika-guarded-by-a-dragon-angelica-and-ruggiero.jpg\n",
            "File not found: /content/dataset/Symbolism/arnold-bã¶cklin_angelika-guarded-by-a-dragon.jpg\n",
            "File not found: /content/dataset/Symbolism/arnold-bã¶cklin_assassin-pursued-by-furies.jpg\n",
            "File not found: /content/dataset/Symbolism/arnold-bã¶cklin_astolf-rides-away-with-his-head-lost-1873.jpg\n",
            "File not found: /content/dataset/Symbolism/arnold-bã¶cklin_attack-by-pirates.jpg\n",
            "File not found: /content/dataset/Symbolism/arnold-bã¶cklin_centaur-and-nymph.jpg\n",
            "File not found: /content/dataset/Symbolism/arnold-bã¶cklin_centaurs-1873.jpg\n",
            "File not found: /content/dataset/Symbolism/arnold-bã¶cklin_children-carving-may-flutes-1877.jpg\n",
            "File not found: /content/dataset/Symbolism/arnold-bã¶cklin_diana-sleeping-with-two-fauns-1877.jpg\n",
            "File not found: /content/dataset/Symbolism/arnold-bã¶cklin_dragon-walking-between-rocks.jpg\n",
            "File not found: /content/dataset/Symbolism/arnold-bã¶cklin_elysian-fields-1877.jpg\n",
            "File not found: /content/dataset/Symbolism/arnold-bã¶cklin_euterpe-1872.jpg\n",
            "File not found: /content/dataset/Symbolism/arnold-bã¶cklin_fighting-on-a-bridge.jpg\n",
            "File not found: /content/dataset/Symbolism/arnold-bã¶cklin_gottfried-keller.jpg\n",
            "File not found: /content/dataset/Symbolism/arnold-bã¶cklin_honeymoon.jpg\n",
            "File not found: /content/dataset/Symbolism/arnold-bã¶cklin_hymn-to-spring.jpg\n",
            "File not found: /content/dataset/Symbolism/arnold-bã¶cklin_ideal-spring-landscape-1871.jpg\n",
            "File not found: /content/dataset/Symbolism/arnold-bã¶cklin_idyll-1866.jpg\n",
            "File not found: /content/dataset/Symbolism/arnold-bã¶cklin_idyll-pan-amidst-columns-1875.jpg\n",
            "File not found: /content/dataset/Symbolism/arnold-bã¶cklin_lament-of-the-shepherd-1866.jpg\n",
            "File not found: /content/dataset/Symbolism/arnold-bã¶cklin_look-any-laughs-to-the-plains.jpg\n",
            "File not found: /content/dataset/Symbolism/arnold-bã¶cklin_medusa.jpg\n",
            "File not found: /content/dataset/Symbolism/arnold-bã¶cklin_meerestille-calm-sea-1887.jpg\n",
            "File not found: /content/dataset/Symbolism/arnold-bã¶cklin_melancholia.jpg\n",
            "File not found: /content/dataset/Symbolism/arnold-bã¶cklin_mermaids-at-play-1886.jpg\n",
            "File not found: /content/dataset/Symbolism/arnold-bã¶cklin_nymph-1875.jpg\n",
            "File not found: /content/dataset/Symbolism/arnold-bã¶cklin_nymph-by-the-fountain.jpg\n",
            "File not found: /content/dataset/Symbolism/arnold-bã¶cklin_nymphs-bathing.jpg\n",
            "File not found: /content/dataset/Symbolism/arnold-bã¶cklin_odysseus-by-the-sea-1869.jpg\n",
            "File not found: /content/dataset/Symbolism/arnold-bã¶cklin_odysseus-und-kalypso-1883.jpg\n",
            "File not found: /content/dataset/Symbolism/arnold-bã¶cklin_pan-among-the-reeds-1858.jpg\n",
            "File not found: /content/dataset/Symbolism/arnold-bã¶cklin_pan-chasing-a-nymph-1855.jpg\n",
            "File not found: /content/dataset/Symbolism/arnold-bã¶cklin_pan-frightening-a-shepherd.jpg\n",
            "File not found: /content/dataset/Symbolism/arnold-bã¶cklin_pan-whistling-at-a-blackbird-1863.jpg\n",
            "File not found: /content/dataset/Symbolism/arnold-bã¶cklin_petrarch-by-the-fountain-of-vaucluse.jpg\n",
            "File not found: /content/dataset/Symbolism/arnold-bã¶cklin_piet-1885.jpg\n",
            "File not found: /content/dataset/Symbolism/arnold-bã¶cklin_playing-in-the-waves-1883.jpg\n",
            "File not found: /content/dataset/Symbolism/arnold-bã¶cklin_portrait-of-clara-b-cklin-1872.jpg\n",
            "File not found: /content/dataset/Symbolism/arnold-bã¶cklin_portrait-of-the-singer-karl-wallenreiter.jpg\n",
            "File not found: /content/dataset/Symbolism/arnold-bã¶cklin_prometheus-1883.jpg\n",
            "File not found: /content/dataset/Symbolism/arnold-bã¶cklin_putto-and-butterfly-1896.jpg\n",
            "File not found: /content/dataset/Symbolism/arnold-bã¶cklin_returning-home-1887.jpg\n",
            "File not found: /content/dataset/Symbolism/arnold-bã¶cklin_ruins-in-the-moonlit-landscape-1849.jpg\n",
            "File not found: /content/dataset/Symbolism/arnold-bã¶cklin_self-portrait-in-studio-1893.jpg\n",
            "File not found: /content/dataset/Symbolism/arnold-bã¶cklin_self-portrait-with-death-as-a-fiddler-1872.jpg\n",
            "File not found: /content/dataset/Symbolism/arnold-bã¶cklin_self-portrait.jpg\n",
            "File not found: /content/dataset/Symbolism/arnold-bã¶cklin_sirens-1875.jpg\n",
            "File not found: /content/dataset/Symbolism/arnold-bã¶cklin_spring-1875.jpg\n",
            "File not found: /content/dataset/Symbolism/arnold-bã¶cklin_spring-night.jpg\n",
            "File not found: /content/dataset/Symbolism/arnold-bã¶cklin_st-anthony-1892.jpg\n",
            "File not found: /content/dataset/Symbolism/arnold-bã¶cklin_study-to-war-1896.jpg\n",
            "File not found: /content/dataset/Symbolism/arnold-bã¶cklin_the-adventurer-1882.jpg\n",
            "File not found: /content/dataset/Symbolism/arnold-bã¶cklin_the-bagpiper.jpg\n",
            "File not found: /content/dataset/Symbolism/arnold-bã¶cklin_the-chapel-1898.jpg\n",
            "File not found: /content/dataset/Symbolism/arnold-bã¶cklin_the-death-of-cleopatra-1872.jpg\n",
            "File not found: /content/dataset/Symbolism/arnold-bã¶cklin_the-deposition.jpg\n",
            "File not found: /content/dataset/Symbolism/arnold-bã¶cklin_the-hermit-1884.jpg\n",
            "File not found: /content/dataset/Symbolism/arnold-bã¶cklin_the-island-of-life-1888.jpg\n",
            "File not found: /content/dataset/Symbolism/arnold-bã¶cklin_the-isle-of-the-dead-1880.jpg\n",
            "File not found: /content/dataset/Symbolism/arnold-bã¶cklin_the-isle-of-the-dead-1883.jpg\n",
            "File not found: /content/dataset/Symbolism/arnold-bã¶cklin_the-isle-of-the-dead-1886.jpg\n",
            "File not found: /content/dataset/Symbolism/arnold-bã¶cklin_the-lamentations-of-mary-magdalene-on-the-body-of-christ-1868.jpg\n",
            "File not found: /content/dataset/Symbolism/arnold-bã¶cklin_the-liberty-1891.jpg\n",
            "File not found: /content/dataset/Symbolism/arnold-bã¶cklin_the-penitent-mary-magdalene-1873.jpg\n",
            "File not found: /content/dataset/Symbolism/arnold-bã¶cklin_the-plague-1898.jpg\n",
            "File not found: /content/dataset/Symbolism/arnold-bã¶cklin_the-rest-on-the-flight-into-egypt.jpg\n",
            "File not found: /content/dataset/Symbolism/arnold-bã¶cklin_the-ride-of-death-the-fall-and-death.jpg\n",
            "File not found: /content/dataset/Symbolism/arnold-bã¶cklin_the-sacred-grove-1886.jpg\n",
            "File not found: /content/dataset/Symbolism/arnold-bã¶cklin_the-sanctuary-of-hercules-1884.jpg\n",
            "File not found: /content/dataset/Symbolism/arnold-bã¶cklin_the-sea.jpg\n",
            "File not found: /content/dataset/Symbolism/arnold-bã¶cklin_the-summer-s-day-1881.jpg\n",
            "File not found: /content/dataset/Symbolism/arnold-bã¶cklin_the-surf-1883.jpg\n",
            "File not found: /content/dataset/Symbolism/arnold-bã¶cklin_the-volcano.jpg\n",
            "File not found: /content/dataset/Symbolism/arnold-bã¶cklin_triton-and-nereid-1877.jpg\n",
            "File not found: /content/dataset/Symbolism/arnold-bã¶cklin_triton-and-nereid.jpg\n",
            "File not found: /content/dataset/Symbolism/arnold-bã¶cklin_under-the-arbor-1891.jpg\n",
            "File not found: /content/dataset/Symbolism/arnold-bã¶cklin_unicorn-1885.jpg\n",
            "File not found: /content/dataset/Symbolism/arnold-bã¶cklin_venus-anadyomene-1872.jpg\n",
            "File not found: /content/dataset/Symbolism/arnold-bã¶cklin_venus-genitrix.jpg\n",
            "File not found: /content/dataset/Symbolism/arnold-bã¶cklin_vita-somnium-breve-1888.jpg\n",
            "File not found: /content/dataset/Symbolism/arnold-bã¶cklin_war-1896-1.jpg\n",
            "File not found: /content/dataset/Symbolism/arnold-bã¶cklin_war-1896.jpg\n",
            "File not found: /content/dataset/Symbolism/arnold-bã¶cklin_will-o-the-wisp-1862.jpg\n",
            "File not found: /content/dataset/Symbolism/georges-lacombeâ _birth-wooden-bed-panel-1894.jpg\n",
            "File not found: /content/dataset/Symbolism/georges-lacombeâ _death.jpg\n",
            "File not found: /content/dataset/Symbolism/georges-lacombeâ _rams-blacks-the-year.jpg\n",
            "File not found: /content/dataset/Symbolism/georges-lacombeâ _the-apple-picker.jpg\n",
            "File not found: /content/dataset/Symbolism/georges-lacombeâ _the-green-wave-vorhor.jpg\n",
            "File not found: /content/dataset/Symbolism/georges-lacombeâ _the-violet-wave-1896.jpg\n",
            "File not found: /content/dataset/Symbolism/georges-lacombeâ _women-damned.jpg\n",
            "File not found: /content/dataset/Art_Nouveau_Modern/eugã¨ne-grasset_danger-1897.jpg\n",
            "File not found: /content/dataset/Art_Nouveau_Modern/eugã¨ne-grasset_inqui-tude.jpg\n",
            "File not found: /content/dataset/Art_Nouveau_Modern/eugã¨ne-grasset_jeanne-d-arc-sarah-bernhardt.jpg\n",
            "File not found: /content/dataset/Art_Nouveau_Modern/eugã¨ne-grasset_la-belle-jardiniere-octobre-1896.jpg\n",
            "File not found: /content/dataset/Art_Nouveau_Modern/eugã¨ne-grasset_madrid-international-exposition.jpg\n",
            "File not found: /content/dataset/Art_Nouveau_Modern/eugã¨ne-grasset_self-portrait.jpg\n",
            "File not found: /content/dataset/Art_Nouveau_Modern/eugã¨ne-grasset_suzy-deguez.jpg\n",
            "File not found: /content/dataset/Art_Nouveau_Modern/eugã¨ne-grasset_the-june-century-napoleon-in-egypt-1895.jpg\n",
            "File not found: /content/dataset/Art_Nouveau_Modern/eugã¨ne-grasset_woman-science.jpg\n",
            "File not found: /content/dataset/Baroque/mestre-ataã­de_abra-o-adora-os-tr-s-anjos-1799.jpg\n",
            "File not found: /content/dataset/Baroque/mestre-ataã­de_agonia-e-morte-de-s-o-francisco.jpg\n",
            "File not found: /content/dataset/Baroque/mestre-ataã­de_anjos-m-sicos-detail-1807.jpg\n",
            "File not found: /content/dataset/Cubism/andrã©-lhote_acacias-1959.jpg\n",
            "File not found: /content/dataset/Cubism/andrã©-lhote_cordes-1912.jpg\n",
            "File not found: /content/dataset/Cubism/andrã©-lhote_le-judgment-de-paris-1927.jpg\n",
            "File not found: /content/dataset/Cubism/andrã©-lhote_paysage-au-lambrequin-rose-1914.jpg\n",
            "File not found: /content/dataset/Cubism/fã©lix-del-marle_the-port-1914.jpg\n",
            "File not found: /content/dataset/Cubism/roger-bissiã¨re_composition-avec-mandoline-1925.jpg\n",
            "File not found: /content/dataset/Expressionism/grã©goire-michonze_picasso-1971.jpg\n",
            "File not found: /content/dataset/Expressionism/grã©goire-michonze_self-portrait-1971.jpg\n",
            "File not found: /content/dataset/Impressionism/antã³nio-de-carvalho-da-silva-porto_canoas-set-bal-1883.jpg\n",
            "File not found: /content/dataset/Impressionism/antã³nio-de-carvalho-da-silva-porto_rua-de-barbizon-1879.jpg\n",
            "File not found: /content/dataset/Impressionism/joaquã­n-sorolla_after-the-bath-1908.jpg\n",
            "File not found: /content/dataset/Impressionism/joaquã­n-sorolla_afternoon-sun-playa-de-valencia-1910.jpg\n",
            "File not found: /content/dataset/Impressionism/joaquã­n-sorolla_almond-trees-in-asis.jpg\n",
            "File not found: /content/dataset/Impressionism/joaquã­n-sorolla_another-margarita-1892.jpg\n",
            "File not found: /content/dataset/Impressionism/joaquã­n-sorolla_arrival-of-the-fishing-boats-on-the-beach-valencia-1898.jpg\n",
            "File not found: /content/dataset/Impressionism/joaquã­n-sorolla_beach-at-valencia-1908.jpg\n",
            "File not found: /content/dataset/Impressionism/joaquã­n-sorolla_blind-man-of-toledo-1906.jpg\n",
            "File not found: /content/dataset/Impressionism/joaquã­n-sorolla_boats-on-the-beach-1909.jpg\n",
            "File not found: /content/dataset/Impressionism/joaquã­n-sorolla_boxing-raisins-javea-1901.jpg\n",
            "File not found: /content/dataset/Impressionism/joaquã­n-sorolla_boy-on-the-sand.jpg\n",
            "File not found: /content/dataset/Impressionism/joaquã­n-sorolla_boys-on-the-beach-1908.jpg\n",
            "File not found: /content/dataset/Impressionism/joaquã­n-sorolla_bulls-in-the-sea-1903.jpg\n",
            "File not found: /content/dataset/Impressionism/joaquã­n-sorolla_cave-at-san-antonio-javea-1905.jpg\n",
            "File not found: /content/dataset/Impressionism/joaquã­n-sorolla_children-on-the-seashore-1903.jpg\n",
            "File not found: /content/dataset/Impressionism/joaquã­n-sorolla_dragging-the-trawler-1904.jpg\n",
            "File not found: /content/dataset/Impressionism/joaquã­n-sorolla_elena-in-cove-san-vicente-at-majorca-1919.jpg\n",
            "File not found: /content/dataset/Impressionism/joaquã­n-sorolla_end-of-the-day-javea-1900.jpg\n",
            "File not found: /content/dataset/Impressionism/joaquã­n-sorolla_fisherwomen-1911.jpg\n",
            "File not found: /content/dataset/Impressionism/joaquã­n-sorolla_fountain-at-the-alcazin-sevilla.jpg\n",
            "File not found: /content/dataset/Impressionism/joaquã­n-sorolla_galicia-the-pilgrimage-1915.jpg\n",
            "File not found: /content/dataset/Impressionism/joaquã­n-sorolla_gardens-of-la-granja-1907.jpg\n",
            "File not found: /content/dataset/Impressionism/joaquã­n-sorolla_guitplayers-valencia-1889.jpg\n",
            "File not found: /content/dataset/Impressionism/joaquã­n-sorolla_hall-of-the-ambassadors-alhambra-granada-1909.jpg\n",
            "File not found: /content/dataset/Impressionism/joaquã­n-sorolla_herding-geese-in-the-asturias-1903.jpg\n",
            "File not found: /content/dataset/Impressionism/joaquã­n-sorolla_ibiza-house-1919.jpg\n",
            "File not found: /content/dataset/Impressionism/joaquã­n-sorolla_landscape-with-figure.jpg\n",
            "File not found: /content/dataset/Impressionism/joaquã­n-sorolla_lighthouse-walk-at-biarritz-1906.jpg\n",
            "File not found: /content/dataset/Impressionism/joaquã­n-sorolla_maria-on-the-beach-zarauz-1910.jpg\n",
            "File not found: /content/dataset/Impressionism/joaquã­n-sorolla_morning-sun-1901.jpg\n",
            "File not found: /content/dataset/Impressionism/joaquã­n-sorolla_my-family-1901.jpg\n",
            "File not found: /content/dataset/Impressionism/joaquã­n-sorolla_old-garden-of-the-alcazar-in-seville-1910.jpg\n",
            "File not found: /content/dataset/Impressionism/joaquã­n-sorolla_on-the-beach-valencia-1905.jpg\n",
            "File not found: /content/dataset/Impressionism/joaquã­n-sorolla_orchard-house-valencia-study-1908.jpg\n",
            "File not found: /content/dataset/Impressionism/joaquã­n-sorolla_outskirts-of-paris.jpg\n",
            "File not found: /content/dataset/Impressionism/joaquã­n-sorolla_port-valencia.jpg\n",
            "File not found: /content/dataset/Impressionism/joaquã­n-sorolla_portrait-of-d-amalio-gimeno-1919.jpg\n",
            "File not found: /content/dataset/Impressionism/joaquã­n-sorolla_puente-de-real-1908.jpg\n",
            "File not found: /content/dataset/Impressionism/joaquã­n-sorolla_queen-victoria-eugenia-of-spain-1911.jpg\n",
            "File not found: /content/dataset/Impressionism/joaquã­n-sorolla_reflections-in-a-fountain-1918.jpg\n",
            "File not found: /content/dataset/Impressionism/joaquã­n-sorolla_resting-bacchante-1887.jpg\n",
            "File not found: /content/dataset/Impressionism/joaquã­n-sorolla_retirement-madrid.jpg\n",
            "File not found: /content/dataset/Impressionism/joaquã­n-sorolla_return-from-fishing-1894.jpg\n",
            "File not found: /content/dataset/Impressionism/joaquã­n-sorolla_return-from-fishing-1908.jpg\n",
            "File not found: /content/dataset/Impressionism/joaquã­n-sorolla_rump-of-valencia-1906.jpg\n",
            "File not found: /content/dataset/Impressionism/joaquã­n-sorolla_self-portrait-1909.jpg\n",
            "File not found: /content/dataset/Impressionism/joaquã­n-sorolla_setting-sun-in-biarritz-1906.jpg\n",
            "File not found: /content/dataset/Impressionism/joaquã­n-sorolla_sierra-nevada-from-the-alhambra-grenada-1910.jpg\n",
            "File not found: /content/dataset/Impressionism/joaquã­n-sorolla_sierra-nevada-granada-1917.jpg\n",
            "File not found: /content/dataset/Impressionism/joaquã­n-sorolla_the-beach-at-biarritz-1906.jpg\n",
            "File not found: /content/dataset/Impressionism/joaquã­n-sorolla_the-blessing-of-isaac.jpg\n",
            "File not found: /content/dataset/Impressionism/joaquã­n-sorolla_the-breakwater-of-san-sebastian-1918.jpg\n",
            "File not found: /content/dataset/Impressionism/joaquã­n-sorolla_the-drinking-jug-1904.jpg\n",
            "File not found: /content/dataset/Impressionism/joaquã­n-sorolla_the-elche-palm-grove-1918.jpg\n",
            "File not found: /content/dataset/Impressionism/joaquã­n-sorolla_the-market-1917.jpg\n",
            "File not found: /content/dataset/Impressionism/joaquã­n-sorolla_the-nereids-1886.jpg\n",
            "File not found: /content/dataset/Impressionism/joaquã­n-sorolla_the-port-of-valencia-1882.jpg\n",
            "File not found: /content/dataset/Impressionism/joaquã­n-sorolla_the-river-la-reina-valsain-1907.jpg\n",
            "File not found: /content/dataset/Impressionism/joaquã­n-sorolla_the-waves-at-san-sebastian-1915.jpg\n",
            "File not found: /content/dataset/Impressionism/joaquã­n-sorolla_the-yellow-tree-la-granja-1906.jpg\n",
            "File not found: /content/dataset/Impressionism/joaquã­n-sorolla_two-men-on-a-deck.jpg\n",
            "File not found: /content/dataset/Impressionism/joaquã­n-sorolla_valencia-beach-fisherwomen-1919.jpg\n",
            "File not found: /content/dataset/Impressionism/joaquã­n-sorolla_valencia-beach-in-the-morning-light-1908.jpg\n",
            "File not found: /content/dataset/Impressionism/joaquã­n-sorolla_valencia-landscape-1894.jpg\n",
            "File not found: /content/dataset/Impressionism/joaquã­n-sorolla_valencian-boats-1908.jpg\n",
            "File not found: /content/dataset/Impressionism/joaquã­n-sorolla_victor-hugo-s-house-in-passages.jpg\n",
            "File not found: /content/dataset/Impressionism/joaquã­n-sorolla_washerwomen-sketch.jpg\n",
            "File not found: /content/dataset/Impressionism/joaquã­n-sorolla_washing-the-horse-1909.jpg\n",
            "File not found: /content/dataset/Impressionism/joaquã­n-sorolla_watching-the-fish-1907.jpg\n",
            "File not found: /content/dataset/Impressionism/joaquã­n-sorolla_white-roses-from-the-house-garden-1919.jpg\n",
            "File not found: /content/dataset/Impressionism/joaquã­n-sorolla_windmills-on-the-tagus-toledo-1906.jpg\n",
            "File not found: /content/dataset/Naive_Art_Primitivism/grã©goire-michonze_beach-scene.jpg\n",
            "File not found: /content/dataset/Naive_Art_Primitivism/grã©goire-michonze_figures-1967.jpg\n",
            "File not found: /content/dataset/Naive_Art_Primitivism/grã©goire-michonze_figures-in-the-village-1948.jpg\n",
            "File not found: /content/dataset/Naive_Art_Primitivism/grã©goire-michonze_figures-talking-in-a-village-1966.jpg\n",
            "File not found: /content/dataset/Naive_Art_Primitivism/grã©goire-michonze_in-the-village-1978.jpg\n",
            "File not found: /content/dataset/Naive_Art_Primitivism/grã©goire-michonze_le-charpentier-sur-la-place-1971.jpg\n",
            "File not found: /content/dataset/Naive_Art_Primitivism/grã©goire-michonze_paysage-vert-anime.jpg\n",
            "File not found: /content/dataset/Naive_Art_Primitivism/grã©goire-michonze_personnages-1982.jpg\n",
            "File not found: /content/dataset/Naive_Art_Primitivism/grã©goire-michonze_village-street.jpg\n",
            "File not found: /content/dataset/Post_Impressionism/andrã©-lhote_mirmande-1932.jpg\n",
            "File not found: /content/dataset/Post_Impressionism/roger-bissiã¨re_still-life-with-glass-and-grapes-1923.jpg\n",
            "File not found: /content/dataset/Realism/antã³nio-de-carvalho-da-silva-porto_head-of-a-girl.jpg\n",
            "File not found: /content/dataset/Realism/antã³nio-de-carvalho-da-silva-porto_moinho-do-estev-o-alcochete-1887.jpg\n",
            "File not found: /content/dataset/Romanticism/arnold-bã¶cklin_at-alban-hills-1851.jpg\n",
            "File not found: /content/dataset/Romanticism/arnold-bã¶cklin_autumn-thoughts.jpg\n",
            "File not found: /content/dataset/Romanticism/arnold-bã¶cklin_portrait-of-actress-fanny-janauscher.jpg\n",
            "File not found: /content/dataset/Romanticism/arnold-bã¶cklin_portrait-of-angela-b-cklin-as-muse.jpg\n",
            "File not found: /content/dataset/Romanticism/arnold-bã¶cklin_the-muse-of-anacreon-1873.jpg\n",
            "File not found: /content/dataset/Romanticism/ferdinand-georg-waldmã¼ller_mill-at-the-outlet-of-the-k-nigssee-1840.jpg\n",
            "File not found: /content/dataset/Romanticism/ferdinand-georg-waldmã¼ller_pfamgasse-in-st-wolfgang-1835.jpg\n",
            "File not found: /content/dataset/Romanticism/ferdinand-georg-waldmã¼ller_the-homecoming-1859.jpg\n",
            "File not found: /content/dataset/Romanticism/ferdinand-georg-waldmã¼ller_the-ruin-lichtenstein-at-m-dling-1848.jpg\n",
            "File not found: /content/dataset/Romanticism/ferdinand-georg-waldmã¼ller_traunsee-with-orth-castle.jpg\n",
            "File not found: /content/dataset/Romanticism/ferdinand-georg-waldmã¼ller_tree-studies-from-rome-1846.jpg\n",
            "File not found: /content/dataset/Romanticism/ferdinand-georg-waldmã¼ller_view-of-the-dachstein-with-the-hallst-ttersee-from-the-h-tteneckalpe-at-ischl-1838.jpg\n",
            "File not found: /content/dataset/Romanticism/ferdinand-georg-waldmã¼ller_yard-of-the-old-heum-ller-in-vienna-1859.jpg\n",
            "File not found: /content/dataset/Symbolism/arnold-bã¶cklin_abandoned-venus.jpg\n",
            "File not found: /content/dataset/Symbolism/arnold-bã¶cklin_centaur-at-the-village-blacksmith-s-shop-1888.jpg\n",
            "File not found: /content/dataset/Symbolism/arnold-bã¶cklin_destroyed-house-in-kehl-1870.jpg\n",
            "File not found: /content/dataset/Symbolism/arnold-bã¶cklin_fighting-on-a-bridge-1.jpg\n",
            "File not found: /content/dataset/Symbolism/arnold-bã¶cklin_girl-and-boy-picking-flowers-1866.jpg\n",
            "File not found: /content/dataset/Symbolism/arnold-bã¶cklin_melancholy.jpg\n",
            "File not found: /content/dataset/Symbolism/arnold-bã¶cklin_nessus-and-deianeira.jpg\n",
            "File not found: /content/dataset/Symbolism/arnold-bã¶cklin_night-1895.jpg\n",
            "File not found: /content/dataset/Symbolism/arnold-bã¶cklin_pan-frightening-a-shepherd-1.jpg\n",
            "File not found: /content/dataset/Symbolism/arnold-bã¶cklin_portrait-of-clara-bruckmann-b-cklin.jpg\n",
            "File not found: /content/dataset/Symbolism/arnold-bã¶cklin_ruins-by-the-sea-1880.jpg\n",
            "File not found: /content/dataset/Symbolism/arnold-bã¶cklin_sanctuary-of-hercules.jpg\n",
            "File not found: /content/dataset/Symbolism/arnold-bã¶cklin_syrinx-fleeing-from-the-onslaught-of-pan.jpg\n",
            "File not found: /content/dataset/Symbolism/arnold-bã¶cklin_the-hunt-of-diana-1896.jpg\n",
            "File not found: /content/dataset/Symbolism/arnold-bã¶cklin_the-moorish-cavaliers.jpg\n",
            "File not found: /content/dataset/Symbolism/arnold-bã¶cklin_the-spring-of-love.jpg\n",
            "File not found: /content/dataset/Symbolism/arnold-bã¶cklin_the-wake-up-spring.jpg\n",
            "File not found: /content/dataset/Symbolism/arnold-bã¶cklin_triton-carrying-a-nereid-on-his-back-1875.jpg\n",
            "File not found: /content/dataset/Symbolism/arnold-bã¶cklin_vestal-1874.jpg\n",
            "File not found: /content/dataset/Symbolism/georges-lacombeâ _blue-seascape-wave-effect.jpg\n",
            "File not found: /content/dataset/Symbolism/georges-lacombeâ _existence-wooden-bed-panel.jpg\n",
            "File not found: /content/dataset/Symbolism/georges-lacombeâ _yellow-sea.jpg\n",
            "Dataset splitting and renaming completed.\n"
          ]
        }
      ]
    },
    {
      "cell_type": "code",
      "source": [
        "test_folder = \"/content/dataset/train\"\n",
        "test_file_count = len([file for file in os.listdir(test_folder) if os.path.isfile(os.path.join(test_folder, file))])\n",
        "\n",
        "test_file_count"
      ],
      "metadata": {
        "colab": {
          "base_uri": "https://localhost:8080/"
        },
        "id": "2-1PXzaQq-41",
        "outputId": "a9ab906e-cd22-416f-b02b-c6cb93a7b309"
      },
      "execution_count": 14,
      "outputs": [
        {
          "output_type": "execute_result",
          "data": {
            "text/plain": [
              "63443"
            ]
          },
          "metadata": {},
          "execution_count": 14
        }
      ]
    },
    {
      "cell_type": "code",
      "source": [
        "# clip 전처리 코드\n",
        "device = \"cuda\" if torch.cuda.is_available() else \"cpu\"\n",
        "_, preprocess = clip.load(\"ViT-B/32\", device=device)\n",
        "\n",
        "source_folder = \"/content/dataset/test\"\n",
        "processed_folder = \"/content/dataset/processed_dataset\"\n",
        "os.makedirs(processed_folder, exist_ok=True)\n",
        "\n",
        "print(\"Preprocessing and saving images...\")\n",
        "for root, _, files in os.walk(source_folder):\n",
        "    for file in tqdm(files):\n",
        "        if file.endswith(\".jpg\") or file.endswith(\".png\"):\n",
        "            source_path = os.path.join(root, file)\n",
        "\n",
        "            relative_path = os.path.relpath(root, source_folder)\n",
        "            dest_folder = os.path.join(processed_folder, relative_path)\n",
        "            os.makedirs(dest_folder, exist_ok=True)\n",
        "\n",
        "            dest_path = os.path.join(dest_folder, file)\n",
        "\n",
        "            try:\n",
        "                image = Image.open(source_path).convert(\"RGB\")\n",
        "                processed_image = preprocess(image)\n",
        "\n",
        "                torch.save(processed_image, dest_path + \".pt\")\n",
        "            except Exception as e:\n",
        "                print(f\"Error processing file {source_path}: {e}\")\n",
        "\n",
        "print(f\"All images have been preprocessed and saved to {processed_folder}.\")"
      ],
      "metadata": {
        "colab": {
          "base_uri": "https://localhost:8080/"
        },
        "id": "9Ulh3HOjX1kz",
        "outputId": "6acea1b6-777d-4d10-c084-84b075df977f"
      },
      "execution_count": 7,
      "outputs": [
        {
          "output_type": "stream",
          "name": "stderr",
          "text": [
            "100%|███████████████████████████████████████| 338M/338M [00:05<00:00, 61.3MiB/s]\n"
          ]
        },
        {
          "output_type": "stream",
          "name": "stdout",
          "text": [
            "Preprocessing and saving images...\n"
          ]
        },
        {
          "output_type": "stream",
          "name": "stderr",
          "text": [
            "100%|██████████| 15860/15860 [10:58<00:00, 24.09it/s]"
          ]
        },
        {
          "output_type": "stream",
          "name": "stdout",
          "text": [
            "All images have been preprocessed and saved to /content/dataset/processed_dataset.\n"
          ]
        },
        {
          "output_type": "stream",
          "name": "stderr",
          "text": [
            "\n"
          ]
        }
      ]
    },
    {
      "cell_type": "code",
      "source": [
        "#png파일 전환 코드\n",
        "tensor_folder = \"/content/dataset/preprocessed_train\"\n",
        "output_folder = \"/content/dataset/png_train\"\n",
        "os.makedirs(output_folder, exist_ok=True)\n",
        "\n",
        "print(\"Converting tensors to PNG images...\")\n",
        "for root, _, files in os.walk(tensor_folder):\n",
        "    for file in tqdm(files):\n",
        "        if file.endswith(\".pt\"):\n",
        "\n",
        "            tensor_path = os.path.join(root, file)\n",
        "            tensor = torch.load(tensor_path)\n",
        "\n",
        "            to_pil = ToPILImage()\n",
        "            image = to_pil(tensor)\n",
        "\n",
        "            relative_path = os.path.relpath(root, tensor_folder)\n",
        "            dest_folder = os.path.join(output_folder, relative_path)\n",
        "            os.makedirs(dest_folder, exist_ok=True)\n",
        "            output_path = os.path.join(dest_folder, file.replace(\".pt\", \".png\"))\n",
        "\n",
        "            image.save(output_path)\n",
        "\n",
        "print(f\"All tensors have been converted and saved to {output_folder}.\")"
      ],
      "metadata": {
        "colab": {
          "base_uri": "https://localhost:8080/"
        },
        "collapsed": true,
        "id": "9bk0w_F6a_Mm",
        "outputId": "aa7833eb-58b0-4e2b-d39c-431e8e75356d"
      },
      "execution_count": 18,
      "outputs": [
        {
          "output_type": "stream",
          "name": "stdout",
          "text": [
            "Converting tensors to PNG images...\n"
          ]
        },
        {
          "output_type": "stream",
          "name": "stderr",
          "text": [
            "  0%|          | 0/7482 [00:00<?, ?it/s]<ipython-input-18-95373c91265f>:13: FutureWarning: You are using `torch.load` with `weights_only=False` (the current default value), which uses the default pickle module implicitly. It is possible to construct malicious pickle data which will execute arbitrary code during unpickling (See https://github.com/pytorch/pytorch/blob/main/SECURITY.md#untrusted-models for more details). In a future release, the default value for `weights_only` will be flipped to `True`. This limits the functions that could be executed during unpickling. Arbitrary objects will no longer be allowed to be loaded via this mode unless they are explicitly allowlisted by the user via `torch.serialization.add_safe_globals`. We recommend you start setting `weights_only=True` for any use case where you don't have full control of the loaded file. Please open an issue on GitHub for any issues related to this experimental feature.\n",
            "  tensor = torch.load(tensor_path)\n",
            "100%|██████████| 7482/7482 [02:02<00:00, 61.16it/s]\n",
            "0it [00:00, ?it/s]\n",
            "0it [00:00, ?it/s]\n",
            "0it [00:00, ?it/s]\n",
            "0it [00:00, ?it/s]\n",
            "0it [00:00, ?it/s]\n",
            "0it [00:00, ?it/s]\n",
            "0it [00:00, ?it/s]\n",
            "0it [00:00, ?it/s]\n",
            "0it [00:00, ?it/s]\n",
            "0it [00:00, ?it/s]\n",
            "0it [00:00, ?it/s]\n",
            "0it [00:00, ?it/s]\n",
            "0it [00:00, ?it/s]\n",
            "0it [00:00, ?it/s]\n",
            "0it [00:00, ?it/s]\n",
            "0it [00:00, ?it/s]\n",
            "0it [00:00, ?it/s]\n",
            "0it [00:00, ?it/s]\n",
            "0it [00:00, ?it/s]\n",
            "0it [00:00, ?it/s]\n",
            "0it [00:00, ?it/s]\n",
            "0it [00:00, ?it/s]\n",
            "0it [00:00, ?it/s]\n",
            "0it [00:00, ?it/s]\n",
            "0it [00:00, ?it/s]\n",
            "0it [00:00, ?it/s]\n",
            "0it [00:00, ?it/s]"
          ]
        },
        {
          "output_type": "stream",
          "name": "stdout",
          "text": [
            "All tensors have been converted and saved to /content/dataset/png_train.\n"
          ]
        },
        {
          "output_type": "stream",
          "name": "stderr",
          "text": [
            "\n"
          ]
        }
      ]
    },
    {
      "cell_type": "code",
      "source": [
        "# zip 압축 코드\n",
        "folder_to_zip = \"/content/dataset/png_train\"\n",
        "output_zip_file = \"/content/dataset/png_LP_train.zip\"\n",
        "\n",
        "shutil.make_archive(output_zip_file.replace('.zip', ''), 'zip', folder_to_zip)\n",
        "print(f\"Folder compressed to {output_zip_file}\")"
      ],
      "metadata": {
        "colab": {
          "base_uri": "https://localhost:8080/"
        },
        "id": "rKPg7hK8c5lO",
        "outputId": "48a3dec2-0c2a-4066-cc7e-729e09be1066"
      },
      "execution_count": 19,
      "outputs": [
        {
          "output_type": "stream",
          "name": "stdout",
          "text": [
            "Folder compressed to /content/dataset/png_LP_train.zip\n"
          ]
        }
      ]
    },
    {
      "cell_type": "code",
      "source": [
        "# Google Drive 마운트\n",
        "!cp /content/dataset/png_LP_train.zip /content/drive/MyDrive/\n",
        "print(\"File copied to Google Drive!\")"
      ],
      "metadata": {
        "colab": {
          "base_uri": "https://localhost:8080/"
        },
        "id": "0IpsGvW6eQVk",
        "outputId": "9dcc3013-c151-4e16-827e-1a7dacddc445"
      },
      "execution_count": 20,
      "outputs": [
        {
          "output_type": "stream",
          "name": "stdout",
          "text": [
            "File copied to Google Drive!\n"
          ]
        }
      ]
    },
    {
      "cell_type": "code",
      "source": [
        "# clip 전처리 후 png전환 코드\n",
        "device = \"cuda\" if torch.cuda.is_available() else \"cpu\"\n",
        "model, preprocess = clip.load(\"ViT-B/32\", device=device)\n",
        "\n",
        "source_folder = \"/content/dataset/train\"\n",
        "destination_folder = \"/content/dataset/preprocessed_train\"\n",
        "os.makedirs(destination_folder, exist_ok=True)\n",
        "\n",
        "num_images_per_class = 300  #클래스별 이미지 수\n",
        "\n",
        "class_images = {}\n",
        "for file in os.listdir(source_folder):\n",
        "    if file.endswith(\".jpg\"):\n",
        "        class_name = file.split(\"_\")[0]\n",
        "        if class_name not in class_images:\n",
        "            class_images[class_name] = []\n",
        "        class_images[class_name].append(file)\n",
        "\n",
        "print(\"Selecting and preprocessing images...\")\n",
        "for class_name, images in tqdm(class_images.items()):\n",
        "    selected_images = random.sample(images, min(len(images), num_images_per_class))\n",
        "\n",
        "    class_folder = os.path.join(destination_folder, class_name)\n",
        "    os.makedirs(class_folder, exist_ok=True)\n",
        "\n",
        "    for image_name in selected_images:\n",
        "        source_path = os.path.join(source_folder, image_name)\n",
        "        dest_path = os.path.join(destination_folder, image_name.replace(\".jpg\", \".pt\"))\n",
        "\n",
        "        try:\n",
        "            image = Image.open(source_path).convert(\"RGB\")\n",
        "            processed_tensor = preprocess(image)\n",
        "            torch.save(processed_tensor, dest_path)\n",
        "        except Exception as e:\n",
        "            print(f\"Error processing {source_path}: {e}\")\n",
        "\n",
        "print(f\"Preprocessed images saved to {destination_folder}.\")"
      ],
      "metadata": {
        "colab": {
          "base_uri": "https://localhost:8080/"
        },
        "id": "z4dHtXYWgijH",
        "outputId": "a65c098e-f6c9-40e3-97c0-12b86e64b208"
      },
      "execution_count": 16,
      "outputs": [
        {
          "output_type": "stream",
          "name": "stdout",
          "text": [
            "Selecting and preprocessing images...\n"
          ]
        },
        {
          "output_type": "stream",
          "name": "stderr",
          "text": [
            "100%|██████████| 27/27 [05:10<00:00, 11.52s/it]"
          ]
        },
        {
          "output_type": "stream",
          "name": "stdout",
          "text": [
            "Preprocessed images saved to /content/dataset/preprocessed_train.\n"
          ]
        },
        {
          "output_type": "stream",
          "name": "stderr",
          "text": [
            "\n"
          ]
        }
      ]
    },
    {
      "cell_type": "markdown",
      "source": [
        "###wikiart zeroshot"
      ],
      "metadata": {
        "id": "jWPZMUNgHyoR"
      }
    },
    {
      "cell_type": "code",
      "source": [
        "# clip 제로샷 코드\n",
        "device = \"cuda\" if torch.cuda.is_available() else \"cpu\"\n",
        "model, preprocess = clip.load(\"ViT-B/32\", device=device)\n",
        "\n",
        "class TensorDataset(Dataset):\n",
        "    def __init__(self, tensor_folder, class_names):\n",
        "        self.tensor_folder = tensor_folder\n",
        "        self.class_names = class_names\n",
        "        self.tensor_files = [os.path.join(tensor_folder, file) for file in os.listdir(tensor_folder) if file.endswith(\".pt\")]\n",
        "\n",
        "    def __len__(self):\n",
        "        return len(self.tensor_files)\n",
        "\n",
        "    def __getitem__(self, idx):\n",
        "        tensor_path = self.tensor_files[idx]\n",
        "        tensor = torch.load(tensor_path)\n",
        "        label = os.path.basename(tensor_path).split(\"_\")[0]\n",
        "        return tensor, label\n",
        "\n",
        "tensor_folder = \"/content/dataset/pre_train\"\n",
        "class_names = [\n",
        "    \"Abstract Expressionism\", \"Action painting\", \"Analytical Cubism\", \"Art Nouveau Modern\", \"Baroque\", \"Color Field Painting\",\n",
        "    \"Contemporary Realism\", \"Cubism\", \"Early Renaissance\", \"Expressionism\", \"Fauvism\", \"High Renaissance\",\n",
        "    \"Impressionism\", \"Mannerism Late Renaissance\", \"Minimalism\", \"Naive Art Primitivism\", \"New Realism\",\n",
        "    \"Northern Renaissance\", \"Pointillism\", \"Pop Art\", \"Post Impressionism\", \"Realism\", \"Rococo\", \"Romanticism\",\n",
        "    \"Symbolism\", \"Synthetic Cubism\", \"Ukiyo_e\"\n",
        "]\n",
        "\n",
        "dataset = TensorDataset(tensor_folder, class_names)\n",
        "\n",
        "batch_size = 1024  #배치 사이즈\n",
        "dataloader = DataLoader(dataset, batch_size=batch_size, shuffle=False)\n",
        "\n",
        "print(\"Caching text embeddings...\")\n",
        "text_prompts = [f\"An artwork in the style of {class_name}\" for class_name in class_names]\n",
        "text_inputs = clip.tokenize(text_prompts).to(device)\n",
        "with torch.no_grad():\n",
        "    text_features = model.encode_text(text_inputs)\n",
        "    text_features /= text_features.norm(dim=-1, keepdim=True)\n",
        "\n",
        "correct = 0\n",
        "total = 0\n",
        "\n",
        "print(\"Evaluating zero-shot classification...\")\n",
        "with torch.no_grad():\n",
        "    for batch in tqdm(dataloader):\n",
        "        images, labels = batch\n",
        "        images = images.to(device)\n",
        "\n",
        "        image_features = model.encode_image(images)\n",
        "        image_features /= image_features.norm(dim=-1, keepdim=True)\n",
        "\n",
        "        similarity = (image_features @ text_features.T).softmax(dim=-1)\n",
        "\n",
        "        predictions = similarity.argmax(dim=-1).cpu().numpy()\n",
        "        total += len(labels)\n",
        "\n",
        "        for label, pred in zip(labels, predictions):\n",
        "            if class_names[pred].replace(\" \", \"_\") == label:\n",
        "                correct += 1\n",
        "\n",
        "accuracy = correct / total * 100\n",
        "print(f\"Zero-shot CLIP classification accuracy: {accuracy:.2f}%\")"
      ],
      "metadata": {
        "colab": {
          "base_uri": "https://localhost:8080/"
        },
        "id": "J0Hd1rTss0p7",
        "outputId": "3c2dc13c-c88f-4e82-cbe3-022a32c9f99e"
      },
      "execution_count": 59,
      "outputs": [
        {
          "output_type": "stream",
          "name": "stdout",
          "text": [
            "Caching text embeddings...\n",
            "Evaluating zero-shot classification...\n"
          ]
        },
        {
          "output_type": "stream",
          "name": "stderr",
          "text": [
            "\r  0%|          | 0/8 [00:00<?, ?it/s]<ipython-input-59-e2c0687df371>:17: FutureWarning: You are using `torch.load` with `weights_only=False` (the current default value), which uses the default pickle module implicitly. It is possible to construct malicious pickle data which will execute arbitrary code during unpickling (See https://github.com/pytorch/pytorch/blob/main/SECURITY.md#untrusted-models for more details). In a future release, the default value for `weights_only` will be flipped to `True`. This limits the functions that could be executed during unpickling. Arbitrary objects will no longer be allowed to be loaded via this mode unless they are explicitly allowlisted by the user via `torch.serialization.add_safe_globals`. We recommend you start setting `weights_only=True` for any use case where you don't have full control of the loaded file. Please open an issue on GitHub for any issues related to this experimental feature.\n",
            "  tensor = torch.load(tensor_path)  # Load preprocessed tensor\n",
            "100%|██████████| 8/8 [00:06<00:00,  1.24it/s]"
          ]
        },
        {
          "output_type": "stream",
          "name": "stdout",
          "text": [
            "Zero-shot CLIP classification accuracy: 10.38%\n"
          ]
        },
        {
          "output_type": "stream",
          "name": "stderr",
          "text": [
            "\n"
          ]
        }
      ]
    },
    {
      "cell_type": "markdown",
      "source": [
        "###wikiart linear probe"
      ],
      "metadata": {
        "id": "6uUKYEwfl6MJ"
      }
    },
    {
      "cell_type": "code",
      "source": [
        "#로지스틱 회귀 적합(LP)\n",
        "import os\n",
        "import torch\n",
        "from torch.utils.data import DataLoader, Dataset\n",
        "import clip\n",
        "import torch.nn as nn\n",
        "import torch.optim as optim\n",
        "from tqdm import tqdm\n",
        "\n",
        "device = \"cuda\" if torch.cuda.is_available() else \"cpu\"\n",
        "model, preprocess = clip.load(\"ViT-B/32\", device=device)\n",
        "\n",
        "class TensorDataset(Dataset):\n",
        "    def __init__(self, tensor_folder, class_names):\n",
        "        self.tensor_folder = tensor_folder\n",
        "        self.class_names = class_names\n",
        "        self.tensor_files = [os.path.join(tensor_folder, file) for file in os.listdir(tensor_folder) if file.endswith(\".pt\")]\n",
        "\n",
        "    def __len__(self):\n",
        "        return len(self.tensor_files)\n",
        "\n",
        "    def __getitem__(self, idx):\n",
        "        tensor_path = self.tensor_files[idx]\n",
        "        tensor = torch.load(tensor_path)\n",
        "        label = self.class_names.index(\" \".join(os.path.basename(tensor_path).split(\"_\")[:-1]))\n",
        "        return tensor, label\n",
        "\n",
        "tensor_folder = \"/content/dataset/pre_train\"\n",
        "class_names = [\n",
        "    \"Abstract Expressionism\", \"Action painting\", \"Analytical Cubism\", \"Art Nouveau Modern\", \"Baroque\", \"Color Field Painting\",\n",
        "    \"Contemporary Realism\", \"Cubism\", \"Early Renaissance\", \"Expressionism\", \"Fauvism\", \"High Renaissance\",\n",
        "    \"Impressionism\", \"Mannerism Late Renaissance\", \"Minimalism\", \"Naive Art Primitivism\", \"New Realism\",\n",
        "    \"Northern Renaissance\", \"Pointillism\", \"Pop Art\", \"Post Impressionism\", \"Realism\", \"Rococo\", \"Romanticism\",\n",
        "    \"Symbolism\", \"Synthetic Cubism\", \"Ukiyo e\"\n",
        "]\n",
        "dataset = TensorDataset(tensor_folder, class_names)\n",
        "dataloader = DataLoader(dataset, batch_size=256, shuffle=True)\n",
        "\n",
        "class LogisticRegression(nn.Module):\n",
        "    def __init__(self, input_dim, num_classes):\n",
        "        super(LogisticRegression, self).__init__()\n",
        "        self.fc = nn.Linear(input_dim, num_classes)\n",
        "\n",
        "    def forward(self, x):\n",
        "        return self.fc(x)\n",
        "\n",
        "logistic_regression = LogisticRegression(512, len(class_names)).to(device).half()\n",
        "\n",
        "for param in model.parameters():\n",
        "    param.requires_grad = False\n",
        "\n",
        "optimizer = optim.SGD(logistic_regression.parameters(), lr=1e-2, momentum=0.9)\n",
        "criterion = nn.CrossEntropyLoss()\n",
        "\n",
        "epochs = 20\n",
        "best_accuracy = 0\n",
        "\n",
        "for epoch in range(epochs):\n",
        "    logistic_regression.train()\n",
        "    train_loss = 0\n",
        "    correct = 0\n",
        "    total = 0\n",
        "\n",
        "    for images, labels in tqdm(dataloader):\n",
        "        images, labels = images.to(device), labels.to(device)\n",
        "\n",
        "        with torch.no_grad():\n",
        "            features = model.encode_image(images)\n",
        "\n",
        "        outputs = logistic_regression(features)\n",
        "        loss = criterion(outputs, labels)\n",
        "\n",
        "        optimizer.zero_grad()\n",
        "        loss.backward()\n",
        "        optimizer.step()\n",
        "\n",
        "        train_loss += loss.item()\n",
        "        _, preds = outputs.max(1)\n",
        "        correct += (preds == labels).sum().item()\n",
        "        total += labels.size(0)\n",
        "\n",
        "    train_accuracy = correct / total * 100\n",
        "    print(f\"Epoch {epoch + 1}/{epochs}, Loss: {train_loss:.4f}, Train Accuracy: {train_accuracy:.2f}%\")"
      ],
      "metadata": {
        "colab": {
          "base_uri": "https://localhost:8080/"
        },
        "id": "R9cQvF-a-3FH",
        "outputId": "3a0c52a9-e714-4eb5-dc68-b2de1336d499"
      },
      "execution_count": 73,
      "outputs": [
        {
          "output_type": "stream",
          "name": "stderr",
          "text": [
            "\r  0%|          | 0/30 [00:00<?, ?it/s]<ipython-input-73-bfbd862109f2>:25: FutureWarning: You are using `torch.load` with `weights_only=False` (the current default value), which uses the default pickle module implicitly. It is possible to construct malicious pickle data which will execute arbitrary code during unpickling (See https://github.com/pytorch/pytorch/blob/main/SECURITY.md#untrusted-models for more details). In a future release, the default value for `weights_only` will be flipped to `True`. This limits the functions that could be executed during unpickling. Arbitrary objects will no longer be allowed to be loaded via this mode unless they are explicitly allowlisted by the user via `torch.serialization.add_safe_globals`. We recommend you start setting `weights_only=True` for any use case where you don't have full control of the loaded file. Please open an issue on GitHub for any issues related to this experimental feature.\n",
            "  tensor = torch.load(tensor_path)  # Load preprocessed tensor\n",
            "100%|██████████| 30/30 [00:06<00:00,  4.65it/s]\n"
          ]
        },
        {
          "output_type": "stream",
          "name": "stdout",
          "text": [
            "Epoch 1/20, Loss: 91.5566, Train Accuracy: 16.44%\n"
          ]
        },
        {
          "output_type": "stream",
          "name": "stderr",
          "text": [
            "100%|██████████| 30/30 [00:06<00:00,  4.84it/s]\n"
          ]
        },
        {
          "output_type": "stream",
          "name": "stdout",
          "text": [
            "Epoch 2/20, Loss: 73.1992, Train Accuracy: 40.39%\n"
          ]
        },
        {
          "output_type": "stream",
          "name": "stderr",
          "text": [
            "100%|██████████| 30/30 [00:06<00:00,  4.84it/s]\n"
          ]
        },
        {
          "output_type": "stream",
          "name": "stdout",
          "text": [
            "Epoch 3/20, Loss: 62.3828, Train Accuracy: 47.18%\n"
          ]
        },
        {
          "output_type": "stream",
          "name": "stderr",
          "text": [
            "100%|██████████| 30/30 [00:06<00:00,  4.75it/s]\n"
          ]
        },
        {
          "output_type": "stream",
          "name": "stdout",
          "text": [
            "Epoch 4/20, Loss: 56.0615, Train Accuracy: 51.67%\n"
          ]
        },
        {
          "output_type": "stream",
          "name": "stderr",
          "text": [
            "100%|██████████| 30/30 [00:06<00:00,  4.85it/s]\n"
          ]
        },
        {
          "output_type": "stream",
          "name": "stdout",
          "text": [
            "Epoch 5/20, Loss: 52.0947, Train Accuracy: 53.22%\n"
          ]
        },
        {
          "output_type": "stream",
          "name": "stderr",
          "text": [
            "100%|██████████| 30/30 [00:06<00:00,  4.85it/s]\n"
          ]
        },
        {
          "output_type": "stream",
          "name": "stdout",
          "text": [
            "Epoch 6/20, Loss: 49.2539, Train Accuracy: 54.45%\n"
          ]
        },
        {
          "output_type": "stream",
          "name": "stderr",
          "text": [
            "100%|██████████| 30/30 [00:06<00:00,  4.77it/s]\n"
          ]
        },
        {
          "output_type": "stream",
          "name": "stdout",
          "text": [
            "Epoch 7/20, Loss: 46.8301, Train Accuracy: 56.40%\n"
          ]
        },
        {
          "output_type": "stream",
          "name": "stderr",
          "text": [
            "100%|██████████| 30/30 [00:06<00:00,  4.85it/s]\n"
          ]
        },
        {
          "output_type": "stream",
          "name": "stdout",
          "text": [
            "Epoch 8/20, Loss: 45.0010, Train Accuracy: 56.86%\n"
          ]
        },
        {
          "output_type": "stream",
          "name": "stderr",
          "text": [
            "100%|██████████| 30/30 [00:06<00:00,  4.73it/s]\n"
          ]
        },
        {
          "output_type": "stream",
          "name": "stdout",
          "text": [
            "Epoch 9/20, Loss: 43.6328, Train Accuracy: 58.23%\n"
          ]
        },
        {
          "output_type": "stream",
          "name": "stderr",
          "text": [
            "100%|██████████| 30/30 [00:06<00:00,  4.73it/s]\n"
          ]
        },
        {
          "output_type": "stream",
          "name": "stdout",
          "text": [
            "Epoch 10/20, Loss: 42.3213, Train Accuracy: 59.02%\n"
          ]
        },
        {
          "output_type": "stream",
          "name": "stderr",
          "text": [
            "100%|██████████| 30/30 [00:06<00:00,  4.63it/s]\n"
          ]
        },
        {
          "output_type": "stream",
          "name": "stdout",
          "text": [
            "Epoch 11/20, Loss: 41.4775, Train Accuracy: 59.36%\n"
          ]
        },
        {
          "output_type": "stream",
          "name": "stderr",
          "text": [
            "100%|██████████| 30/30 [00:06<00:00,  4.73it/s]\n"
          ]
        },
        {
          "output_type": "stream",
          "name": "stdout",
          "text": [
            "Epoch 12/20, Loss: 40.3770, Train Accuracy: 59.88%\n"
          ]
        },
        {
          "output_type": "stream",
          "name": "stderr",
          "text": [
            "100%|██████████| 30/30 [00:06<00:00,  4.71it/s]\n"
          ]
        },
        {
          "output_type": "stream",
          "name": "stdout",
          "text": [
            "Epoch 13/20, Loss: 39.7139, Train Accuracy: 60.29%\n"
          ]
        },
        {
          "output_type": "stream",
          "name": "stderr",
          "text": [
            "100%|██████████| 30/30 [00:06<00:00,  4.71it/s]\n"
          ]
        },
        {
          "output_type": "stream",
          "name": "stdout",
          "text": [
            "Epoch 14/20, Loss: 39.0449, Train Accuracy: 60.83%\n"
          ]
        },
        {
          "output_type": "stream",
          "name": "stderr",
          "text": [
            "100%|██████████| 30/30 [00:06<00:00,  4.81it/s]\n"
          ]
        },
        {
          "output_type": "stream",
          "name": "stdout",
          "text": [
            "Epoch 15/20, Loss: 38.4111, Train Accuracy: 61.32%\n"
          ]
        },
        {
          "output_type": "stream",
          "name": "stderr",
          "text": [
            "100%|██████████| 30/30 [00:06<00:00,  4.79it/s]\n"
          ]
        },
        {
          "output_type": "stream",
          "name": "stdout",
          "text": [
            "Epoch 16/20, Loss: 37.6445, Train Accuracy: 61.72%\n"
          ]
        },
        {
          "output_type": "stream",
          "name": "stderr",
          "text": [
            "100%|██████████| 30/30 [00:06<00:00,  4.82it/s]\n"
          ]
        },
        {
          "output_type": "stream",
          "name": "stdout",
          "text": [
            "Epoch 17/20, Loss: 37.2100, Train Accuracy: 62.10%\n"
          ]
        },
        {
          "output_type": "stream",
          "name": "stderr",
          "text": [
            "100%|██████████| 30/30 [00:06<00:00,  4.60it/s]\n"
          ]
        },
        {
          "output_type": "stream",
          "name": "stdout",
          "text": [
            "Epoch 18/20, Loss: 36.8867, Train Accuracy: 62.62%\n"
          ]
        },
        {
          "output_type": "stream",
          "name": "stderr",
          "text": [
            "100%|██████████| 30/30 [00:06<00:00,  4.78it/s]\n"
          ]
        },
        {
          "output_type": "stream",
          "name": "stdout",
          "text": [
            "Epoch 19/20, Loss: 36.2803, Train Accuracy: 62.59%\n"
          ]
        },
        {
          "output_type": "stream",
          "name": "stderr",
          "text": [
            "100%|██████████| 30/30 [00:06<00:00,  4.83it/s]"
          ]
        },
        {
          "output_type": "stream",
          "name": "stdout",
          "text": [
            "Epoch 20/20, Loss: 36.0703, Train Accuracy: 63.18%\n"
          ]
        },
        {
          "output_type": "stream",
          "name": "stderr",
          "text": [
            "\n"
          ]
        }
      ]
    },
    {
      "cell_type": "code",
      "source": [
        "#로지스틱 회귀 test데이터셋 평가 코드\n",
        "from sklearn.metrics import classification_report, accuracy_score\n",
        "from tqdm import tqdm\n",
        "\n",
        "def evaluate_model(model, dataloader, class_names):\n",
        "    model.eval()\n",
        "    all_preds = []\n",
        "    all_labels = []\n",
        "\n",
        "    with torch.no_grad():\n",
        "        for images, labels in tqdm(dataloader, desc=\"Evaluating\"):\n",
        "            images, labels = images.to(device), labels.to(device)\n",
        "\n",
        "            features = model.encode_image(images)\n",
        "\n",
        "            outputs = logistic_regression(features)\n",
        "            preds = outputs.argmax(dim=1).cpu().numpy()\n",
        "\n",
        "            all_preds.extend(preds)\n",
        "            all_labels.extend(labels.cpu().numpy())\n",
        "\n",
        "    print(f\"Collected {len(all_preds)} predictions and {len(all_labels)} labels.\")\n",
        "\n",
        "    if not all_preds or not all_labels:\n",
        "        raise ValueError(\"No predictions or labels collected. Check the dataset and dataloader!\")\n",
        "\n",
        "    accuracy = accuracy_score(all_labels, all_preds)\n",
        "    print(f\"Accuracy: {accuracy * 100:.2f}%\")\n",
        "\n",
        "    print(\"\\nClassification Report:\")\n",
        "    print(classification_report(all_labels, all_preds, target_names=class_names))\n",
        "\n",
        "test_tensor_folder = \"/content/dataset/processed_dataset\"\n",
        "test_dataset = TensorDataset(test_tensor_folder, class_names)\n",
        "test_dataloader = DataLoader(test_dataset, batch_size=256, shuffle=False)\n",
        "\n",
        "evaluate_model(model, test_dataloader, class_names)"
      ],
      "metadata": {
        "colab": {
          "base_uri": "https://localhost:8080/"
        },
        "id": "eBc3S7C3B5_z",
        "outputId": "71d3a9d2-ce56-4f35-d430-4aa2ce554b12"
      },
      "execution_count": 77,
      "outputs": [
        {
          "output_type": "stream",
          "name": "stderr",
          "text": [
            "\rEvaluating:   0%|          | 0/62 [00:00<?, ?it/s]<ipython-input-73-bfbd862109f2>:25: FutureWarning: You are using `torch.load` with `weights_only=False` (the current default value), which uses the default pickle module implicitly. It is possible to construct malicious pickle data which will execute arbitrary code during unpickling (See https://github.com/pytorch/pytorch/blob/main/SECURITY.md#untrusted-models for more details). In a future release, the default value for `weights_only` will be flipped to `True`. This limits the functions that could be executed during unpickling. Arbitrary objects will no longer be allowed to be loaded via this mode unless they are explicitly allowlisted by the user via `torch.serialization.add_safe_globals`. We recommend you start setting `weights_only=True` for any use case where you don't have full control of the loaded file. Please open an issue on GitHub for any issues related to this experimental feature.\n",
            "  tensor = torch.load(tensor_path)  # Load preprocessed tensor\n",
            "Evaluating: 100%|██████████| 62/62 [00:13<00:00,  4.51it/s]"
          ]
        },
        {
          "output_type": "stream",
          "name": "stdout",
          "text": [
            "Collected 15860 predictions and 15860 labels.\n",
            "Accuracy: 52.07%\n",
            "\n",
            "Classification Report:\n",
            "                            precision    recall  f1-score   support\n",
            "\n",
            "    Abstract Expressionism       0.63      0.56      0.59       512\n",
            "           Action painting       0.67      0.27      0.39        22\n",
            "         Analytical Cubism       0.79      0.52      0.63        21\n",
            "        Art Nouveau Modern       0.58      0.48      0.52       841\n",
            "                   Baroque       0.64      0.55      0.59       835\n",
            "      Color Field Painting       0.65      0.77      0.70       312\n",
            "      Contemporary Realism       0.15      0.67      0.25        96\n",
            "                    Cubism       0.46      0.61      0.53       423\n",
            "         Early Renaissance       0.49      0.74      0.59       280\n",
            "             Expressionism       0.54      0.28      0.37      1286\n",
            "                   Fauvism       0.19      0.69      0.30       182\n",
            "          High Renaissance       0.42      0.43      0.42       271\n",
            "             Impressionism       0.68      0.61      0.64      2536\n",
            "Mannerism Late Renaissance       0.31      0.61      0.41       249\n",
            "                Minimalism       0.66      0.75      0.70       268\n",
            "     Naive Art Primitivism       0.41      0.49      0.45       467\n",
            "               New Realism       0.11      0.59      0.19        63\n",
            "      Northern Renaissance       0.63      0.62      0.62       509\n",
            "               Pointillism       0.25      0.80      0.38       105\n",
            "                   Pop Art       0.49      0.72      0.58       288\n",
            "        Post Impressionism       0.44      0.28      0.35      1246\n",
            "                   Realism       0.57      0.47      0.52      2120\n",
            "                    Rococo       0.49      0.67      0.57       419\n",
            "               Romanticism       0.60      0.48      0.53      1378\n",
            "                 Symbolism       0.49      0.50      0.49       855\n",
            "          Synthetic Cubism       0.35      0.55      0.42        44\n",
            "                   Ukiyo e       0.85      0.96      0.90       232\n",
            "\n",
            "                  accuracy                           0.52     15860\n",
            "                 macro avg       0.50      0.58      0.51     15860\n",
            "              weighted avg       0.56      0.52      0.53     15860\n",
            "\n"
          ]
        },
        {
          "output_type": "stream",
          "name": "stderr",
          "text": [
            "\n"
          ]
        }
      ]
    },
    {
      "cell_type": "markdown",
      "source": [
        "###wikiart prompting"
      ],
      "metadata": {
        "id": "Pqx5HAvYHLvv"
      }
    }
  ],
  "metadata": {
    "colab": {
      "provenance": [],
      "gpuType": "A100",
      "collapsed_sections": [
        "BMR_l0WKeJcC",
        "9jbFghUxeMql",
        "_SO-tk0zo2Dh",
        "_p9-kqmOOkPI",
        "ECKFAZN_UoEG",
        "-PuGx4mensNY"
      ],
      "machine_shape": "hm"
    },
    "kernelspec": {
      "display_name": "Python 3",
      "name": "python3"
    },
    "language_info": {
      "name": "python"
    },
    "accelerator": "GPU"
  },
  "nbformat": 4,
  "nbformat_minor": 0
}